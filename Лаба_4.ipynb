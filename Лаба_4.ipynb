{
  "nbformat": 4,
  "nbformat_minor": 0,
  "metadata": {
    "colab": {
      "provenance": [],
      "collapsed_sections": [],
      "authorship_tag": "ABX9TyPnIXYr4n4i02wn1IzRMT1N",
      "include_colab_link": true
    },
    "kernelspec": {
      "name": "python3",
      "display_name": "Python 3"
    },
    "language_info": {
      "name": "python"
    }
  },
  "cells": [
    {
      "cell_type": "markdown",
      "metadata": {
        "id": "view-in-github",
        "colab_type": "text"
      },
      "source": [
        "<a href=\"https://colab.research.google.com/github/KharlamovaAnn/AnnKharlamovaADEU/blob/main/%D0%9B%D0%B0%D0%B1%D0%B0_4.ipynb\" target=\"_parent\"><img src=\"https://colab.research.google.com/assets/colab-badge.svg\" alt=\"Open In Colab\"/></a>"
      ]
    },
    {
      "cell_type": "markdown",
      "source": [
        "№ 4.2.1\n",
        "\n",
        "Рассчитать значение f при заданном значении вещественного числа x:\n",
        "\n",
        "![image.png](data:image/png;base64,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)\n",
        "\n",
        "При выводе на экран оставьте 2 знака после запятой."
      ],
      "metadata": {
        "id": "LsASx9snJII8"
      }
    },
    {
      "cell_type": "code",
      "execution_count": null,
      "metadata": {
        "colab": {
          "base_uri": "https://localhost:8080/"
        },
        "id": "8IBHDGxaJDDP",
        "outputId": "1eebd9ab-712b-4bef-f5d0-535177c80081"
      },
      "outputs": [
        {
          "output_type": "stream",
          "name": "stdout",
          "text": [
            "10\n",
            "Получившийся результат 103.16\n"
          ]
        }
      ],
      "source": [
        "# Программирование на языке высокого уровня (Python).\n",
        "# https://www.yuripetrov.ru/edu/python\n",
        "# Задание task_04_02_01.\n",
        "#\n",
        "# Выполнил: Харламова Анна\n",
        "# Группа: АДЭУ-221\n",
        "# E-mail: Supricon@yandex.ru\n",
        "\n",
        "\n",
        "x = float(input())\n",
        "\n",
        "if x >= 0:\n",
        "    f = (x ** (1 / 2)) + (x ** 2)\n",
        "else:\n",
        "    f = 1 / x\n",
        "\n",
        "print(\"Получившийся результат\", round(f, 2))\n",
        "\n",
        "# --------------\n",
        "# Пример вывода:\n",
        "#\n",
        "# Введите число x: -10\n",
        "# f = -0.10\n",
        "\n",
        "# Введите число x: 0\n",
        "# f = 0.00\n",
        "\n",
        "# Введите число x: 10\n",
        "# f = 103.16\n"
      ]
    },
    {
      "cell_type": "markdown",
      "source": [
        "№ 4.2.2\n",
        "\n",
        "Определите максимальное и минимальное значения из двух различных целых чисел."
      ],
      "metadata": {
        "id": "ACSUKgO1NrNL"
      }
    },
    {
      "cell_type": "code",
      "source": [
        "# Программирование на языке высокого уровня (Python).\n",
        "# https://www.yuripetrov.ru/edu/python\n",
        "# Задание task_04_02_02.\n",
        "#\n",
        "# Выполнил: Харламова Анна\n",
        "# Группа: АДЭУ-221\n",
        "# E-mail: Supricon@yandex.ru\n",
        "\n",
        "\n",
        "a1 = int(input(\"Введите первое целое число\"))\n",
        "a2 = int(input(\"Ввведите второе целое число\"))\n",
        "\n",
        "if a1!=a2:\n",
        "    if a1>a2:\n",
        "        print(\"Максимум\", a1, \"Минимум\", a2)\n",
        "    else:\n",
        "        print(\"Максимум\", a2, \"Минимум\", a1)\n",
        "\n",
        "\n",
        "# --------------\n",
        "# Пример вывода:\n",
        "#\n",
        "# Введите первое число: 1\n",
        "# Введите второе число: 2\n",
        "# Максимум: 2, минимум: 1\n",
        "\n",
        "# Введите первое число: 5\n",
        "# Введите второе число: 5\n",
        "# Максимум: 5, минимум: 5\n",
        "\n",
        "# Введите первое число: 100\n",
        "# Введите второе число: -1\n",
        "# Максимум: 100, минимум: -1\n"
      ],
      "metadata": {
        "colab": {
          "base_uri": "https://localhost:8080/"
        },
        "id": "95rwiD6vOfM4",
        "outputId": "d6de5331-3cd3-4ef8-effa-47b9a9e5a118"
      },
      "execution_count": null,
      "outputs": [
        {
          "output_type": "stream",
          "name": "stdout",
          "text": [
            "Введите первое целое число100\n",
            "Ввведите второе целое число-1\n",
            "Максимум 100 Минимум -1\n"
          ]
        }
      ]
    },
    {
      "cell_type": "markdown",
      "source": [
        "№ 4.2.3\n",
        "\n",
        "Вася пытается высунуть голову в форточку размерами a и b см. Приняв условно, что его голова - круглая диаметром d см, определите, сможет ли Вася сделать это. Для прохождения головы в форточку необходим зазор в 1 см. с каждой стороны.\n",
        "\n",
        "Все величины - целые числа."
      ],
      "metadata": {
        "id": "4pYypteXTxse"
      }
    },
    {
      "cell_type": "code",
      "source": [
        "# Программирование на языке высокого уровня (Python).\n",
        "# https://www.yuripetrov.ru/edu/python\n",
        "# Задание task_04_02_03.\n",
        "#\n",
        "# Выполнил: Харламова Анна\n",
        "# Группа: АДЭУ-221\n",
        "# E-mail: Supricon@yandex.ru\n",
        "\n",
        "\n",
        "a=int(input(\"Введите ширину окна\"))\n",
        "b=int(input(\"Введите высоту окна\"))\n",
        "d=int(input(\"Введите диаметр головы\"))\n",
        "if ((a or b or d)<0) :\n",
        "  print(\"Неверные данные\")\n",
        "else:\n",
        "  if (a-1>d) and (b-1>d) :\n",
        "    print(\"Да\")\n",
        "  else:\n",
        "    print(\"Нет\")\n",
        "\n",
        "# --------------\n",
        "# Пример вывода:\n",
        "#\n",
        "# Ширина форточки: 5\n",
        "# Высота форточки: 6\n",
        "# Диаметр головы: 6\n",
        "# Нет\n",
        "\n",
        "# Ширина форточки: 6\n",
        "# Высота форточки: 7\n",
        "# Диаметр головы: 4\n",
        "# Да\n",
        "\n"
      ],
      "metadata": {
        "id": "Z97NqC5FT3wm",
        "outputId": "79716279-f73e-4217-bf4d-64b5635c0187",
        "colab": {
          "base_uri": "https://localhost:8080/"
        }
      },
      "execution_count": null,
      "outputs": [
        {
          "output_type": "stream",
          "name": "stdout",
          "text": [
            "Введите ширину окна6\n",
            "Введите высоту окна7\n",
            "Введите диаметр головы4\n",
            "Да\n"
          ]
        }
      ]
    },
    {
      "cell_type": "markdown",
      "source": [
        "№ 4.2.4\n",
        "\n",
        "Известны год и номер месяца сегодняшнего дня, а также год и номер месяца рождения человека (нумерация месяцев с 1: январь - 1 и т.д.). Определите возраст человека (число полных лет)."
      ],
      "metadata": {
        "id": "itOZs0ts5bEq"
      }
    },
    {
      "cell_type": "code",
      "source": [
        "# Программирование на языке высокого уровня (Python).\n",
        "# https://www.yuripetrov.ru/edu/python\n",
        "# Задание task_04_02_04.\n",
        "#\n",
        "# Выполнил: Харламова Анна\n",
        "# Группа: АДЭУ-221\n",
        "# E-mail: Supricon@yandex.ru\n",
        "\n",
        "a=int(input(\"Введите номер месяца сегодняшнего дня\"))\n",
        "b=int(input(\"Введите год сегодняшнего дня\"))\n",
        "d=int(input(\"Введите номер месяца рождения человека\"))\n",
        "c=int(input(\"Введите год рождения человека\"))\n",
        "t=(b-c)\n",
        "if d>=a:\n",
        "  print(t-1)\n",
        "else:\n",
        "  print(t)\n",
        "\n",
        "  \n",
        "# --------------\n",
        "# Пример вывода:\n",
        "#\n",
        "# Введите номер месяца сегодняшнего дня: 5\n",
        "# Введите год сегодняшнего дня: 2017\n",
        "# Введите номер месяца рождения человека: 1\n",
        "# Введите год рождения человека: 2000\n",
        "# Число полных лет:  17\n",
        "#\n",
        "# Введите номер месяца сегодняшнего дня: 6\n",
        "# Введите год сегодняшнего дня: 2015\n",
        "# Введите номер месяца рождения человека: 8\n",
        "# Введите год рождения человека: 2010\n",
        "# Число полных лет:  4\n"
      ],
      "metadata": {
        "colab": {
          "base_uri": "https://localhost:8080/"
        },
        "id": "pwgDxq-W6FYj",
        "outputId": "66ab71cf-1c37-43ed-a69c-3a6af7e8b8f5"
      },
      "execution_count": null,
      "outputs": [
        {
          "output_type": "stream",
          "name": "stdout",
          "text": [
            "Введите номер месяца сегодняшнего дня5\n",
            "Введите год сегодняшнего дня2017\n",
            "Введите номер месяца рождения человека1\n",
            "Введите год рождения человека2000\n",
            "17\n"
          ]
        }
      ]
    },
    {
      "cell_type": "markdown",
      "source": [
        "№ 4.2.5\n",
        "\n",
        "Дана точка с целыми ненулевыми координатами (x;y). Определить номер четверти координатной плоскости, которой она принадлежит."
      ],
      "metadata": {
        "id": "jc9F6lWl_gwL"
      }
    },
    {
      "cell_type": "code",
      "source": [
        "# Программирование на языке высокого уровня (Python).\n",
        "# https://www.yuripetrov.ru/edu/python\n",
        "# Задание task_04_02_05.\n",
        "#\n",
        "# Выполнил: Харламова Анна\n",
        "# Группа: АДЭУ-221\n",
        "# E-mail: Supricon@yandex.ru\n",
        "\n",
        "\n",
        "x=int(input(\"Введите x\"))\n",
        "y=int(input(\"Введите y\"))\n",
        "if (x>0) and (y>0) :\n",
        "  print(\"1-я четверть\")\n",
        "elif (x<0) and (y>0):\n",
        "  print(\"2-я четверть\")\n",
        "elif (x<0) and (y<0) :\n",
        "  print (\"3-я четверть\")\n",
        "elif (x>0) and (y<0):\n",
        "  print(\"4-я четверть\")\n",
        "else:\n",
        "  print(\"Точка находится на оси х или у\")\n",
        "\n",
        "# --------------\n",
        "# Пример вывода:\n",
        "#\n",
        "# Введите x: 5\n",
        "# Введите y: 7\n",
        "# 1-я четверть\n"
      ],
      "metadata": {
        "id": "Jql05pqu_l9Y",
        "outputId": "a88b904d-89b9-4a9f-a953-d243ab9ab8c8",
        "colab": {
          "base_uri": "https://localhost:8080/"
        }
      },
      "execution_count": null,
      "outputs": [
        {
          "output_type": "stream",
          "name": "stdout",
          "text": [
            "Введите x5\n",
            "Введите y7\n",
            "1-я четверть\n"
          ]
        }
      ]
    },
    {
      "cell_type": "markdown",
      "source": [
        "№ 4.2.6\n",
        "\n",
        "Даны вещественные числа a, b, c (a≠0).\n",
        "\n",
        "Решите уравнение ax^2+bx+c=0. При выводе значений оставьте 1 знак после запятой."
      ],
      "metadata": {
        "id": "ocGfP-_m_mjC"
      }
    },
    {
      "cell_type": "code",
      "source": [
        "# Программирование на языке высокого уровня (Python).\n",
        "# https://www.yuripetrov.ru/edu/python\n",
        "# Задание task_04_02_06.\n",
        "#\n",
        "# Выполнил: Харламова Анна\n",
        "# Группа: АДЭУ-221\n",
        "# E-mail: Supricon@yandex.ru\n",
        "\n",
        "\n",
        "a=float(input(\"Введите значение a\"))\n",
        "b=float(input(\"Введите значение b\"))\n",
        "c=float(input(\"Введите значение c\"))\n",
        "d=((b**2)-(4*a*c))\n",
        "if d<0:\n",
        "  print(\"Нет решений\")\n",
        "elif d==0:\n",
        "    x=((-b)/2*a)\n",
        "    print(\"x = \", x)\n",
        "elif d>0:\n",
        "    x1=(((-b)+(d**(1/2)))/2*a)\n",
        "    x2=(((-b)-(d**(1/2)))/2*a)\n",
        "    print(\"x1 = \", x1, \"x2 = \", x2)\n",
        "\n",
        "# --------------\n",
        "# Пример вывода:\n",
        "#\n",
        "# a = 1\n",
        "# b = 2\n",
        "# c = 3\n",
        "# Нет решений\n",
        "#\n",
        "# a = 1\n",
        "# b = 2\n",
        "# c = 1\n",
        "# x = -1.0\n",
        "#\n",
        "# a = 1\n",
        "# b = 3\n",
        "# c = -4\n",
        "# x1 = 1.0, x2 = -4.0\n"
      ],
      "metadata": {
        "id": "LEOj6yGU_sDq",
        "outputId": "b4f63f0b-18d5-4411-ea84-544e4a4ef294",
        "colab": {
          "base_uri": "https://localhost:8080/"
        }
      },
      "execution_count": null,
      "outputs": [
        {
          "output_type": "stream",
          "name": "stdout",
          "text": [
            "Введите значение a1\n",
            "Введите значение b3\n",
            "Введите значение c-4\n",
            "x1 =  1.0 x2 =  -4.0\n"
          ]
        }
      ]
    },
    {
      "cell_type": "markdown",
      "source": [
        "№ 4.2.7\n",
        "\n",
        "Дана непустая последовательность целых чисел, оканчивающаяся нулем. Найти сумму и количество введенных чисел."
      ],
      "metadata": {
        "id": "rFDZwt0v_sf4"
      }
    },
    {
      "cell_type": "code",
      "source": [
        "# Программирование на языке высокого уровня (Python).\n",
        "# https://www.yuripetrov.ru/edu/python\n",
        "# Задание task_04_02_07.\n",
        "#\n",
        "# Выполнил: Харламова Анна\n",
        "# Группа: АДЭУ-221\n",
        "# E-mail: Supricon@yandex.ru\n",
        "\n",
        "\n",
        "nums_count=0\n",
        "nums_sum=0\n",
        "x=int(input(\"Введите первое число\"))\n",
        "while x!=0:\n",
        "  nums_count=nums_count+1\n",
        "  nums_sum=nums_sum+x\n",
        "  x=int(input(\"Введите новoе число\"))\n",
        "print (\"Сумма=\", nums_sum)\n",
        "print (\"Количество\", nums_count)\n",
        "\n",
        "# --------------\n",
        "# Пример вывода:\n",
        "#\n",
        "# Введите первое число: 1\n",
        "# Введите новое число: 2\n",
        "# Введите новое число: 3\n",
        "# Введите новое число: 4\n",
        "# Введите новое число: 0\n",
        "# Сумма = 10\n",
        "# Количество = 4\n",
        "#\n",
        "# Введите 1-е число: 0\n",
        "# Сумма = 0\n",
        "# Количество = 0\n",
        "\n"
      ],
      "metadata": {
        "id": "h8DuVld7_xMm",
        "outputId": "71790bed-0368-47f5-a9c8-81e413e34b5f",
        "colab": {
          "base_uri": "https://localhost:8080/"
        }
      },
      "execution_count": null,
      "outputs": [
        {
          "output_type": "stream",
          "name": "stdout",
          "text": [
            "Введите первое число1\n",
            "Введите новoе число2\n",
            "Введите новoе число3\n",
            "Введите новoе число4\n",
            "Введите новoе число0\n",
            "Сумма= 10\n",
            "Количество 4\n"
          ]
        }
      ]
    },
    {
      "cell_type": "markdown",
      "source": [
        "№ 4.2.8\n",
        "\n",
        "Дано число n. Из чисел 0,5,10,15,20,25,... напечатать те, которые не превышают n."
      ],
      "metadata": {
        "id": "GWUgI5_8_9Wi"
      }
    },
    {
      "cell_type": "code",
      "source": [
        "# Программирование на языке высокого уровня (Python).\n",
        "# https://www.yuripetrov.ru/edu/python\n",
        "# Задание task_04_02_08.\n",
        "#\n",
        "# Выполнил: Харламова Анна\n",
        "# Группа: АДЭУ-221\n",
        "# E-mail: Supricon@yandex.ru\n",
        "\n",
        "\n",
        "n=int(input(\"Введите целое число\"))\n",
        "x=0\n",
        "name=[ ]\n",
        "while x<=n:\n",
        " name.append(x)\n",
        " x=x+5\n",
        "print(name)\n",
        "\n",
        "# --------------\n",
        "# Пример вывода:\n",
        "#\n",
        "# n = 0\n",
        "# 0\n",
        "#\n",
        "# n = 10\n",
        "# 0\n",
        "# 5\n",
        "# 10\n",
        "#\n",
        "# n = 12\n",
        "# 0\n",
        "# 5\n",
        "# 10\n",
        "\n"
      ],
      "metadata": {
        "id": "GuZvH1aPACgL",
        "outputId": "7cb5555d-8cae-42cb-84f7-2090671202a7",
        "colab": {
          "base_uri": "https://localhost:8080/"
        }
      },
      "execution_count": null,
      "outputs": [
        {
          "output_type": "stream",
          "name": "stdout",
          "text": [
            "Введите целое число12\n",
            "[0, 5, 10]\n"
          ]
        }
      ]
    },
    {
      "cell_type": "markdown",
      "source": [
        "№ 4.2.9\n",
        "\n",
        "Дано вещественное число a. Найдите наименьшее натуральное n, для которого верно\n",
        "\n",
        "1+1/2+1/3+...+1/n>a"
      ],
      "metadata": {
        "id": "gt7OpUJPDcIv"
      }
    },
    {
      "cell_type": "code",
      "source": [
        "# Программирование на языке высокого уровня (Python).\n",
        "# https://www.yuripetrov.ru/edu/python\n",
        "# Задание task_04_02_09.\n",
        "#\n",
        "# Выполнил: Харламова Анна\n",
        "# Группа: АДЭУ-221\n",
        "# E-mail: Supricon@yandex.ru\n",
        "\n",
        "\n",
        "a=float(input(\"Введите вещественное число\"))\n",
        "n=1\n",
        "x_sum=list( )\n",
        "x_sum.append(n)\n",
        "while sum(x_sum)<=a: \n",
        "    n=n+1\n",
        "    g=1/n\n",
        "    x_sum.append(g) \n",
        "print(n)\n",
        "\n",
        "# --------------\n",
        "# Пример вывода:\n",
        "#\n",
        "# a = 1.5\n",
        "# n = 3\n",
        "#\n",
        "# a = 2\n",
        "# n = 4\n"
      ],
      "metadata": {
        "id": "pxP8eNKTEJnv",
        "outputId": "b71287bf-0525-4894-90cf-63a48a1c52de",
        "colab": {
          "base_uri": "https://localhost:8080/"
        }
      },
      "execution_count": null,
      "outputs": [
        {
          "output_type": "stream",
          "name": "stdout",
          "text": [
            "Введите число2\n",
            "4\n"
          ]
        }
      ]
    },
    {
      "cell_type": "markdown",
      "source": [
        "№ 4.2.10\n",
        "\n",
        "Дано натуральное число. Определите сумму и количество его цифр."
      ],
      "metadata": {
        "id": "hqdkDsN-ERDn"
      }
    },
    {
      "cell_type": "code",
      "source": [
        "# Программирование на языке высокого уровня (Python).\n",
        "# https://www.yuripetrov.ru/edu/python\n",
        "# Задание task_04_02_10.\n",
        "#\n",
        "# Выполнил: Харламова Анна\n",
        "# Группа: АДЭУ-221\n",
        "# E-mail: Supricon@yandex.ru\n",
        "\n",
        "\n",
        "n=list(map(int, input(\"Введите целое натуральное число\")))\n",
        "n_sum = sum(n) \n",
        "n_count = len(n)\n",
        "print(\"Сумма\", n_sum)\n",
        "print(\"Количество\", n_count)\n",
        "\n",
        "# --------------\n",
        "# Пример вывода:\n",
        "#\n",
        "# n = 12345\n",
        "# Сумма = 15\n",
        "# Количество = 5"
      ],
      "metadata": {
        "id": "u8P9GabUElTy",
        "outputId": "27785482-a6d0-4ef5-cb13-0ca8f6588492",
        "colab": {
          "base_uri": "https://localhost:8080/"
        }
      },
      "execution_count": null,
      "outputs": [
        {
          "output_type": "stream",
          "name": "stdout",
          "text": [
            "Введите целое натуральное число12345\n",
            "Сумма 15\n",
            "Количество 5\n"
          ]
        }
      ]
    },
    {
      "cell_type": "markdown",
      "source": [
        "№ 4.2.11\n",
        "\n",
        "Вывести в строку 10 первых натуральных чисел, оканчивающихся на цифру k, кратных числу s и находящихся в интервале, левая граница которого равна start."
      ],
      "metadata": {
        "id": "8WGNuY3pEl0J"
      }
    },
    {
      "cell_type": "code",
      "source": [
        "# Программирование на языке высокого уровня (Python).\n",
        "# https://www.yuripetrov.ru/edu/python\n",
        "# Задание task_04_02_11.\n",
        "#\n",
        "# Выполнил: Харламова Анна\n",
        "# Группа: АДЭУ-221\n",
        "# E-mail: Supricon@yandex.ru\n",
        "\n",
        "\n",
        "start=int(input(\"Введите значение левой границы\")) \n",
        "k=int(input(\"Введите цифру, на которую будут заканчиваться числа\")) \n",
        "s=int(input(\"Введите цифру, которой будут кратны числа\")) \n",
        "need=list()\n",
        "while start%s!=0: \n",
        "    start += 1\n",
        "else:\n",
        "    for x in range(99):\n",
        "        start += 1\n",
        "        while start%s!=0:\n",
        "            start += 1\n",
        "        else:\n",
        "            if start%10==k:\n",
        "                need.append(start)\n",
        "print(need[:10])\n",
        "\n",
        "\n",
        "# --------------\n",
        "# Пример вывода:\n",
        "#\n",
        "# start = 100\n",
        "# k = 7\n",
        "# s = 9\n",
        "# 117 207 297 387 477 567 657 747 837 927\n"
      ],
      "metadata": {
        "id": "pXGQ1kVRE0XS",
        "outputId": "2eea31bd-b4bf-46b6-92a5-b9da8abbbea3",
        "colab": {
          "base_uri": "https://localhost:8080/"
        }
      },
      "execution_count": null,
      "outputs": [
        {
          "output_type": "stream",
          "name": "stdout",
          "text": [
            "Введите значение левой границы100\n",
            "Введите цифру, на которую будут заканчиваться числа7\n",
            "Введите цифру, которой будут кратны числа9\n",
            "[117, 207, 297, 387, 477, 567, 657, 747, 837, 927]\n"
          ]
        }
      ]
    },
    {
      "cell_type": "markdown",
      "source": [
        "№ 4.2.12\n",
        "\n",
        "Даны целые числа a и b (a может быть больше b). Напечатайте:\n",
        "\n",
        "*   числа от минимального до максимального в строчку (разделяя пробелом);\n",
        "*   числа от максимального до минимального «столбиком»."
      ],
      "metadata": {
        "id": "4wBLhqyrFROQ"
      }
    },
    {
      "cell_type": "code",
      "source": [
        "# Программирование на языке высокого уровня (Python).\n",
        "# https://www.yuripetrov.ru/edu/python\n",
        "# Задание task_04_02_12.\n",
        "#\n",
        "# Выполнил: Харламова Анна\n",
        "# Группа: АДЭУ-221\n",
        "# E-mail: Supricon@yandex.ru\n",
        "\n",
        "\n",
        "a=int(input(\"Введите целое число\"))\n",
        "b=int(input(\"Введите целое число\"))\n",
        "name=[ ]\n",
        "word=[ ]\n",
        "if(a>b):\n",
        "  while (b<=a):\n",
        "    name.append(b)\n",
        "    b=b+1\n",
        "  print(name)\n",
        "  name.reverse()\n",
        "  print(*name,sep =\"\\n\")\n",
        "else:\n",
        "  while (a<=b):\n",
        "    name.append(a)\n",
        "    a=a+1\n",
        "  print(name)\n",
        "  name.reverse()\n",
        "  print(*name,sep =\"\\n\")\n",
        "\n",
        "# --------------\n",
        "# Пример вывода:\n",
        "#\n",
        "# a = 1\n",
        "# b = 5\n",
        "# 1 2 3 4 5\n",
        "# 5\n",
        "# 4\n",
        "# 3\n",
        "# 2\n",
        "# 1\n"
      ],
      "metadata": {
        "id": "dMcI08mmFjnQ",
        "outputId": "063bceee-8f30-497f-c95f-9d5b5d899bd0",
        "colab": {
          "base_uri": "https://localhost:8080/"
        }
      },
      "execution_count": null,
      "outputs": [
        {
          "output_type": "stream",
          "name": "stdout",
          "text": [
            "введите целое число1\n",
            "введите целое число5\n",
            "[1, 2, 3, 4, 5]\n",
            "5\n",
            "4\n",
            "3\n",
            "2\n",
            "1\n"
          ]
        }
      ]
    },
    {
      "cell_type": "markdown",
      "source": [
        "№ 4.2.13\n",
        "\n",
        "Для введенных с клавиатуры положительных целых чисел a и b (a≤b) определите:\n",
        "\n",
        "\n",
        "* сумму всех целых чисел от a до b\n",
        "*  произведение всех целых чисел от a до b;\n",
        "*  среднее арифметическое всех целых чисел от a до b;\n",
        "*  среднее геометрическое нечетных чисел от a до b.\n",
        "\n",
        "Отрезок поиска включает сами числа a и b. При выводе вещественных результатов оставьте два знака после запятой."
      ],
      "metadata": {
        "id": "27t0gklIFtb2"
      }
    },
    {
      "cell_type": "code",
      "source": [
        "# Программирование на языке высокого уровня (Python).\n",
        "# https://www.yuripetrov.ru/edu/python\n",
        "# Задание task_04_02_13.\n",
        "#\n",
        "# Выполнил: Харламова Анна\n",
        "# Группа: АДЭУ-221\n",
        "# E-mail: Supricon@yandex.ru\n",
        "\n",
        "\n",
        "a=int(input(\"Введите число\"))\n",
        "b=int(input(\"Введите число, больше предыдущего\"))\n",
        "ls=list(range(a,b+1,1))\n",
        "n_sum=sum(ls)\n",
        "n_mult=1\n",
        "a = 0\n",
        "while a<len(ls):\n",
        "    n_mult=n_mult*ls[a]\n",
        "    a += 1\n",
        "n_avg=n_sum/len(ls)\n",
        "print(\"Сумма = \", n_sum)\n",
        "print(\"Произведение = \", n_mult)\n",
        "print(\"Среднее арифметическое = \", n_avg)\n",
        "b=0\n",
        "c=0\n",
        "n_avg_geom=1\n",
        "while b<len(ls):\n",
        "    if ls[b]%2==1:\n",
        "        n_avg_geom=n_avg_geom*ls[b]\n",
        "        b += 2\n",
        "        c += 1\n",
        "    else:\n",
        "        b += 1\n",
        "n_avg_geom=round((n_avg_geom**(1/c)),2)\n",
        "print(\"Среднее геометрическое нечетных чисел = \", n_avg_geom)\n",
        "\n",
        "# --------------\n",
        "# Пример вывода:\n",
        "#\n",
        "# a = 1\n",
        "# b = 5\n",
        "# Сумма = 15\n",
        "# Произведение = 120\n",
        "# Среднее арифметическое = 3.00\n",
        "# Среднее геометрическое нечетных чисел = 2.47\n"
      ],
      "metadata": {
        "id": "r8OhlVKSGgSz",
        "outputId": "6a93d321-87ce-4284-c6d6-1c40a5a4a298",
        "colab": {
          "base_uri": "https://localhost:8080/"
        }
      },
      "execution_count": null,
      "outputs": [
        {
          "output_type": "stream",
          "name": "stdout",
          "text": [
            "Введите число1\n",
            "Введите число, больше предыдущего5\n",
            "Сумма =  15\n",
            "Произведение =  120\n",
            "Среднее арифметическое =  3.0\n",
            "Среднее геометрическое нечетных чисел =  2.47\n"
          ]
        }
      ]
    },
    {
      "cell_type": "markdown",
      "source": [
        "№ 4.2.14\n",
        "\n",
        "Начав тренировки, лыжник в первый день пробежал s км. (s>0, вещественное число). Каждый следующий день он увеличивал пробег на p % (0<p≤100, вещественное число) от пробега предыдущего дня. Определите:\n",
        "\n",
        "*  пробег лыжника за второй, третий, …, десятый день тренировок;\n",
        "*  какой суммарный путь он пробежал за первые 10 дней тренировок.\n",
        "\n",
        "При выводе вещественных результатов оставьте один знак после запятой."
      ],
      "metadata": {
        "id": "g52OOHMoGpzo"
      }
    },
    {
      "cell_type": "code",
      "source": [
        "# Программирование на языке высокого уровня (Python).\n",
        "# https://www.yuripetrov.ru/edu/python\n",
        "# Задание task_04_02_14.\n",
        "#\n",
        "# Выполнил: Харламова Анна\n",
        "# Группа: АДЭУ-221\n",
        "# E-mail: Supricon@yandex.ru\n",
        "\n",
        "\n",
        "s=float(input(\"Введите количество км за первый день\"))\n",
        "p=float(input(\"Введите процент увеличения пробега\"))\n",
        "i=list() \n",
        "i.append(s) \n",
        "g=0\n",
        "d=1\n",
        "for x in range(9):\n",
        "    s=((s*(p/100))+s)+0.0001\n",
        "    d += 1\n",
        "    i.append(s)\n",
        "    print(\"Пробег за\", d, \"день\", round(s,1), \"км\")\n",
        "total=sum(i)\n",
        "print(\"Суммарный пробег\", round(total,1), \"км\")\n",
        "\n",
        "# --------------\n",
        "# Пример вывода:\n",
        "#\n",
        "# Пробег за 1-й день (км.) = 5\n",
        "# На сколько увеличивает пробег (%) = 10\n",
        "# Пробег за 2-й день: 5.5 км.\n",
        "# Пробег за 3-й день: 6.1 км.\n",
        "# Пробег за 4-й день: 6.7 км.\n",
        "# Пробег за 5-й день: 7.3 км.\n",
        "# Пробег за 6-й день: 8.1 км.\n",
        "# Пробег за 7-й день: 8.9 км.\n",
        "# Пробег за 8-й день: 9.7 км.\n",
        "# Пробег за 9-й день: 10.7 км.\n",
        "# Пробег за 10-й день: 11.8 км.\n",
        "# Суммарный пробег: 79.7 км.\n"
      ],
      "metadata": {
        "id": "s09UEYOTHBBr",
        "outputId": "75d7856c-e7db-40f3-ed1f-614bcaa13420",
        "colab": {
          "base_uri": "https://localhost:8080/"
        }
      },
      "execution_count": null,
      "outputs": [
        {
          "output_type": "stream",
          "name": "stdout",
          "text": [
            "Введите количество км за первый день5\n",
            "Введите процент увеличения пробега10\n",
            "Пробег за 2 день 5.5 км\n",
            "Пробег за 3 день 6.1 км\n",
            "Пробег за 4 день 6.7 км\n",
            "Пробег за 5 день 7.3 км\n",
            "Пробег за 6 день 8.1 км\n",
            "Пробег за 7 день 8.9 км\n",
            "Пробег за 8 день 9.7 км\n",
            "Пробег за 9 день 10.7 км\n",
            "Пробег за 10 день 11.8 км\n",
            "Суммарный пробег 79.7 км\n"
          ]
        }
      ]
    },
    {
      "cell_type": "markdown",
      "source": [
        "№ 4.2.15\n",
        "\n",
        "Известна масса каждого предмета в кг., загружаемого в грузовик. Определить, возможна ли перевозка груза, если грузоподъемность грузовика равна p кг."
      ],
      "metadata": {
        "id": "Sbs93Fi3HFdp"
      }
    },
    {
      "cell_type": "code",
      "source": [
        "# Программирование на языке высокого уровня (Python).\n",
        "# https://www.yuripetrov.ru/edu/python\n",
        "# Задание task_04_02_15.\n",
        "#\n",
        "# Выполнил: Харламова Анна\n",
        "# Группа: АДЭУ-221\n",
        "# E-mail: Supricon@yandex.ru\n",
        "\n",
        "\n",
        "p=int(input(\"Введите грузоподъемность грузовика\"))\n",
        "n=int(input(\"Введите количество предметов\"))\n",
        "amount = list() \n",
        "for x in range(n):\n",
        "    k=int(input(\"Введите массу предмета\"))\n",
        "    amount.append(k)\n",
        "if sum(amount)>=p:\n",
        "    print(\"Невозможна\")\n",
        "else:\n",
        "    print(\"Возможна\")\n",
        "\n",
        "# --------------\n",
        "# Пример вывода:\n",
        "#\n",
        "# Грузоподъемность грузовика = 10\n",
        "# Количество предметов = 2\n",
        "# Масса 1-го предмета = 3\n",
        "# Масса 2-го предмета = 3\n",
        "# Возможна\n"
      ],
      "metadata": {
        "id": "80jsMP-lHVy_",
        "outputId": "789ba38c-933d-4f76-e366-ca80aed0b8d0",
        "colab": {
          "base_uri": "https://localhost:8080/"
        }
      },
      "execution_count": null,
      "outputs": [
        {
          "output_type": "stream",
          "name": "stdout",
          "text": [
            "Введите грузоподъемность грузовика10\n",
            "Введите количество предметов2\n",
            "Введите массу предмета3\n",
            "Введите массу предмета3\n",
            "Возможна\n"
          ]
        }
      ]
    },
    {
      "cell_type": "markdown",
      "source": [
        "№ 4.2.16\n",
        "\n",
        "В области несколько районов. Заданы площади, засеваемые пшеницей (га.), и средняя урожайность (ц/га) в каждом районе.\n",
        "\n",
        "Определите количество пшеницы, собранное по области. При выводе вещественных результатов оставьте один знак после запятой."
      ],
      "metadata": {
        "id": "jzQZMxy7HaAA"
      }
    },
    {
      "cell_type": "code",
      "source": [
        "# Программирование на языке высокого уровня (Python).\n",
        "# https://www.yuripetrov.ru/edu/python\n",
        "# Задание task_04_02_16.\n",
        "#\n",
        "# Выполнил: Харламова Анна\n",
        "# Группа: АДЭУ-221\n",
        "# E-mail: Supricon@yandex.ru\n",
        "\n",
        "\n",
        "n=int(input(\"Введите количество районов\"))\n",
        "total=list() \n",
        "for x in range(n):4\n",
        "    s=float(input(\"Введите площадь района\")) \n",
        "    o=float(input(\"Введите урожайность в районе\")) \n",
        "    g=o*s\n",
        "    total.append(g)\n",
        "print(round(sum(total), 1))\n",
        "\n",
        "# --------------\n",
        "# Пример вывода:\n",
        "#\n",
        "# Количество районов = 3\n",
        "# Площадь 1-го района (га) = 4\n",
        "# Урожайность в 1-м районе (ц/га.) = 2\n",
        "# Площадь 2-го района (га) = 7\n",
        "# Урожайность в 2-м районе (ц/га.) = 3\n",
        "# Площадь 3-го района (га) = 9\n",
        "# Урожайность в 3-м районе (ц/га.) = 4\n",
        "# Собрано пшеницы: 65.0 ц.\n"
      ],
      "metadata": {
        "id": "pkQZbg53Hiyy",
        "outputId": "02379abe-fc68-47f0-c3e2-eccffbe9a3f5",
        "colab": {
          "base_uri": "https://localhost:8080/"
        }
      },
      "execution_count": null,
      "outputs": [
        {
          "output_type": "stream",
          "name": "stdout",
          "text": [
            "Введите количество районов3\n",
            "Введите площадь района4\n",
            "Введите урожайность в районе2\n",
            "Введите площадь района7\n",
            "Введите урожайность в районе3\n",
            "Введите площадь района9\n",
            "Введите урожайность в районе4\n",
            "65.0\n"
          ]
        }
      ]
    },
    {
      "cell_type": "markdown",
      "source": [
        "№ 4.2.17\n",
        "\n",
        "Решите задачу № 4.2.7, организовав бесконечный цикл, который бы прерывался при выполнении условия, используя оператор break."
      ],
      "metadata": {
        "id": "iDYD6oFwHnE9"
      }
    },
    {
      "cell_type": "code",
      "source": [
        "# Программирование на языке высокого уровня (Python).\n",
        "# https://www.yuripetrov.ru/edu/python\n",
        "# Задание task_04_02_17.\n",
        "#\n",
        "# Выполнил: Харламова Анна\n",
        "# Группа: АДЭУ-221\n",
        "# E-mail: Supricon@yandex.ru\n",
        "\n",
        "\n",
        "nums_count=0\n",
        "nums_sum=0\n",
        "x=int(input(\"введите первое число\"))\n",
        "while (x!=0):\n",
        "  nums_count=nums_count+1\n",
        "  nums_sum=nums_sum+x\n",
        "  x=int(input(\"введите новoе число\"))\n",
        "  if (x==0):\n",
        "    break\n",
        "print (\"сумма=\", nums_sum)\n",
        "print (\"количество\", nums_count)\n",
        "\n",
        "# --------------\n",
        "# Пример вывода:\n",
        "#\n",
        "# Введите 1-е число: 1\n",
        "# Введите 2-е число: 2\n",
        "# Введите 3-е число: 3\n",
        "# Введите 4-е число: 4\n",
        "# Введите 5-е число: 0\n",
        "# Сумма = 10\n",
        "# Количество = 4\n",
        "#\n",
        "# Введите 1-е число: 0\n",
        "# Сумма = 0\n",
        "# Количество = 0\n"
      ],
      "metadata": {
        "id": "xCa319C4Hx_W",
        "outputId": "6e1ed3ef-1e4d-4e44-f769-b2257c55e9b6",
        "colab": {
          "base_uri": "https://localhost:8080/"
        }
      },
      "execution_count": 2,
      "outputs": [
        {
          "output_type": "stream",
          "name": "stdout",
          "text": [
            "введите первое число1\n",
            "введите новoе число2\n",
            "введите новoе число3\n",
            "введите новoе число4\n",
            "введите новoе число0\n",
            "сумма= 10\n",
            "количество 4\n"
          ]
        }
      ]
    },
    {
      "cell_type": "markdown",
      "source": [
        "№ 4.2.18\n",
        "\n",
        "Предложение, введенное с клавиатуры, содержит слова из гласных и согласных букв кириллицы (регистр может быть различный), а также пробелы.\n",
        "\n",
        "Определите количество гласных и согласных букв в предложении. Для пропуска пробелов используйте оператор continue."
      ],
      "metadata": {
        "id": "-NFhOevZH5B2"
      }
    },
    {
      "cell_type": "code",
      "source": [
        "# Программирование на языке высокого уровня (Python).\n",
        "# https://www.yuripetrov.ru/edu/python\n",
        "# Задание task_04_02_18.\n",
        "#\n",
        "# Выполнил: Харламова Анна\n",
        "# Группа: АДЭУ-221\n",
        "# E-mail: Supricon@yandex.ru\n",
        "\n",
        "\n",
        "sentence=input(\"Введите предложение\")\n",
        "gl=0  \n",
        "sogl=0  \n",
        "b=0\n",
        "for x in sentence: \n",
        "    a = x.lower( )\n",
        "    if a == \"а\" or a == \"я\" or a == \"у\" or a == \"ю\" or a == \"о\" or a == \"е\" or a == \"ё\" or a == \"э\" or a == \"и\" or a == \"ы\":\n",
        "        gl = gl +1\n",
        "    elif  (a==\" \"):\n",
        "      b=b+0\n",
        "    else:\n",
        "      sogl=sogl+1\n",
        "print(\"Гласных\" , gl , \"Согласных\" , sogl)\n",
        "\n",
        "# --------------\n",
        "# Пример вывода:\n",
        "#\n",
        "# Введите предложение: Программирование\n",
        "# Кол-во букв в предложении: гласных - 7, согласных - 9\n"
      ],
      "metadata": {
        "id": "n7LIDFClH-bH",
        "outputId": "f5907e66-cd0b-4ed4-d59f-7ea99821ce78",
        "colab": {
          "base_uri": "https://localhost:8080/"
        }
      },
      "execution_count": 3,
      "outputs": [
        {
          "output_type": "stream",
          "name": "stdout",
          "text": [
            "Введите предложениеПрограммирование\n",
            "Гласных 7 Согласных 9\n"
          ]
        }
      ]
    },
    {
      "cell_type": "markdown",
      "source": [
        "№ 4.2.19\n",
        "\n",
        "Выведите на экран (в строку) все целые числа от a до b, кратные некоторому числу c.\n",
        "\n"
      ],
      "metadata": {
        "id": "5NPxwA73IHq_"
      }
    },
    {
      "cell_type": "code",
      "source": [
        "# Программирование на языке высокого уровня (Python).\n",
        "# https://www.yuripetrov.ru/edu/python\n",
        "# Задание task_04_02_19.\n",
        "#\n",
        "# Выполнил: Харламова Анна\n",
        "# Группа: АДЭУ-221\n",
        "# E-mail: Supricon@yandex.ru\n",
        "\n",
        "\n",
        "a=int(input(\"Введите первое число\"))\n",
        "b=int(input(\"Введите второе число\"))\n",
        "c=int(input(\"Введите третье число\"))\n",
        "g=list( )\n",
        "for x in range(a,b+1):\n",
        "    if x%c==0:\n",
        "        g.append(x)\n",
        "\n",
        "print(g)\n",
        "\n",
        "# --------------\n",
        "# Пример вывода:\n",
        "#\n",
        "# a = 1\n",
        "# b = 10\n",
        "# c = 2\n",
        "# 2 4 6 8 10\n"
      ],
      "metadata": {
        "id": "ZQEEhUkFITZg",
        "outputId": "604364db-cf9b-486b-bade-269251688e01",
        "colab": {
          "base_uri": "https://localhost:8080/"
        }
      },
      "execution_count": 5,
      "outputs": [
        {
          "output_type": "stream",
          "name": "stdout",
          "text": [
            "Введите первое число1\n",
            "Введите второе число10\n",
            "Введите третье число2\n",
            "[2, 4, 6, 8, 10]\n"
          ]
        }
      ]
    },
    {
      "cell_type": "markdown",
      "source": [
        "№ 4.2.20\n",
        "\n",
        "Выведите на экран (в строку) все трехзначные натуральные числа, сумма цифр которых равна целому числу n (0<n≤27)."
      ],
      "metadata": {
        "id": "_0ns99i4IW5i"
      }
    },
    {
      "cell_type": "code",
      "source": [
        "# Программирование на языке высокого уровня (Python).\n",
        "# https://www.yuripetrov.ru/edu/python\n",
        "# Задание task_04_02_20.\n",
        "#\n",
        "# Выполнил: Харламова Анна\n",
        "# Группа: АДЭУ-221\n",
        "# E-mail: Supricon@yandex.ru\n",
        "\n",
        "\n",
        "n=int(input(\"Введите число\"))\n",
        "g=list( )\n",
        "for x in range(100, 1000):\n",
        "    a=sum(int(e) for e in str(x))\n",
        "    if a==n:\n",
        "        g.append(x)\n",
        "\n",
        "# --------------\n",
        "# Пример вывода:\n",
        "#\n",
        "# n = 3\n",
        "# 102 111 120 201 210 300\n"
      ],
      "metadata": {
        "id": "H3IIn9KtIdjG",
        "outputId": "e9fd68ac-8340-4abd-f454-97fd279e35b4",
        "colab": {
          "base_uri": "https://localhost:8080/"
        }
      },
      "execution_count": 8,
      "outputs": [
        {
          "name": "stdout",
          "output_type": "stream",
          "text": [
            "Введите число3\n"
          ]
        }
      ]
    },
    {
      "cell_type": "markdown",
      "source": [
        "№ 4.2.21\n",
        "\n",
        "Известно количество учеников в классе и их рост (см.); рост мальчиков условно задан отрицательными числами. Определите средний рост мальчиков и средний рост девочек."
      ],
      "metadata": {
        "id": "M3XVBnMLIqXO"
      }
    },
    {
      "cell_type": "code",
      "source": [
        "# Программирование на языке высокого уровня (Python).\n",
        "# https://www.yuripetrov.ru/edu/python\n",
        "# Задание task_04_02_21.\n",
        "#\n",
        "# Выполнил: Харламова Анна\n",
        "# Группа: АДЭУ-221\n",
        "# E-mail: Supricon@yandex.ru"
      ],
      "metadata": {
        "id": "-ko0KdBYIrdK"
      },
      "execution_count": null,
      "outputs": []
    },
    {
      "cell_type": "markdown",
      "source": [
        "№ 4.2.22\n",
        "\n",
        "Даны n вещественных чисел. Определите максимальное и минимальное из них.\n",
        "\n",
        "При выводе вещественных результатов оставьте два знака после запятой."
      ],
      "metadata": {
        "id": "x_Jribi9IuR1"
      }
    },
    {
      "cell_type": "code",
      "source": [
        "# Программирование на языке высокого уровня (Python).\n",
        "# https://www.yuripetrov.ru/edu/python\n",
        "# Задание task_04_02_22.\n",
        "#\n",
        "# Выполнил: Харламова Анна\n",
        "# Группа: АДЭУ-221\n",
        "# E-mail: Supricon@yandex.ru"
      ],
      "metadata": {
        "id": "UJC-gw3RIyy0"
      },
      "execution_count": null,
      "outputs": []
    },
    {
      "cell_type": "markdown",
      "source": [
        "№ 4.2.23\n",
        "\n",
        "Дано натуральное число n. Определите, является ли оно членом последовательности Фибоначчи ."
      ],
      "metadata": {
        "id": "UV8Nq8_MI6WT"
      }
    },
    {
      "cell_type": "code",
      "source": [
        "# Программирование на языке высокого уровня (Python).\n",
        "# https://www.yuripetrov.ru/edu/python\n",
        "# Задание task_04_02_23.\n",
        "#\n",
        "# Выполнил: Харламова Анна\n",
        "# Группа: АДЭУ-221\n",
        "# E-mail: Supricon@yandex.ru"
      ],
      "metadata": {
        "id": "_iYVdmTbI7-1"
      },
      "execution_count": null,
      "outputs": []
    },
    {
      "cell_type": "markdown",
      "source": [
        "№ 4.2.24\n",
        "\n",
        "Дано n вещественных чисел. Определите, является ли последовательность упорядоченной по возрастанию. В случае отрицательного ответа выведите порядковый номер числа, нарушающего такую упорядоченность."
      ],
      "metadata": {
        "id": "56QaC765JFWz"
      }
    },
    {
      "cell_type": "code",
      "source": [
        "# Программирование на языке высокого уровня (Python).\n",
        "# https://www.yuripetrov.ru/edu/python\n",
        "# Задание task_04_02_24.\n",
        "#\n",
        "# Выполнил: Харламова Анна\n",
        "# Группа: АДЭУ-221\n",
        "# E-mail: Supricon@yandex.ru"
      ],
      "metadata": {
        "id": "lJ_nf662JJDt"
      },
      "execution_count": null,
      "outputs": []
    },
    {
      "cell_type": "markdown",
      "source": [
        "№ 4.2.25\n",
        "\n",
        "Выведите на экран таблицу умножения на n (2<n≤9) в виде:\n",
        "\n",
        "![image.png](data:image/png;base64,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)"
      ],
      "metadata": {
        "id": "C0un0e-zJMPz"
      }
    },
    {
      "cell_type": "code",
      "source": [
        "# Программирование на языке высокого уровня (Python).\n",
        "# https://www.yuripetrov.ru/edu/python\n",
        "# Задание task_04_02_25.\n",
        "#\n",
        "# Выполнил: Харламова Анна\n",
        "# Группа: АДЭУ-221\n",
        "# E-mail: Supricon@yandex.ru"
      ],
      "metadata": {
        "id": "I5aHeGY6JeUD"
      },
      "execution_count": null,
      "outputs": []
    },
    {
      "cell_type": "markdown",
      "source": [
        "№ 4.2.26\n",
        "\n",
        "Выведите графическое изображения делимости чисел от 1 до n (значение n вводится с клавиатуры) - в каждой строке напечатайте очередное число и столько символов *, сколько делителей у этого числа.\n",
        "\n",
        "Например, если n=4, на экране должно быть напечатано:\n",
        "\n",
        "![image.png](data:image/png;base64,iVBORw0KGgoAAAANSUhEUgAAAH8AAACMCAYAAABVu3akAAAFbUlEQVR4nO2dsYrrRhSG/xvyBgmocmM3qlTlFRYG6SEM28uoEuwTGKYSUn/B5X0AmYFt7jOoUuNtlkAGkjdYSArZjr1Z33itGVvy+T/Ywl5bEnzSzLF9fs2Xt7e3v3//wyL49RcQWfx06wMgt4PyBUP5gqF8wVC+YChfMJQvGMoXDOULhvIFQ/mCoXzBUL5gKF8wlC8YyhcM5QuG8gVD+YKhfMGMTr6tM6iyufVh3AXe5Ns6g1IKSpXoraopkdV2/zCcBdunFXgeXI57+U0JpRSWeEQautmkfX1BW82hshrdKWBRZwr5Gnh5tf/zbnKKn51uzdbIckAbgwgW9bObzQZJAZN0V3peAUCONtYwReRmB0JxKz9IUBinWyQeGUXBt6sf8pcUOg0RphrpSw6l1FEtQD7HKOQHkynCdAVTJOhKvQBJYaBjYDoJbnx048XtsO+LaIHD6b3dWAABooUBZ/3LGYf8A4KkAMsKN4xi2Cd+oHzBUL5gvri9OYNFnc1RtSf+HaZY7St2cmscyydjgsO+YChfMJQvGMoXDOULhvIFQ/mCoXzBUL5gKF8wlC8YyhcM5QtmdPLPj2s1KFUGNveexoP8Lk3TRbW2f30zVWfHtSzq7DAeNsUkQBcm2ad9yA7H8rtmjueHFYwx3Z+OgXXe6wQ4P65lsWnXyNXBSdGUUPMKbbuh/HdcpZmjKRXydYh0VSDp0cbTbWf7INYwixON27ZGNq/QNRT13++9cpU5P5g5SmwSp1xFvt2cauo78/1nx7UalEpBzStMtUaMGFpPUc0dRcXvDP/ybY2vawDhA367cOg9P64VYBbG0MZgPyNEC5hVijCcsXH0HZ4TOw3K7dwbP/bo2j07rhUgKRYHj1/waoEoSFAUl+78fvFY8P3bxh2mKxSsuAaHp2Gf4seAF/lNuQ1uxJriB4xz+fvP4j/6HE4Ggds5/+jLlQ9gXGtQMK4lmNH9qkfcQfmCoXzBUL5gKF8wlC8YyhcM5QuG8gVD+YKhfMFQvmAoXzCjk8+4lju8NHMcRbUY1xoszrt3o4WBOWygtTWyeQ6Fyzt79nGt5xT6ATjqEZxZINq1h3RxrUqtEWvdPdWUUF1rEbqeX7LjinGtGNoseq2MwbiWW6435zM0MTj8y29K5Ot+oQ3GtfzgJbFj6wzzg5vuh+kKfRp5u7jWE4okgK2fsYtrTUqF7x/FtYoFIjQogW1ca4Zsyfn+PVeY8xuUKsca/ed8YHtibR7PKB4blOorZpzvT3Kd7t1tAQamdwbFdQq+YILpVXZEPsN15DffsQZXvxwaV8nnZ/kaiHWvoo+4x3G1vyvuDgmRrgwKXvSDg3EtwYzuVz3iDsoXDOULhvIFQ/mCoXzBUL5gKF8wlC8YyhcM5QuG8gVD+YIZnXwvca2mPFi/Rw5+5dsa2TaylfUJzfmIa9ka2eGbpxN0L836HeuI8Cjfol7+4D68n9mSj9W17AbtOj/q529KhXnVbhdzuH+8NXN0vftAqh/wnLvp3PUR1zrKGAi7MbSfK9/WWFYtwvSJPfMDxs+KmssKbZjiyZF5L3GtpoRSCvNqCq1jINbQ0wpzF5HykeBcvq2XqNoQ6ZO74dPL6lrBDGGsYQ5SRNHCYJWG+4Ly3nHbvbsf7lduh3sfq2sFCY5f+gqLCEFSQMpCXE7lN9+64X7lcaIPkgLmrFdGWJgzNUYLnPvSe8Jhtf9Rz/5/4Wpbw8F/3z5DmoNldF/vEndQvmAY1xIMr3zBUL5gKF8wlC8YyhcM5QuG8gVD+YKhfMFQvmAoXzCULxjKFwzlC4byBUP5gqF8wVC+YChfMJQvGMoXDOULhvIFsw9q2j//uuVxkBvwD/GqzATBvvvYAAAAAElFTkSuQmCC)"
      ],
      "metadata": {
        "id": "VmszG0GlJyV5"
      }
    },
    {
      "cell_type": "code",
      "source": [
        "# Программирование на языке высокого уровня (Python).\n",
        "# https://www.yuripetrov.ru/edu/python\n",
        "# Задание task_04_02_26.\n",
        "#\n",
        "# Выполнил: Харламова Анна\n",
        "# Группа: АДЭУ-221\n",
        "# E-mail: Supricon@yandex.ru"
      ],
      "metadata": {
        "id": "35SoqBIAJ_zU"
      },
      "execution_count": null,
      "outputs": []
    },
    {
      "cell_type": "markdown",
      "source": [
        "№ 4.2.27\n",
        "\n",
        "Выведите на экран (в строку) n первых простых чисел."
      ],
      "metadata": {
        "id": "nSsiMYwRKEp9"
      }
    },
    {
      "cell_type": "code",
      "source": [
        "# Программирование на языке высокого уровня (Python).\n",
        "# https://www.yuripetrov.ru/edu/python\n",
        "# Задание task_04_02_27.\n",
        "#\n",
        "# Выполнил: Харламова Анна\n",
        "# Группа: АДЭУ-221\n",
        "# E-mail: Supricon@yandex.ru"
      ],
      "metadata": {
        "id": "XsJdQOsPKK5e"
      },
      "execution_count": null,
      "outputs": []
    },
    {
      "cell_type": "markdown",
      "source": [
        "№ 4.2.28\n",
        "\n",
        "Составьте программу для нахождения всех натуральных решений уравнения x^2+y^2+z^2=k^2, где x, y, z ∈ [1,30], а k вводится с клавиатуры."
      ],
      "metadata": {
        "id": "tJSMW2yeKXEm"
      }
    },
    {
      "cell_type": "code",
      "source": [
        "# Программирование на языке высокого уровня (Python).\n",
        "# https://www.yuripetrov.ru/edu/python\n",
        "# Задание task_04_02_28.\n",
        "#\n",
        "# Выполнил: Харламова Анна\n",
        "# Группа: АДЭУ-221\n",
        "# E-mail: Supricon@yandex.ru"
      ],
      "metadata": {
        "id": "UIuBAWveK_5E"
      },
      "execution_count": null,
      "outputs": []
    }
  ]
}