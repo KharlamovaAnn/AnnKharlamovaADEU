{
  "nbformat": 4,
  "nbformat_minor": 0,
  "metadata": {
    "colab": {
      "provenance": [],
      "collapsed_sections": [],
      "authorship_tag": "ABX9TyNPHs5T/iJP5Gf77pvVRtMY",
      "include_colab_link": true
    },
    "kernelspec": {
      "name": "python3",
      "display_name": "Python 3"
    },
    "language_info": {
      "name": "python"
    }
  },
  "cells": [
    {
      "cell_type": "markdown",
      "metadata": {
        "id": "view-in-github",
        "colab_type": "text"
      },
      "source": [
        "<a href=\"https://colab.research.google.com/github/KharlamovaAnn/AnnKharlamovaADEU/blob/main/%D0%9B%D0%B0%D0%B1%D0%B0_4.ipynb\" target=\"_parent\"><img src=\"https://colab.research.google.com/assets/colab-badge.svg\" alt=\"Open In Colab\"/></a>"
      ]
    },
    {
      "cell_type": "markdown",
      "source": [
        "№ 4.2.1\n",
        "\n",
        "Рассчитать значение f при заданном значении вещественного числа x:\n",
        "\n",
        "![image.png](data:image/png;base64,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)\n",
        "\n",
        "При выводе на экран оставьте 2 знака после запятой."
      ],
      "metadata": {
        "id": "LsASx9snJII8"
      }
    },
    {
      "cell_type": "code",
      "execution_count": null,
      "metadata": {
        "colab": {
          "base_uri": "https://localhost:8080/"
        },
        "id": "8IBHDGxaJDDP",
        "outputId": "1eebd9ab-712b-4bef-f5d0-535177c80081"
      },
      "outputs": [
        {
          "output_type": "stream",
          "name": "stdout",
          "text": [
            "10\n",
            "Получившийся результат 103.16\n"
          ]
        }
      ],
      "source": [
        "# Программирование на языке высокого уровня (Python).\n",
        "# https://www.yuripetrov.ru/edu/python\n",
        "# Задание task_04_02_01.\n",
        "#\n",
        "# Выполнил: Харламова Анна\n",
        "# Группа: АДЭУ-221\n",
        "# E-mail: Supricon@yandex.ru\n",
        "\n",
        "\n",
        "x = float(input())\n",
        "\n",
        "if x >= 0:\n",
        "    f = (x ** (1 / 2)) + (x ** 2)\n",
        "else:\n",
        "    f = 1 / x\n",
        "\n",
        "print(\"Получившийся результат\", round(f, 2))\n",
        "\n",
        "# --------------\n",
        "# Пример вывода:\n",
        "#\n",
        "# Введите число x: -10\n",
        "# f = -0.10\n",
        "\n",
        "# Введите число x: 0\n",
        "# f = 0.00\n",
        "\n",
        "# Введите число x: 10\n",
        "# f = 103.16\n"
      ]
    },
    {
      "cell_type": "markdown",
      "source": [
        "№ 4.2.2\n",
        "\n",
        "Определите максимальное и минимальное значения из двух различных целых чисел."
      ],
      "metadata": {
        "id": "ACSUKgO1NrNL"
      }
    },
    {
      "cell_type": "code",
      "source": [
        "# Программирование на языке высокого уровня (Python).\n",
        "# https://www.yuripetrov.ru/edu/python\n",
        "# Задание task_04_02_02.\n",
        "#\n",
        "# Выполнил: Харламова Анна\n",
        "# Группа: АДЭУ-221\n",
        "# E-mail: Supricon@yandex.ru\n",
        "\n",
        "\n",
        "a1 = int(input(\"Введите первое целое число\"))\n",
        "a2 = int(input(\"Ввведите второе целое число\"))\n",
        "\n",
        "if a1!=a2:\n",
        "    if a1>a2:\n",
        "        print(\"Максимум\", a1, \"Минимум\", a2)\n",
        "    else:\n",
        "        print(\"Максимум\", a2, \"Минимум\", a1)\n",
        "\n",
        "\n",
        "# --------------\n",
        "# Пример вывода:\n",
        "#\n",
        "# Введите первое число: 1\n",
        "# Введите второе число: 2\n",
        "# Максимум: 2, минимум: 1\n",
        "\n",
        "# Введите первое число: 5\n",
        "# Введите второе число: 5\n",
        "# Максимум: 5, минимум: 5\n",
        "\n",
        "# Введите первое число: 100\n",
        "# Введите второе число: -1\n",
        "# Максимум: 100, минимум: -1\n"
      ],
      "metadata": {
        "colab": {
          "base_uri": "https://localhost:8080/"
        },
        "id": "95rwiD6vOfM4",
        "outputId": "d6de5331-3cd3-4ef8-effa-47b9a9e5a118"
      },
      "execution_count": null,
      "outputs": [
        {
          "output_type": "stream",
          "name": "stdout",
          "text": [
            "Введите первое целое число100\n",
            "Ввведите второе целое число-1\n",
            "Максимум 100 Минимум -1\n"
          ]
        }
      ]
    },
    {
      "cell_type": "markdown",
      "source": [
        "№ 4.2.3\n",
        "\n",
        "Вася пытается высунуть голову в форточку размерами a и b см. Приняв условно, что его голова - круглая диаметром d см, определите, сможет ли Вася сделать это. Для прохождения головы в форточку необходим зазор в 1 см. с каждой стороны.\n",
        "\n",
        "Все величины - целые числа."
      ],
      "metadata": {
        "id": "4pYypteXTxse"
      }
    },
    {
      "cell_type": "code",
      "source": [
        "# Программирование на языке высокого уровня (Python).\n",
        "# https://www.yuripetrov.ru/edu/python\n",
        "# Задание task_04_02_03.\n",
        "#\n",
        "# Выполнил: Харламова Анна\n",
        "# Группа: АДЭУ-221\n",
        "# E-mail: Supricon@yandex.ru\n",
        "\n",
        "\n"
      ],
      "metadata": {
        "id": "Z97NqC5FT3wm"
      },
      "execution_count": null,
      "outputs": []
    },
    {
      "cell_type": "markdown",
      "source": [
        "№ 4.2.4\n",
        "\n",
        "Известны год и номер месяца сегодняшнего дня, а также год и номер месяца рождения человека (нумерация месяцев с 1: январь - 1 и т.д.). Определите возраст человека (число полных лет)."
      ],
      "metadata": {
        "id": "itOZs0ts5bEq"
      }
    },
    {
      "cell_type": "code",
      "source": [
        "# Программирование на языке высокого уровня (Python).\n",
        "# https://www.yuripetrov.ru/edu/python\n",
        "# Задание task_04_02_04.\n",
        "#\n",
        "# Выполнил: Харламова Анна\n",
        "# Группа: АДЭУ-221\n",
        "# E-mail: Supricon@yandex.ru\n",
        "\n",
        "a=int(input(\"номер месяца сегодняшнего дня\"))\n",
        "b=int(input(\"год сегодняшнего дня\"))\n",
        "d=int(input(\"номер месяца рождения человека\"))\n",
        "c=int(input(\"год рождения человека\"))\n",
        "t=(b-c)\n",
        "if d>=a:\n",
        "  print(t-1)\n",
        "else:\n",
        "  print(t)"
      ],
      "metadata": {
        "colab": {
          "base_uri": "https://localhost:8080/"
        },
        "id": "pwgDxq-W6FYj",
        "outputId": "f5283e51-307e-4807-e9fc-f88d78fafbd6"
      },
      "execution_count": 8,
      "outputs": [
        {
          "output_type": "stream",
          "name": "stdout",
          "text": [
            "номер месяца сегодняшнего дня10\n",
            "год сегодняшнего дня2022\n",
            "номер месяца рождения человека9\n",
            "год рождения человека2004\n",
            "18\n"
          ]
        }
      ]
    },
    {
      "cell_type": "markdown",
      "source": [
        "№ 4.2.5\n",
        "\n",
        "Дана точка с целыми ненулевыми координатами (x;y). Определить номер четверти координатной плоскости, которой она принадлежит."
      ],
      "metadata": {
        "id": "jc9F6lWl_gwL"
      }
    },
    {
      "cell_type": "code",
      "source": [
        "# Программирование на языке высокого уровня (Python).\n",
        "# https://www.yuripetrov.ru/edu/python\n",
        "# Задание task_04_02_05.\n",
        "#\n",
        "# Выполнил: Харламова Анна\n",
        "# Группа: АДЭУ-221\n",
        "# E-mail: Supricon@yandex.ru"
      ],
      "metadata": {
        "id": "Jql05pqu_l9Y"
      },
      "execution_count": null,
      "outputs": []
    },
    {
      "cell_type": "markdown",
      "source": [
        "№ 4.2.6\n",
        "\n",
        "Даны вещественные числа a, b, c (a≠0).\n",
        "\n",
        "Решите уравнение ax2+bx+c=0. При выводе значений оставьте 1 знак после запятой."
      ],
      "metadata": {
        "id": "ocGfP-_m_mjC"
      }
    },
    {
      "cell_type": "code",
      "source": [
        "# Программирование на языке высокого уровня (Python).\n",
        "# https://www.yuripetrov.ru/edu/python\n",
        "# Задание task_04_02_06.\n",
        "#\n",
        "# Выполнил: Харламова Анна\n",
        "# Группа: АДЭУ-221\n",
        "# E-mail: Supricon@yandex.ru"
      ],
      "metadata": {
        "id": "LEOj6yGU_sDq"
      },
      "execution_count": null,
      "outputs": []
    },
    {
      "cell_type": "markdown",
      "source": [
        "№ 4.2.7\n",
        "\n",
        "Дана непустая последовательность целых чисел, оканчивающаяся нулем. Найти сумму и количество введенных чисел."
      ],
      "metadata": {
        "id": "rFDZwt0v_sf4"
      }
    },
    {
      "cell_type": "code",
      "source": [
        "# Программирование на языке высокого уровня (Python).\n",
        "# https://www.yuripetrov.ru/edu/python\n",
        "# Задание task_04_02_07.\n",
        "#\n",
        "# Выполнил: Харламова Анна\n",
        "# Группа: АДЭУ-221\n",
        "# E-mail: Supricon@yandex.ru"
      ],
      "metadata": {
        "id": "h8DuVld7_xMm"
      },
      "execution_count": null,
      "outputs": []
    },
    {
      "cell_type": "markdown",
      "source": [
        "№ 4.2.8\n",
        "\n",
        "Дано число n. Из чисел 0,5,10,15,20,25,... напечатать те, которые не превышают n."
      ],
      "metadata": {
        "id": "GWUgI5_8_9Wi"
      }
    },
    {
      "cell_type": "code",
      "source": [
        "# Программирование на языке высокого уровня (Python).\n",
        "# https://www.yuripetrov.ru/edu/python\n",
        "# Задание task_04_02_08.\n",
        "#\n",
        "# Выполнил: Харламова Анна\n",
        "# Группа: АДЭУ-221\n",
        "# E-mail: Supricon@yandex.ru"
      ],
      "metadata": {
        "id": "GuZvH1aPACgL"
      },
      "execution_count": null,
      "outputs": []
    }
  ]
}