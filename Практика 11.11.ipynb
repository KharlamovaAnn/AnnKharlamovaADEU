{
  "nbformat": 4,
  "nbformat_minor": 0,
  "metadata": {
    "colab": {
      "provenance": [],
      "authorship_tag": "ABX9TyPWctxxbKChO0Bhf9qmuqKC",
      "include_colab_link": true
    },
    "kernelspec": {
      "name": "python3",
      "display_name": "Python 3"
    },
    "language_info": {
      "name": "python"
    }
  },
  "cells": [
    {
      "cell_type": "markdown",
      "metadata": {
        "id": "view-in-github",
        "colab_type": "text"
      },
      "source": [
        "<a href=\"https://colab.research.google.com/github/KharlamovaAnn/AnnKharlamovaADEU/blob/main/%D0%9F%D1%80%D0%B0%D0%BA%D1%82%D0%B8%D0%BA%D0%B0%2011.11.ipynb\" target=\"_parent\"><img src=\"https://colab.research.google.com/assets/colab-badge.svg\" alt=\"Open In Colab\"/></a>"
      ]
    },
    {
      "cell_type": "code",
      "execution_count": null,
      "metadata": {
        "id": "fVE3fwnpTy8K"
      },
      "outputs": [],
      "source": [
        "# Date time\n",
        "\n",
        "from datetime import datetime\n",
        "\n",
        "now=datetime.now( )\n",
        "\n",
        "def print_date(date):\n",
        "      print(date.year)\n",
        "      print(date.month)\n",
        "      print(date.day)\n",
        "      print(date.hour)\n",
        "      print(date.minute)\n",
        "      print(date.second)\n",
        "      print(date.timestamp( ))"
      ]
    },
    {
      "cell_type": "code",
      "source": [
        "print_date(now)"
      ],
      "metadata": {
        "colab": {
          "base_uri": "https://localhost:8080/"
        },
        "id": "HEAU2GYDUiui",
        "outputId": "25c2e634-a40f-47f4-d354-e1852cfd5994"
      },
      "execution_count": null,
      "outputs": [
        {
          "output_type": "stream",
          "name": "stdout",
          "text": [
            "2022\n",
            "11\n",
            "11\n",
            "6\n",
            "17\n",
            "28\n",
            "1668147448.293455\n"
          ]
        }
      ]
    },
    {
      "cell_type": "code",
      "source": [
        "year_2023=datetime(2023, 1, 1)\n",
        "\n",
        "print_date(year_2023)"
      ],
      "metadata": {
        "colab": {
          "base_uri": "https://localhost:8080/"
        },
        "id": "PkNHUS4nVHMS",
        "outputId": "5fd8e79f-94a3-4eac-d039-0f2ad64f72d9"
      },
      "execution_count": null,
      "outputs": [
        {
          "output_type": "stream",
          "name": "stdout",
          "text": [
            "2023\n",
            "1\n",
            "1\n",
            "0\n",
            "0\n",
            "0\n",
            "1672531200.0\n"
          ]
        }
      ]
    },
    {
      "cell_type": "code",
      "source": [
        "# Operations with dates\n",
        "\n",
        "diff=year_2023-now\n",
        "print(diff)\n",
        "#diff=year_2023.date( )-current_date\n",
        "print(diff)\n"
      ],
      "metadata": {
        "id": "yK4JZW_jVlYA",
        "colab": {
          "base_uri": "https://localhost:8080/"
        },
        "outputId": "6c83cc8a-7808-409b-b334-df6b6a52dd9b"
      },
      "execution_count": 15,
      "outputs": [
        {
          "output_type": "stream",
          "name": "stdout",
          "text": [
            "50 days, 17:42:31.706545\n",
            "50 days, 17:42:31.706545\n"
          ]
        }
      ]
    },
    {
      "cell_type": "code",
      "source": [
        "# Date\n",
        "\n",
        "from datetime import date\n",
        "current_date=date.today( )\n",
        "\n",
        "print(current_date.year)\n",
        "print(current_date.month)\n",
        "print(current_date.day)\n",
        "\n",
        "current_date=date(2022, 11, 11)\n",
        "\n",
        "print(current_date.year)\n",
        "print(current_date.month)\n",
        "print(current_date.day)\n",
        "\n",
        "current_date=date(current_date.year, current_date.month+1, current_date.day)\n",
        "\n",
        "print(current_date.month)"
      ],
      "metadata": {
        "id": "MO9B53R1WY3N",
        "colab": {
          "base_uri": "https://localhost:8080/"
        },
        "outputId": "037acec8-b8e0-4508-a539-2820038a4038"
      },
      "execution_count": 20,
      "outputs": [
        {
          "output_type": "stream",
          "name": "stdout",
          "text": [
            "2022\n",
            "11\n",
            "11\n",
            "2022\n",
            "11\n",
            "11\n",
            "12\n"
          ]
        }
      ]
    },
    {
      "cell_type": "code",
      "source": [
        "# Time\n",
        "\n",
        "from datetime import time\n",
        "\n",
        "current_time=time(21, 6, 0)\n",
        "\n",
        "print(current_time.hour)\n",
        "print(current_time.minute)\n",
        "print(current_time.second)"
      ],
      "metadata": {
        "id": "UWhmR9TeXMIl",
        "colab": {
          "base_uri": "https://localhost:8080/"
        },
        "outputId": "29a84853-2bc2-4570-face-6d52f639abe4"
      },
      "execution_count": 17,
      "outputs": [
        {
          "output_type": "stream",
          "name": "stdout",
          "text": [
            "21\n",
            "6\n",
            "0\n"
          ]
        }
      ]
    },
    {
      "cell_type": "code",
      "source": [
        "# Timedelta\n",
        "\n",
        "from datetime import timedelta\n",
        "\n",
        "start_timedelta=timedelta(200, 100, 100, weeks=10)\n",
        "end_timedelta=timedelta(300, 100, 100, weeks=13)\n",
        "\n",
        "print(end_timedelta-start_timedelta)\n",
        "print(end_timedelta+start_timedelta)\n"
      ],
      "metadata": {
        "id": "_LtGspYkX4-9",
        "colab": {
          "base_uri": "https://localhost:8080/"
        },
        "outputId": "d106702f-0463-4c97-fa9d-0f5903e461e6"
      },
      "execution_count": 18,
      "outputs": [
        {
          "output_type": "stream",
          "name": "stdout",
          "text": [
            "121 days, 0:00:00\n",
            "661 days, 0:03:20.000200\n"
          ]
        }
      ]
    },
    {
      "cell_type": "markdown",
      "source": [
        "List Comprehension"
      ],
      "metadata": {
        "id": "TzgxiXpLZDE5"
      }
    },
    {
      "cell_type": "code",
      "source": [
        "my_original_list=[0, 1, 2, 3, 4, 5, 6, 7]\n",
        "print(my_original_list)\n",
        "\n",
        "my_range=range(8)\n",
        "print(list(my_range))\n"
      ],
      "metadata": {
        "colab": {
          "base_uri": "https://localhost:8080/"
        },
        "id": "oe4MrtNZY8qq",
        "outputId": "20f057a8-2fe9-47ee-9ebf-6d481d0f78dd"
      },
      "execution_count": null,
      "outputs": [
        {
          "output_type": "stream",
          "name": "stdout",
          "text": [
            "[0, 1, 2, 3, 4, 5, 6, 7]\n",
            "[0, 1, 2, 3, 4, 5, 6, 7]\n"
          ]
        }
      ]
    },
    {
      "cell_type": "code",
      "source": [
        "# Definition\n",
        "\n",
        "my_list=[i+1 for i in range(8)]\n",
        "print(my_list)\n",
        "\n",
        "my_list=[i*2 for i in range(8)]\n",
        "print(my_list)\n",
        "\n",
        "my_list=[i*1 for i in range(8)]\n",
        "print(my_list)\n",
        "\n",
        "def sum_five(number):\n",
        "          return number+5\n",
        "\n",
        "my_list=[sum_five(i) for i in range(8)]\n",
        "print(my_list)\n"
      ],
      "metadata": {
        "colab": {
          "base_uri": "https://localhost:8080/"
        },
        "id": "doMSNlC0Z8JO",
        "outputId": "783c1488-6be7-4955-8fef-aa69ee23275c"
      },
      "execution_count": null,
      "outputs": [
        {
          "output_type": "stream",
          "name": "stdout",
          "text": [
            "[1, 2, 3, 4, 5, 6, 7, 8]\n",
            "[0, 2, 4, 6, 8, 10, 12, 14]\n",
            "[0, 1, 2, 3, 4, 5, 6, 7]\n",
            "[5, 6, 7, 8, 9, 10, 11, 12]\n"
          ]
        }
      ]
    },
    {
      "cell_type": "markdown",
      "source": [
        "##Задачи:"
      ],
      "metadata": {
        "id": "FHxIeRVqbVsc"
      }
    },
    {
      "cell_type": "markdown",
      "source": [
        "### 1. Известный \"шум\"\n",
        "Напишите программу, выводящую на консоль (с печатью) числа от 1 до 100, подставив следующее:\n",
        "\n",
        "\n",
        "*   если число кратно 3, слово \"Нет\"\n",
        "*   если число кратно 5, то слово \"Да\"\n",
        "*   если число кратно и 3, и 5, слово \"НетДа\"\n"
      ],
      "metadata": {
        "id": "U035UTZmbc3B"
      }
    },
    {
      "cell_type": "code",
      "source": [
        "\"\"\"\n",
        "Известный \"шум\":\n",
        "напишите программу, выводящую на консоль (с печатью) числа от 1 до 100, подставив следующее:\n",
        "- если число кратно 3, слово \"Нет\"\n",
        "- если число, кратно 5, слово \"Да\"\n",
        "# - если число кратно и 3, и 5 слово \"НетДа\".\n",
        "\"\"\"\n",
        "\n",
        "def NoYes( ):\n",
        "      for index in range(1, 101):\n",
        "            if index % 3 == 0 and index % 5 == 0:\n",
        "                print(\"НетДа\")\n",
        "            elif index % 3 == 0:\n",
        "                print(\"Нет\")\n",
        "            elif index % 5 == 0: \n",
        "                print(\"Да\")\n",
        "            else:\n",
        "                print(index)\n",
        "                "
      ],
      "metadata": {
        "id": "P440TOgWcS7c"
      },
      "execution_count": 19,
      "outputs": []
    },
    {
      "cell_type": "markdown",
      "source": [
        "### 2. Это анаграмма? \n",
        "Напишите функцию, которая получает два слова ... и возвращает. Анаграмма состоит из формирования слова ...... НЕ нужно проверять, что оба слова существуют. Два совершенно одинаковых слова-это не анаграмма."
      ],
      "metadata": {
        "id": "PhpSzi5Idk59"
      }
    },
    {
      "cell_type": "code",
      "source": [
        "\"\"\"\n",
        "Напишите функцию, которая получает два слова ... и возвращает. \n",
        "Анаграмма состоит из формирования слова ...... \n",
        "НЕ нужно проверять, что оба слова существуют. \n",
        "Два совершенно одинаковых слова-это не анаграмма.\n",
        "\"\"\"\n",
        "\n",
        "def is_anagram(word_one, word_two):\n",
        "    if word_one.lower( ) == word_two.lower( ):\n",
        "        return False\n",
        "    return sorted(word_one.lower( )) == sorted(word_two.lower( ))\n",
        "\n",
        "print(is_anagram(\"Amor\", \"Roma\"))\n",
        "print(is_anagram(\"Атлас\", \"Салат\"))\n",
        "print(is_anagram(\"adobe\", \"abode\"))\n",
        "print(is_anagram(\"Воз\", \"Зов\"))\n"
      ],
      "metadata": {
        "colab": {
          "base_uri": "https://localhost:8080/"
        },
        "id": "0EH0OiJddzPa",
        "outputId": "591dc507-8200-482a-b260-bd654a5ba766"
      },
      "execution_count": null,
      "outputs": [
        {
          "output_type": "stream",
          "name": "stdout",
          "text": [
            "True\n",
            "True\n",
            "True\n",
            "True\n"
          ]
        }
      ]
    },
    {
      "cell_type": "code",
      "source": [
        "# Подобрать 20 анаграмм\n",
        "\n",
        "def is_anagram(word_one, word_two):\n",
        "    if word_one.lower( ) == word_two.lower( ):\n",
        "        return False\n",
        "    return sorted(word_one.lower( )) == sorted(word_two.lower( ))\n",
        "\n",
        "print(is_anagram(\"Карета\", \"Ракета\"))\n",
        "print(is_anagram(\"Колба\", \"Бокал\"))\n",
        "print(is_anagram(\"Кот\", \"Ток\"))\n",
        "print(is_anagram(\"Клоун\", \"Кулон\"))\n",
        "print(is_anagram(\"Сокол\", \"Колос\"))\n",
        "print(is_anagram(\"Волос\", \"Слово\"))\n",
        "print(is_anagram(\"Автор\", \"Товар\"))\n",
        "print(is_anagram(\"Марш\", \"Шрам\"))\n",
        "print(is_anagram(\"Вдох\", \"Вход\"))\n",
        "print(is_anagram(\"Так\", \"Акт\"))\n",
        "print(is_anagram(\"Среда\", \"Адрес\"))\n",
        "print(is_anagram(\"Кино\", \"Кони\"))\n",
        "print(is_anagram(\"Торс\", \"Рост\"))\n",
        "print(is_anagram(\"Трос\", \"Сорт\"))\n",
        "print(is_anagram(\"Карат\", \"Карта\"))\n",
        "print(is_anagram(\"Накат\", \"Канат\"))\n",
        "print(is_anagram(\"Носик\", \"Носки\"))\n",
        "print(is_anagram(\"Ночка\", \"Кочан\"))\n",
        "print(is_anagram(\"Накал\", \"Канал\"))\n",
        "print(is_anagram(\"Никель\", \"Ельник\"))\n"
      ],
      "metadata": {
        "colab": {
          "base_uri": "https://localhost:8080/"
        },
        "id": "BbweShiKiivl",
        "outputId": "e49a5722-c407-4045-9939-096ec4ae8c56"
      },
      "execution_count": null,
      "outputs": [
        {
          "output_type": "stream",
          "name": "stdout",
          "text": [
            "True\n",
            "True\n",
            "True\n",
            "True\n",
            "True\n",
            "True\n",
            "True\n",
            "True\n",
            "True\n",
            "True\n",
            "True\n",
            "True\n",
            "True\n",
            "True\n",
            "True\n",
            "True\n",
            "True\n",
            "True\n",
            "True\n",
            "True\n"
          ]
        }
      ]
    },
    {
      "cell_type": "markdown",
      "source": [
        "### 3. Это простое число?\n",
        "Напишите программу, которая проверяет является ли число......\n",
        "После этого выведите простые числа от 1 до 100."
      ],
      "metadata": {
        "id": "aKIgglsRh6VQ"
      }
    },
    {
      "cell_type": "code",
      "source": [
        "\"\"\"\n",
        "Напишите программу, которая проверяет, является ли число....\n",
        "После этого выведите простые числа от 1 до 100.\n",
        "\"\"\"\n",
        "def is_prime( ):\n",
        "        for number in range(1, 101):\n",
        "                if number >= 2:\n",
        "                        is_divisible = False\n",
        "                        for index in range(2, number):\n",
        "                           if number % index == 0:\n",
        "                                is_divisible = True\n",
        "                                break\n",
        "                        if not is_divisible :\n",
        "                            print(number)\n",
        "is_prime( )"
      ],
      "metadata": {
        "colab": {
          "base_uri": "https://localhost:8080/"
        },
        "id": "1ZkrrDuegLiQ",
        "outputId": "d5904ef4-bebb-4520-c915-5f9af6e83c4d"
      },
      "execution_count": 23,
      "outputs": [
        {
          "output_type": "stream",
          "name": "stdout",
          "text": [
            "2\n",
            "3\n",
            "5\n",
            "7\n",
            "11\n",
            "13\n",
            "17\n",
            "19\n",
            "23\n",
            "29\n",
            "31\n",
            "37\n",
            "41\n",
            "43\n",
            "47\n",
            "53\n",
            "59\n",
            "61\n",
            "67\n",
            "71\n",
            "73\n",
            "79\n",
            "83\n",
            "89\n",
            "97\n"
          ]
        }
      ]
    },
    {
      "cell_type": "markdown",
      "source": [
        "### 4. Инвертирующие цепи\n",
        "Создайте программу, которая меняет порядок текстовой строки на обратный без использования языковых функций, которые делают это автоматически. Если бы мы передали \"Hello world\", он бы вернул \"dlrow olleH\"."
      ],
      "metadata": {
        "id": "dYjJmiGpgqwl"
      }
    },
    {
      "cell_type": "code",
      "source": [
        "\"\"\" \n",
        "создайте программу, которая меняет порядок текстовой строки на обратный, без использования языковых функций, которые \n",
        "делают это автоматически \n",
        "-если бы мы передали \"Hello world\", он бы вернул бы 'dlrow olleH' \n",
        "\"\"\" \n",
        "def reverse(text):\n",
        "  text_len=len(text)\n",
        "  reversed_text = \"\"\n",
        "  for index in range (0, text_len):\n",
        "    reversed_text+= text[text_len-index-1]\n",
        "  return reversed_text\n",
        "  print(reverse(\"Hello world\"))\n"
      ],
      "metadata": {
        "id": "5RCZAY_nhcBp"
      },
      "execution_count": 25,
      "outputs": []
    }
  ]
}