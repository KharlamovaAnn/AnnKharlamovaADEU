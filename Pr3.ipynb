{
  "nbformat": 4,
  "nbformat_minor": 0,
  "metadata": {
    "colab": {
      "provenance": [],
      "authorship_tag": "ABX9TyPkkapBEX5/VQ7hPMJQynpw",
      "include_colab_link": true
    },
    "kernelspec": {
      "name": "python3",
      "display_name": "Python 3"
    },
    "language_info": {
      "name": "python"
    }
  },
  "cells": [
    {
      "cell_type": "markdown",
      "metadata": {
        "id": "view-in-github",
        "colab_type": "text"
      },
      "source": [
        "<a href=\"https://colab.research.google.com/github/KharlamovaAnn/AnnKharlamovaADEU/blob/main/Pr3.ipynb\" target=\"_parent\"><img src=\"https://colab.research.google.com/assets/colab-badge.svg\" alt=\"Open In Colab\"/></a>"
      ]
    },
    {
      "cell_type": "markdown",
      "source": [
        "Описать класс, реализующий десятичный счетчик, который может \n",
        "увеличивать или уменьшать свое значение на единицу в заданном диапазоне. \n",
        "Предусмотреть инициализацию счетчика значениями по умолчанию и \n",
        "произвольными значениями. Счетчик имеет два метода: увеличения и \n",
        "уменьшения, — и свойство, позволяющее получить его текущее состояние. При \n",
        "выходе за границы диапазона выбрасываются исключения. \n",
        "Написать программу, демонстрирующую все разработанные элементы \n",
        "класса."
      ],
      "metadata": {
        "id": "dnhjjtBAIAs2"
      }
    },
    {
      "cell_type": "code",
      "execution_count": 3,
      "metadata": {
        "id": "-es4UHckH8jT"
      },
      "outputs": [],
      "source": [
        "def control_min_value(func):\n",
        "    def wrapper(self):\n",
        "        if self.present_value == self.min_value:\n",
        "            raise ValueError(\"Значение достигло минимальной границы\")\n",
        "        return func(self)\n",
        "    return wrapper\n",
        "\n",
        "def control_max_value(func):\n",
        "    def wrapper(self):\n",
        "        if self.present_value == self.max_value:\n",
        "            raise ValueError(\"Значение достигло максимальной границы\")\n",
        "        return func(self)\n",
        "    return wrapper\n",
        "\n",
        "class DecimalCounter:\n",
        "    def __init__(self, present_value=0, min_value=0, max_value=10):\n",
        "        self.present_value = present_value\n",
        "        self.min_value = min_value\n",
        "        self.max_value = max_value\n",
        "\n",
        "    @control_max_value\n",
        "    def increment(self):\n",
        "        self.present_value += 1\n",
        "\n",
        "    @control_min_value\n",
        "    def decrement(self):\n",
        "        self.present_value -= 1\n",
        "\n",
        "    @property\n",
        "    def value(self):\n",
        "        return self.present_value\n"
      ]
    }
  ]
}