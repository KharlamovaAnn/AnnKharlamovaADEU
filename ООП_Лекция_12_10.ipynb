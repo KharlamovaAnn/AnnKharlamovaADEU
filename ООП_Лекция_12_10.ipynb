{
  "nbformat": 4,
  "nbformat_minor": 0,
  "metadata": {
    "colab": {
      "provenance": [],
      "authorship_tag": "ABX9TyM+6ztQ5/hXzBPbkDekxlVU",
      "include_colab_link": true
    },
    "kernelspec": {
      "name": "python3",
      "display_name": "Python 3"
    },
    "language_info": {
      "name": "python"
    }
  },
  "cells": [
    {
      "cell_type": "markdown",
      "metadata": {
        "id": "view-in-github",
        "colab_type": "text"
      },
      "source": [
        "<a href=\"https://colab.research.google.com/github/KharlamovaAnn/AnnKharlamovaADEU/blob/main/%D0%9E%D0%9E%D0%9F_%D0%9B%D0%B5%D0%BA%D1%86%D0%B8%D1%8F_12_10.ipynb\" target=\"_parent\"><img src=\"https://colab.research.google.com/assets/colab-badge.svg\" alt=\"Open In Colab\"/></a>"
      ]
    },
    {
      "cell_type": "markdown",
      "source": [
        "##Объектно-ориентированное программирование"
      ],
      "metadata": {
        "id": "DrUrqjAeHbQw"
      }
    },
    {
      "cell_type": "markdown",
      "source": [
        "Объект-\"Вещь\" с определенными свойствами и поведением\n",
        "\n",
        "Объектно-ориентированный подход можно применять:\n",
        "\n",
        "1.  как к программированию\n",
        "2. как к анализу\n",
        "3. как к дизайну\n",
        "\n",
        "\n",
        "*ООП-способ мышления, а также способ всоприятия окружающего мира с точки зрения теории объектов *\n",
        "\n",
        "Парадигма программирования на машинном языке:\n",
        " 1. Программы писались на машинных языках в двоичном представлении. При написании программ на машинных языках часто допускались ошибки.\n",
        " 2. Процедурные языки дают программисту возможность разбить программу обработки информации на нексолько процедур более низкого уровня. Последовательные обращения к этим процедурам управляют выполенением программ.\n",
        " 3. Модульное программирование разбивает программу на ряд составляющих компонентов или модулей. В отличие от процедурного программирования, которое разделяет данные и процедуры. Модули скрывают всю внутренюю информацию от остальных частей программы. Основываясь на этом, довольно просто объяснить, что такое состояние: Модуль сохраняет информацию.\n",
        "\n",
        "ООП:\n",
        "1. Состояние объекта-это совокупность значений внтуренныих переменных объекта\n",
        "2. Внутренняя переменнная-это величина,хранимая внутри объекта\n",
        "\n",
        " ООП добавляет к модулю:\n",
        " 1. Наследвственность\n",
        " 2. Полиморфизм"
      ],
      "metadata": {
        "id": "AKNn-fVBHo2o"
      }
    },
    {
      "cell_type": "code",
      "execution_count": 2,
      "metadata": {
        "id": "5lLf5qJxRbCV",
        "colab": {
          "base_uri": "https://localhost:8080/"
        },
        "outputId": "0e8b9ba2-079c-4c40-a8e2-59fc5d0eff6a"
      },
      "outputs": [
        {
          "output_type": "stream",
          "name": "stdout",
          "text": [
            "15\n",
            "22\n"
          ]
        }
      ],
      "source": [
        "class A:\n",
        "  x = 15\n",
        "  def print_x(self):\n",
        "    print(self.x)\n",
        "  def sum(self, a, b):\n",
        "    return self.x+a+b\n",
        "a = A()\n",
        "a.print_x()\n",
        "b = a.sum(5,2)\n",
        "print(b)"
      ]
    },
    {
      "cell_type": "code",
      "source": [
        "class A:\n",
        "  def hello():\n",
        "    print('hello world!')\n",
        "\n",
        "a=A()\n",
        "#a.hello()\n",
        "A.hello()"
      ],
      "metadata": {
        "id": "CAClvQpVZHJv",
        "colab": {
          "base_uri": "https://localhost:8080/"
        },
        "outputId": "af5ff3ad-4130-4429-fa00-64ecf76d1f24"
      },
      "execution_count": 5,
      "outputs": [
        {
          "output_type": "stream",
          "name": "stdout",
          "text": [
            "hello world!\n"
          ]
        }
      ]
    },
    {
      "cell_type": "code",
      "source": [
        "class A:\n",
        "  def __init__(self,x):\n",
        "    self.x = x\n",
        "    print(\"Hello!\")\n",
        "  \n",
        "  def __del__(self):\n",
        "    print(\"Good bye!\")\n",
        "\n",
        "#a = A()\n",
        "a = A(15)\n",
        "print(a.x)\n",
        "del a"
      ],
      "metadata": {
        "id": "GQDIJVFgZHQl",
        "colab": {
          "base_uri": "https://localhost:8080/"
        },
        "outputId": "fc8ad9a1-ba34-48f8-dca0-6b9f94b06a51"
      },
      "execution_count": 7,
      "outputs": [
        {
          "output_type": "stream",
          "name": "stdout",
          "text": [
            "Hello!\n",
            "15\n",
            "Good bye!\n"
          ]
        }
      ]
    },
    {
      "cell_type": "code",
      "source": [
        "class A:\n",
        "  def __init__(self):\n",
        "    print(\"Hello!\")\n",
        "  def __del__(self):\n",
        "    print(\"Good bye!\")\n",
        "\n",
        "def create_obj():\n",
        "  a = A()\n",
        "  return a\n",
        "\n",
        "if __name__ == \"__main__\":\n",
        "  a=create_obj()\n",
        "  print(\"Program end\")\n",
        "  del a\n",
        "  exit(0)"
      ],
      "metadata": {
        "id": "6updJUU_aZaP",
        "colab": {
          "base_uri": "https://localhost:8080/"
        },
        "outputId": "fca6ea73-f102-4428-90a7-642c2570cfc4"
      },
      "execution_count": 9,
      "outputs": [
        {
          "output_type": "stream",
          "name": "stdout",
          "text": [
            "Hello!\n",
            "Program end\n",
            "Good bye!\n"
          ]
        }
      ]
    },
    {
      "cell_type": "code",
      "source": [
        "class A:\n",
        "  def __init__(self, bb):\n",
        "    self.b = bb\n",
        "\n",
        "class B:\n",
        "  def __init__(self):\n",
        "    self.a = A(self)\n",
        "  def __del__(self):\n",
        "    print(\"Good bye!\")\n",
        "def fun():\n",
        "  b = B()\n",
        "  print('fun end')\n",
        "  return b\n",
        "fun()\n",
        "print('Programm end')"
      ],
      "metadata": {
        "id": "TrHmvXkyboyI",
        "colab": {
          "base_uri": "https://localhost:8080/"
        },
        "outputId": "08e1a2ac-397a-4508-f037-14829c50f69d"
      },
      "execution_count": 1,
      "outputs": [
        {
          "output_type": "stream",
          "name": "stdout",
          "text": [
            "fun end\n",
            "Programm end\n"
          ]
        }
      ]
    },
    {
      "cell_type": "code",
      "source": [
        "class Bus:\n",
        "  def __init__(self,passengers=[]):\n",
        "    self.passengers = passengers \n",
        "  def pick(self,name):\n",
        "    self.passengers.append(name)\n",
        "\n",
        "  def drop(self,name):\n",
        "    self.passengers.remove(name)"
      ],
      "metadata": {
        "id": "tgojET2Ycjlh"
      },
      "execution_count": 3,
      "outputs": []
    },
    {
      "cell_type": "code",
      "source": [
        "bus1 = Bus(['Alice','Bill'])\n",
        "bus1.passengers \n",
        "bus1.pick('Chralie')\n",
        "bus1.drop(\"Alice\")\n",
        "print(bus1.passengers)\n",
        "\n",
        "bus2 = Bus()\n",
        "bus2.pick('Carrie')\n",
        "print(bus2.passengers)\n",
        "\n",
        "bus3 = Bus()\n",
        "bus3.passengers\n",
        "bus2.passengers is bus3.passengers\n",
        "bus1.passengers"
      ],
      "metadata": {
        "colab": {
          "base_uri": "https://localhost:8080/"
        },
        "id": "gaKqZmgNKOk7",
        "outputId": "1d772f12-887e-410a-8736-dc9734fc8758"
      },
      "execution_count": 4,
      "outputs": [
        {
          "output_type": "stream",
          "name": "stdout",
          "text": [
            "['Bill', 'Chralie']\n",
            "['Carrie']\n"
          ]
        },
        {
          "output_type": "execute_result",
          "data": {
            "text/plain": [
              "['Bill', 'Chralie']"
            ]
          },
          "metadata": {},
          "execution_count": 4
        }
      ]
    },
    {
      "cell_type": "code",
      "source": [
        "class Bus:\n",
        "  def __init__(self, passengers=None):\n",
        "    if passengers is None:\n",
        "      self.passengers = []\n",
        "    else:\n",
        "      self.passengers = passengers "
      ],
      "metadata": {
        "id": "v2m-sNI5KRp2"
      },
      "execution_count": 5,
      "outputs": []
    },
    {
      "cell_type": "code",
      "source": [
        "class A:\n",
        "  x = 10\n",
        "  __x =1 \n",
        "  def __init__(self):\n",
        "    self.y = 5\n",
        "    z = 1\n",
        "\n",
        "a = A()\n",
        "print(a.x)\n",
        "print(a.y)\n",
        "#print(a.z)\n",
        "#print(a.__x)\n",
        "print(A.x)\n",
        "#print(A.y)"
      ],
      "metadata": {
        "id": "-cl0lQR4esW-",
        "colab": {
          "base_uri": "https://localhost:8080/"
        },
        "outputId": "31da648a-0247-4733-8459-51a79fe419ac"
      },
      "execution_count": 6,
      "outputs": [
        {
          "output_type": "stream",
          "name": "stdout",
          "text": [
            "10\n",
            "5\n",
            "10\n"
          ]
        }
      ]
    },
    {
      "cell_type": "code",
      "source": [
        "class A:\n",
        "  x = 10\n",
        "\n",
        "a = A()\n",
        "b = A()\n",
        "a.x\n",
        "b.x\n",
        "A.x\n",
        "\n",
        "a.x = 4\n",
        "a.x\n",
        "b.x\n",
        "A.x"
      ],
      "metadata": {
        "id": "FEFk1MYReV_w",
        "colab": {
          "base_uri": "https://localhost:8080/"
        },
        "outputId": "a53cd784-8c9a-4608-fc7e-235d9fbc093b"
      },
      "execution_count": 7,
      "outputs": [
        {
          "output_type": "execute_result",
          "data": {
            "text/plain": [
              "10"
            ]
          },
          "metadata": {},
          "execution_count": 7
        }
      ]
    },
    {
      "cell_type": "code",
      "source": [
        "class A:\n",
        "  a =10 \n",
        "\n",
        "a = A()\n",
        "b = B()\n",
        "a.x = 4\n",
        "a.__dict__\n",
        "a.__class__.__dict__\n",
        "b.__class__.__dict__\n",
        "A.__dict"
      ],
      "metadata": {
        "colab": {
          "base_uri": "https://localhost:8080/",
          "height": 375
        },
        "id": "iKKovmB8Kaq6",
        "outputId": "9a867ecd-7364-4507-fa6d-58bc86df6c01"
      },
      "execution_count": 8,
      "outputs": [
        {
          "output_type": "error",
          "ename": "TypeError",
          "evalue": "ignored",
          "traceback": [
            "\u001b[0;31m---------------------------------------------------------------------------\u001b[0m",
            "\u001b[0;31mTypeError\u001b[0m                                 Traceback (most recent call last)",
            "\u001b[0;32m<ipython-input-8-8f685bc3cc78>\u001b[0m in \u001b[0;36m<module>\u001b[0;34m\u001b[0m\n\u001b[1;32m      3\u001b[0m \u001b[0;34m\u001b[0m\u001b[0m\n\u001b[1;32m      4\u001b[0m \u001b[0ma\u001b[0m \u001b[0;34m=\u001b[0m \u001b[0mA\u001b[0m\u001b[0;34m(\u001b[0m\u001b[0;34m)\u001b[0m\u001b[0;34m\u001b[0m\u001b[0;34m\u001b[0m\u001b[0m\n\u001b[0;32m----> 5\u001b[0;31m \u001b[0mb\u001b[0m \u001b[0;34m=\u001b[0m \u001b[0mB\u001b[0m\u001b[0;34m(\u001b[0m\u001b[0;34m)\u001b[0m\u001b[0;34m\u001b[0m\u001b[0;34m\u001b[0m\u001b[0m\n\u001b[0m\u001b[1;32m      6\u001b[0m \u001b[0ma\u001b[0m\u001b[0;34m.\u001b[0m\u001b[0mx\u001b[0m \u001b[0;34m=\u001b[0m \u001b[0;36m4\u001b[0m\u001b[0;34m\u001b[0m\u001b[0;34m\u001b[0m\u001b[0m\n\u001b[1;32m      7\u001b[0m \u001b[0ma\u001b[0m\u001b[0;34m.\u001b[0m\u001b[0m__dict__\u001b[0m\u001b[0;34m\u001b[0m\u001b[0;34m\u001b[0m\u001b[0m\n",
            "\u001b[0;32m<ipython-input-1-fc7ef35c1276>\u001b[0m in \u001b[0;36m__init__\u001b[0;34m(self)\u001b[0m\n\u001b[1;32m      5\u001b[0m \u001b[0;32mclass\u001b[0m \u001b[0mB\u001b[0m\u001b[0;34m:\u001b[0m\u001b[0;34m\u001b[0m\u001b[0;34m\u001b[0m\u001b[0m\n\u001b[1;32m      6\u001b[0m   \u001b[0;32mdef\u001b[0m \u001b[0m__init__\u001b[0m\u001b[0;34m(\u001b[0m\u001b[0mself\u001b[0m\u001b[0;34m)\u001b[0m\u001b[0;34m:\u001b[0m\u001b[0;34m\u001b[0m\u001b[0;34m\u001b[0m\u001b[0m\n\u001b[0;32m----> 7\u001b[0;31m     \u001b[0mself\u001b[0m\u001b[0;34m.\u001b[0m\u001b[0ma\u001b[0m \u001b[0;34m=\u001b[0m \u001b[0mA\u001b[0m\u001b[0;34m(\u001b[0m\u001b[0mself\u001b[0m\u001b[0;34m)\u001b[0m\u001b[0;34m\u001b[0m\u001b[0;34m\u001b[0m\u001b[0m\n\u001b[0m\u001b[1;32m      8\u001b[0m   \u001b[0;32mdef\u001b[0m \u001b[0m__del__\u001b[0m\u001b[0;34m(\u001b[0m\u001b[0mself\u001b[0m\u001b[0;34m)\u001b[0m\u001b[0;34m:\u001b[0m\u001b[0;34m\u001b[0m\u001b[0;34m\u001b[0m\u001b[0m\n\u001b[1;32m      9\u001b[0m     \u001b[0mprint\u001b[0m\u001b[0;34m(\u001b[0m\u001b[0;34m\"Good bye!\"\u001b[0m\u001b[0;34m)\u001b[0m\u001b[0;34m\u001b[0m\u001b[0;34m\u001b[0m\u001b[0m\n",
            "\u001b[0;31mTypeError\u001b[0m: A() takes no arguments"
          ]
        }
      ]
    }
  ]
}