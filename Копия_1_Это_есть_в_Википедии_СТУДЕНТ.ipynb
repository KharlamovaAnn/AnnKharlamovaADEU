{
  "nbformat": 4,
  "nbformat_minor": 0,
  "metadata": {
    "kernelspec": {
      "display_name": "Python 3",
      "language": "python",
      "name": "python3"
    },
    "language_info": {
      "codemirror_mode": {
        "name": "ipython",
        "version": 3
      },
      "file_extension": ".py",
      "mimetype": "text/x-python",
      "name": "python",
      "nbconvert_exporter": "python",
      "pygments_lexer": "ipython3",
      "version": "3.6.6"
    },
    "colab": {
      "provenance": [],
      "collapsed_sections": [],
      "include_colab_link": true
    }
  },
  "cells": [
    {
      "cell_type": "markdown",
      "metadata": {
        "id": "view-in-github",
        "colab_type": "text"
      },
      "source": [
        "<a href=\"https://colab.research.google.com/github/KharlamovaAnn/AnnKharlamovaADEU/blob/main/%D0%9A%D0%BE%D0%BF%D0%B8%D1%8F_1_%D0%AD%D1%82%D0%BE_%D0%B5%D1%81%D1%82%D1%8C_%D0%B2_%D0%92%D0%B8%D0%BA%D0%B8%D0%BF%D0%B5%D0%B4%D0%B8%D0%B8_%D0%A1%D0%A2%D0%A3%D0%94%D0%95%D0%9D%D0%A2.ipynb\" target=\"_parent\"><img src=\"https://colab.research.google.com/assets/colab-badge.svg\" alt=\"Open In Colab\"/></a>"
      ]
    },
    {
      "cell_type": "markdown",
      "metadata": {
        "id": "N-jrvVT062vb"
      },
      "source": [
        "# 1. Подготовка\n",
        "\n",
        "В этом модуле мы научимся работать с простыми библиотеками для языка Python, понимать документацию к этим библиотекам и решать с их помощью свои прикладные задачи.\n",
        "\n",
        "## Словарь\n",
        "\n",
        "*Библиотека* (или, как говорят относительно Python, модуль) -- некая часть программного кода (например, в виде отдельного файла), цель которой -- использоваться при разработке других программ. В языке Python различают пакеты (package) и модули (module). Под словом библиотека можно понимать и то, и другое. Модуль -- это файл .py с некоторым исходным кодом. Пакет -- набор этих файлов (<a href=\"https://softwareengineering.stackexchange.com/questions/111871/module-vs-package\">подробнее</a>). Например, **math** -- модуль языка Python, который содержит математические функции. Библиотеки, по сравнению со включением всех нужных функций непосредственно в язые, нужны:\n",
        "- Чтобы дать программистам возможность не писать сложный, но нужный код заново, а использовать готовый;\n",
        "- Чтобы не перегружать язык программирования редко используемыми функциями;\n",
        "- Чтобы дать разработчикам, не имеющим отношения к разработке какого-то языка программирования, возможность распространять свои наработки на этом языке.\n",
        "\n",
        "*Менеджер пакетов* -- специальная программа для конкретного языка программирования, цель которой -- облегчить пользователям установку библиотек для этого языка и предотвратить конфликты библиотек между собой (подумайте, откуда такие конфликты могут взяться). Для языка Python мы будем использовать менеджер пакетов **pip**, который входит в стандартную поставку языка Python 3 и в пакет Anaconda.\n",
        "\n",
        "*Документация* -- набор текстов, описывающих поведение библиотеки. Когда библиотека публикуется онлайн, к ней пишут тексты, поясняющие, как её использовать. Это обязательная часть разработки библиотеки, без документации пользоваться ей никто не будет. Документация бывает плохая и хорошая, под последней имеется в виду такая, которая лаконично, подробно и понятно описывает, как библиотекой пользоваться и не допускает двояких толкований."
      ]
    },
    {
      "cell_type": "markdown",
      "metadata": {
        "id": "qhis3SiU62vf"
      },
      "source": [
        "## Вопросы для размышления\n",
        "1. Зачем нужны библиотеки с точки зрения разработчиков прикладных продуктов, разработчиков алгоритмов и разработчиков языков программирования?\n",
        "2. Что должен уметь хороший менеджер пакетов?\n"
      ]
    },
    {
      "cell_type": "markdown",
      "metadata": {
        "id": "09tqenzE62vh"
      },
      "source": [
        "# 2. Классная работа\n",
        "## Установка библиотеки wikipedia\n",
        "Мы воспользуемся pip, чтобы скачать и установить библиотеку <a href=\"https://pypi.org/project/wikipedia/\">wikipedia</a>. Можно сделать это из командной строки:\n",
        "\n",
        "    pip install wikipedia\n",
        "    \n",
        "А можно и прямо из ноутбука, потому что ячейки Jupyter Notebook поддерживают командную строку, если добавить в начало восклицательный знак. Запустите ячейку ниже."
      ]
    },
    {
      "cell_type": "code",
      "metadata": {
        "id": "3jdoCM-162vi",
        "colab": {
          "base_uri": "https://localhost:8080/"
        },
        "outputId": "b9271c2e-8544-445f-8d58-3a000acce64b"
      },
      "source": [
        "!pip install wikipedia"
      ],
      "execution_count": 3,
      "outputs": [
        {
          "output_type": "stream",
          "name": "stdout",
          "text": [
            "Looking in indexes: https://pypi.org/simple, https://us-python.pkg.dev/colab-wheels/public/simple/\n",
            "Collecting wikipedia\n",
            "  Downloading wikipedia-1.4.0.tar.gz (27 kB)\n",
            "Requirement already satisfied: beautifulsoup4 in /usr/local/lib/python3.7/dist-packages (from wikipedia) (4.6.3)\n",
            "Requirement already satisfied: requests<3.0.0,>=2.0.0 in /usr/local/lib/python3.7/dist-packages (from wikipedia) (2.23.0)\n",
            "Requirement already satisfied: chardet<4,>=3.0.2 in /usr/local/lib/python3.7/dist-packages (from requests<3.0.0,>=2.0.0->wikipedia) (3.0.4)\n",
            "Requirement already satisfied: urllib3!=1.25.0,!=1.25.1,<1.26,>=1.21.1 in /usr/local/lib/python3.7/dist-packages (from requests<3.0.0,>=2.0.0->wikipedia) (1.24.3)\n",
            "Requirement already satisfied: certifi>=2017.4.17 in /usr/local/lib/python3.7/dist-packages (from requests<3.0.0,>=2.0.0->wikipedia) (2022.6.15)\n",
            "Requirement already satisfied: idna<3,>=2.5 in /usr/local/lib/python3.7/dist-packages (from requests<3.0.0,>=2.0.0->wikipedia) (2.10)\n",
            "Building wheels for collected packages: wikipedia\n",
            "  Building wheel for wikipedia (setup.py) ... \u001b[?25l\u001b[?25hdone\n",
            "  Created wheel for wikipedia: filename=wikipedia-1.4.0-py3-none-any.whl size=11695 sha256=77d133d1daa75ab795aa11cfdc43a1a61663d9f5d7eb197ec28a52c7104f1717\n",
            "  Stored in directory: /root/.cache/pip/wheels/15/93/6d/5b2c68b8a64c7a7a04947b4ed6d89fb557dcc6bc27d1d7f3ba\n",
            "Successfully built wikipedia\n",
            "Installing collected packages: wikipedia\n",
            "Successfully installed wikipedia-1.4.0\n"
          ]
        }
      ]
    },
    {
      "cell_type": "markdown",
      "metadata": {
        "id": "2yfNbEgQ62vn"
      },
      "source": [
        "## Исследование возможностей библиотеки"
      ]
    },
    {
      "cell_type": "code",
      "metadata": {
        "id": "Lg56d4Za62vo"
      },
      "source": [
        "# подключим библиотеку\n",
        "import wikipedia"
      ],
      "execution_count": 4,
      "outputs": []
    },
    {
      "cell_type": "markdown",
      "metadata": {
        "id": "rKcAubKZ62vq"
      },
      "source": [
        "<a href=\"https://pypi.org/project/wikipedia/#description\">По этой ссылке</a> можно найти описание библиотеки на официальном сайте пакетов для Python. В описании есть ссылка на документацию библиотеки, найдите её самостоятельно. К этой библиотеке документация состоит из двух частей: непосредственно документация и так называемый Quickstart. Имеет смысл начать с Quickstart, а если какие-то функции работают не так, как вы от них интуитивно ожидаете, перейти к чтению непосредственно документации.\n",
        "\n",
        "Посмотрим, что можно с библиотекой делать. Сначала установим русский язык для поиска статей по заголовкам:"
      ]
    },
    {
      "cell_type": "code",
      "metadata": {
        "id": "EGxPfMt362vr"
      },
      "source": [
        "wikipedia.set_lang(\"ru\")"
      ],
      "execution_count": 5,
      "outputs": []
    },
    {
      "cell_type": "markdown",
      "metadata": {
        "id": "0zCjOSZw62vt"
      },
      "source": [
        "Теперь загрузим какую-нибудь статью."
      ]
    },
    {
      "cell_type": "code",
      "metadata": {
        "id": "GJdo51nM62vu"
      },
      "source": [
        "gagarin_page = wikipedia.page(\"Юрий Гагарин\")"
      ],
      "execution_count": 9,
      "outputs": []
    },
    {
      "cell_type": "markdown",
      "metadata": {
        "id": "zCwifyY062vw"
      },
      "source": [
        "Какого класса объект, который возвращает вызов метода page?"
      ]
    },
    {
      "cell_type": "code",
      "metadata": {
        "id": "n0jhre3Q62vx",
        "colab": {
          "base_uri": "https://localhost:8080/"
        },
        "outputId": "fd989db2-0d07-48a7-f04c-10b12bedddf4"
      },
      "source": [
        "type(gagarin_page)"
      ],
      "execution_count": 10,
      "outputs": [
        {
          "output_type": "execute_result",
          "data": {
            "text/plain": [
              "wikipedia.wikipedia.WikipediaPage"
            ]
          },
          "metadata": {},
          "execution_count": 10
        }
      ]
    },
    {
      "cell_type": "markdown",
      "metadata": {
        "id": "XKUbCgRJ62vz"
      },
      "source": [
        "Как узнать, какие поля есть у этого класса?"
      ]
    },
    {
      "cell_type": "code",
      "metadata": {
        "id": "oALFvyGD62v0",
        "colab": {
          "base_uri": "https://localhost:8080/"
        },
        "outputId": "8d2c7846-8212-4505-c4df-72cce180dd59"
      },
      "source": [
        "dir(gagarin_page)"
      ],
      "execution_count": 11,
      "outputs": [
        {
          "output_type": "execute_result",
          "data": {
            "text/plain": [
              "['_WikipediaPage__continued_query',\n",
              " '_WikipediaPage__load',\n",
              " '_WikipediaPage__title_query_param',\n",
              " '__class__',\n",
              " '__delattr__',\n",
              " '__dict__',\n",
              " '__dir__',\n",
              " '__doc__',\n",
              " '__eq__',\n",
              " '__format__',\n",
              " '__ge__',\n",
              " '__getattribute__',\n",
              " '__gt__',\n",
              " '__hash__',\n",
              " '__init__',\n",
              " '__init_subclass__',\n",
              " '__le__',\n",
              " '__lt__',\n",
              " '__module__',\n",
              " '__ne__',\n",
              " '__new__',\n",
              " '__reduce__',\n",
              " '__reduce_ex__',\n",
              " '__repr__',\n",
              " '__setattr__',\n",
              " '__sizeof__',\n",
              " '__str__',\n",
              " '__subclasshook__',\n",
              " '__weakref__',\n",
              " 'categories',\n",
              " 'content',\n",
              " 'coordinates',\n",
              " 'html',\n",
              " 'images',\n",
              " 'links',\n",
              " 'original_title',\n",
              " 'pageid',\n",
              " 'parent_id',\n",
              " 'references',\n",
              " 'revision_id',\n",
              " 'section',\n",
              " 'sections',\n",
              " 'summary',\n",
              " 'title',\n",
              " 'url']"
            ]
          },
          "metadata": {},
          "execution_count": 11
        }
      ]
    },
    {
      "cell_type": "code",
      "metadata": {
        "id": "m7WI_fTE9IWQ",
        "colab": {
          "base_uri": "https://localhost:8080/"
        },
        "outputId": "784adaa1-6d9a-405d-93d0-d107d12344cb"
      },
      "source": [
        "print(gagarin_page.title)"
      ],
      "execution_count": 12,
      "outputs": [
        {
          "output_type": "stream",
          "name": "stdout",
          "text": [
            "Гагарин, Юрий Алексеевич\n"
          ]
        }
      ]
    },
    {
      "cell_type": "markdown",
      "metadata": {
        "id": "M6KQffNV62v2"
      },
      "source": [
        "Давайте попробуем вызвать несколько из этих полей и методов, подробное описание того, как они работают, есть в документации."
      ]
    },
    {
      "cell_type": "code",
      "metadata": {
        "id": "dDljIP1O62v3",
        "colab": {
          "base_uri": "https://localhost:8080/"
        },
        "outputId": "be9f5f9c-4f33-4737-9ec2-53a089686ef9"
      },
      "source": [
        "print(gagarin_page.url)"
      ],
      "execution_count": 13,
      "outputs": [
        {
          "output_type": "stream",
          "name": "stdout",
          "text": [
            "https://ru.wikipedia.org/wiki/%D0%93%D0%B0%D0%B3%D0%B0%D1%80%D0%B8%D0%BD,_%D0%AE%D1%80%D0%B8%D0%B9_%D0%90%D0%BB%D0%B5%D0%BA%D1%81%D0%B5%D0%B5%D0%B2%D0%B8%D1%87\n"
          ]
        }
      ]
    },
    {
      "cell_type": "code",
      "metadata": {
        "id": "aP4osyqM62v5",
        "colab": {
          "base_uri": "https://localhost:8080/"
        },
        "outputId": "a6938694-8a4a-49c7-8549-cf4d7c957353"
      },
      "source": [
        "print(gagarin_page.content[:1000]) # Что делает этот код?"
      ],
      "execution_count": 14,
      "outputs": [
        {
          "output_type": "stream",
          "name": "stdout",
          "text": [
            "Ю́рий Алексе́евич Гага́рин (9 марта 1934, Клушино, Гжатский (ныне Гагаринский) район, Западная область (ныне — Смоленская область) — 27 марта 1968, возле села Новосёлово, Киржачский район, Владимирская область) — лётчик-космонавт СССР, Герой Советского Союза, кавалер высших знаков отличия ряда государств, почётный гражданин многих российских и зарубежных городов.\n",
            "Полковник ВВС СССР (1963), военный лётчик 1-го класса, заслуженный мастер спорта СССР (1961), член ЦК ВЛКСМ, депутат Верховного Совета СССР 7-го и 8-го созывов.\n",
            "12 апреля 1961 года Юрий Гагарин стал первым человеком в мировой истории, совершившим полёт в космическое пространство. Ракета-носитель «Восток» с кораблём «Восток-1», на борту которого находился Гагарин, была запущена с космодрома Байконур, расположенного в Кызылординской области Казахстана. После 108 минут полёта Гагарин успешно приземлился в Саратовской области, неподалёку от Энгельса. 12 апреля 1961 года, день полёта Юрия Гагарина в космос, был объявлен праздником \n"
          ]
        }
      ]
    },
    {
      "cell_type": "markdown",
      "metadata": {
        "id": "HISQHK0L62v7"
      },
      "source": [
        "# 3. Задания для самостоятельной работы"
      ]
    },
    {
      "cell_type": "markdown",
      "metadata": {
        "id": "ND3oHMsV62v8"
      },
      "source": [
        "### Фамилия, имя: Харламова Анна"
      ]
    },
    {
      "cell_type": "markdown",
      "metadata": {
        "id": "Xb8qFBzS62v8"
      },
      "source": [
        "### Дата отправки:"
      ]
    },
    {
      "cell_type": "markdown",
      "metadata": {
        "id": "1pOI8CXA62v9"
      },
      "source": [
        "Каждая из задач оценивается от 0 до 2 баллов, в зависимости от успешности выполнения и с произвольным шагом. Возможно начисление бонусных баллов за красивые и интересные решения. \n",
        "\n",
        "Скачайте этот ноутбук, выполните задания. Впишите свои имя, фамилию и дату выполнения работы в блоке выше. Удалите все ячейки выше ячейки \"Задания для самостоятельной работы\". Сохраните получившийся ноутбук, а также конвертируйте его в pdf. Назовите оба файла так, чтобы из них было понятно, кто вы и что это за задание, и пошлите их вашему преподавателю таким образом, как он(а) сказал(а)."
      ]
    },
    {
      "cell_type": "markdown",
      "metadata": {
        "id": "Mop5QVqs62v-"
      },
      "source": [
        "### 1. Мне сказали слово, я расплёл его в строку\n",
        "Напечатайте заголовки 10 случайных статей из Википедии. Подсказка: сначала прочтите документацию, вам нужен метод random из библиотеки wikipedia."
      ]
    },
    {
      "cell_type": "code",
      "metadata": {
        "id": "cCB52sFq62v-",
        "colab": {
          "base_uri": "https://localhost:8080/"
        },
        "outputId": "f87a5d32-8cd2-4546-aa44-323f303d779d"
      },
      "source": [
        "wikipedia.random(10)"
      ],
      "execution_count": 15,
      "outputs": [
        {
          "output_type": "execute_result",
          "data": {
            "text/plain": [
              "['Закиева, Динара Болатовна',\n",
              " 'Королевский попугай',\n",
              " 'Махоба',\n",
              " 'Талица (Никольский район)',\n",
              " 'Паласио Бароло',\n",
              " 'Мала-Ремета',\n",
              " 'Осипенко, Пётр Дмитриевич',\n",
              " 'Пасвер, Ремко',\n",
              " 'Багра',\n",
              " 'Улица Молодой Гвардии']"
            ]
          },
          "metadata": {},
          "execution_count": 15
        }
      ]
    },
    {
      "cell_type": "markdown",
      "metadata": {
        "id": "lst8x0jt62wA"
      },
      "source": [
        "### 2.  Ленинград -- Амстердам\n",
        "Выведите самую красивую фотографию со страницы города, в котором вы хотите побывать. Вам поможет метод images, который возвращает список ссылок на все картинки на странице. Выберите любую ссылку и воспользуйтесь кодом ниже."
      ]
    },
    {
      "cell_type": "code",
      "metadata": {
        "id": "8a0rap-K62wB",
        "colab": {
          "base_uri": "https://localhost:8080/",
          "height": 56
        },
        "outputId": "37e3b2c3-e0bf-4511-b53e-dd7f239c9a26"
      },
      "source": [
        "from IPython.display import Image\n",
        "from IPython.display import HTML\n",
        "page=wikipedia.page(title=\"Moscow\", pageid=None, auto_suggest=True, redirect=True, preload=True)\n",
        "print(page.url)\n",
        "image_link=\"https://en.wikipedia.org/wiki/Moscow#/media/File:Saint_Basil's_Cathedral_and_the_Red_Square.jpg\"\n",
        "Image(url=image_link)"
      ],
      "execution_count": 22,
      "outputs": [
        {
          "output_type": "stream",
          "name": "stdout",
          "text": [
            "https://ru.wikipedia.org/wiki/%D0%9C%D0%BE%D1%81%D0%BA%D0%B2%D0%B0\n"
          ]
        },
        {
          "output_type": "execute_result",
          "data": {
            "text/html": [
              "<img src=\"https://en.wikipedia.org/wiki/Moscow#/media/File:Saint_Basil's_Cathedral_and_the_Red_Square.jpg\"/>"
            ],
            "text/plain": [
              "<IPython.core.display.Image object>"
            ]
          },
          "metadata": {},
          "execution_count": 22
        }
      ]
    },
    {
      "cell_type": "markdown",
      "metadata": {
        "id": "hrq_NRPX62wE"
      },
      "source": [
        "### 3. Урок географии\n",
        "\n",
        "С помощью wikipedia.geosearch выясните, как называется провинция в Чили, где находится остров Пасхи.\n",
        "\n",
        "Подсказка: радиус равен 10, координаты десятичные."
      ]
    },
    {
      "cell_type": "code",
      "metadata": {
        "id": "PRTliSFI62wF",
        "colab": {
          "base_uri": "https://localhost:8080/"
        },
        "outputId": "31973fae-4182-4fe7-adb2-de4743af7098"
      },
      "source": [
        "page=wikipedia.page(title=\"Остров Пасхи, Чили\" , pageid=None, auto_suggest=True, redirect=True, preload=True)\n",
        "print(dir(page))\n",
        "print(page.url)\n",
        "print(page.coordinates)\n",
        "(lan, lon)=page.coordinates\n",
        "wikipedia.geosearch(lan, lon, results=10, radius=10)\n"
      ],
      "execution_count": 18,
      "outputs": [
        {
          "output_type": "stream",
          "name": "stdout",
          "text": [
            "['_WikipediaPage__continued_query', '_WikipediaPage__load', '_WikipediaPage__title_query_param', '__class__', '__delattr__', '__dict__', '__dir__', '__doc__', '__eq__', '__format__', '__ge__', '__getattribute__', '__gt__', '__hash__', '__init__', '__init_subclass__', '__le__', '__lt__', '__module__', '__ne__', '__new__', '__reduce__', '__reduce_ex__', '__repr__', '__setattr__', '__sizeof__', '__str__', '__subclasshook__', '__weakref__', '_content', '_images', '_links', '_parent_id', '_references', '_revision_id', '_sections', '_summary', 'categories', 'content', 'coordinates', 'html', 'images', 'links', 'original_title', 'pageid', 'parent_id', 'references', 'revision_id', 'section', 'sections', 'summary', 'title', 'url']\n",
            "https://ru.wikipedia.org/wiki/%D0%9E%D1%81%D1%82%D1%80%D0%BE%D0%B2_%D0%9F%D0%B0%D1%81%D1%85%D0%B8\n",
            "(Decimal('-27.11670000000000158024704433046281337738037109375'), Decimal('-109.349999999999994315658113919198513031005859375'))\n"
          ]
        },
        {
          "output_type": "execute_result",
          "data": {
            "text/plain": [
              "['Субтропический широколиственный лес острова Пасхи',\n",
              " 'Остров Пасхи',\n",
              " 'Исла-де-Паскуа (провинция)']"
            ]
          },
          "metadata": {},
          "execution_count": 18
        }
      ]
    },
    {
      "cell_type": "markdown",
      "metadata": {
        "id": "XSHWC2aS62wH"
      },
      "source": [
        "### 4. Англо-русский словарь\n",
        "Сколько всего языков для Википедии поддерживает эта библиотека? Напечатайте первый с начала и первый с конца в их алфавитном порядке. \n",
        "\n",
        "Подсказка: воспользуйтесь функцией sort для словарей. Прочитайте документацию к ней, если вы не знаете, как ей пользоваться.\n"
      ]
    },
    {
      "cell_type": "code",
      "metadata": {
        "id": "63IoO7il62wI",
        "colab": {
          "base_uri": "https://localhost:8080/"
        },
        "outputId": "139ec6c8-eb9a-43e9-97d9-6ff10f8944b6"
      },
      "source": [
        "dir(wikipedia)\n",
        "sorted(wikipedia.languages( ).values())\n",
        "d=sorted(wikipedia.languages().values())\n",
        "print(len(d)+1)"
      ],
      "execution_count": 21,
      "outputs": [
        {
          "output_type": "stream",
          "name": "stdout",
          "text": [
            "494\n"
          ]
        }
      ]
    },
    {
      "cell_type": "markdown",
      "metadata": {
        "id": "Cg9tv-BQ62wK"
      },
      "source": [
        "### 5. Время, назад!\n",
        "Страницы Википедии ссылаются друг на друга. Названия всех статей, на который ссылается данная, можно получить, обратившись к полю links. Найдите любой путь по ссылкам, который ведёт от Евклида к Юрию Гагарину (1 балл). Найдите кратчайший путь по ссылкам (1 балл). \n",
        "\n",
        "Подсказка: обратите внимание, как выглядит ссылка на страницу Гагарина."
      ]
    },
    {
      "cell_type": "code",
      "metadata": {
        "id": "W879K5-I62wK"
      },
      "source": [
        "gagarin_page = wikipedia.page(\"Юрий Гагарин\")# ваш код здесь\n",
        "evklid_page = wikipedia.page(\"Евклид\")# ваш код здесь\n"
      ],
      "execution_count": null,
      "outputs": []
    }
  ]
}