{
  "nbformat": 4,
  "nbformat_minor": 0,
  "metadata": {
    "colab": {
      "provenance": [],
      "authorship_tag": "ABX9TyNYg2ogSyuJmdwHFaAv3PDL",
      "include_colab_link": true
    },
    "kernelspec": {
      "name": "python3",
      "display_name": "Python 3"
    },
    "language_info": {
      "name": "python"
    }
  },
  "cells": [
    {
      "cell_type": "markdown",
      "metadata": {
        "id": "view-in-github",
        "colab_type": "text"
      },
      "source": [
        "<a href=\"https://colab.research.google.com/github/KharlamovaAnn/AnnKharlamovaADEU/blob/main/1.2.ipynb\" target=\"_parent\"><img src=\"https://colab.research.google.com/assets/colab-badge.svg\" alt=\"Open In Colab\"/></a>"
      ]
    },
    {
      "cell_type": "code",
      "execution_count": null,
      "metadata": {
        "colab": {
          "base_uri": "https://localhost:8080/"
        },
        "id": "GQKldMSxXPC6",
        "outputId": "98b03ef1-546c-4585-e4bd-5da04c76a325"
      },
      "outputs": [
        {
          "output_type": "stream",
          "name": "stdout",
          "text": [
            "Johanna has 1 apples and Martin has 2 apples\n",
            "Johanna has 2 ideas and Martin has 2 ideas\n"
          ]
        }
      ],
      "source": [
        "class Person:\n",
        "    apples = 0\n",
        "    ideas = 0\n",
        "\n",
        "johanna = Person( )\n",
        "johanna.apples = 1\n",
        "johanna.ideas = 1\n",
        "\n",
        "martin = Person( )\n",
        "martin.apples = 2\n",
        "martin.ideas = 1\n",
        "\n",
        "def exchange_apples(you, me):\n",
        "  return you.apples, me.apples\n",
        "\n",
        "def exchange_ideas(you, me):\n",
        "  you.ideas = me.ideas + you.ideas\n",
        "  me.ideas = you.ideas\n",
        "  return you.ideas, me.ideas\n",
        "\n",
        "exchange_apples(johanna, martin)\n",
        "print(\"Johanna has {} apples and Martin has {} apples\".format(johanna.apples, martin.apples))\n",
        "exchange_ideas(johanna, martin)\n",
        "print(\"Johanna has {} ideas and Martin has {} ideas\".format(johanna.ideas, martin.ideas))"
      ]
    },
    {
      "cell_type": "code",
      "source": [
        "class City:\n",
        "\tname = \"\"\n",
        "\tcountry = \"\"\n",
        "\televation = 0 \n",
        "\tpopulation = 0\n",
        "\n",
        "city1 = City( )\n",
        "city1.name = \"Cusco\"\n",
        "city1.country = \"Peru\"\n",
        "city1.elevation = 3399\n",
        "city1.population = 358052\n",
        "\n",
        "city2 = City( )\n",
        "city2.name = \"Sofia\"\n",
        "city2.country = \"Bulgaria\"\n",
        "city2.elevation = 2290\n",
        "city2.population = 1241675\n",
        "\n",
        "city3 = City( )\n",
        "city3.name = \"Seoul\"\n",
        "city3.country = \"South Korea\"\n",
        "city3.elevation = 38\n",
        "city3.population = 9733509\n",
        "\n",
        "def max_elevation_city(min_population):\n",
        "\treturn_city = City( )\n",
        "\n",
        "\tif city1.population >= min_population and city1.elevation > return_city.elevation:\n",
        "\t\treturn_city = city1\n",
        "\n",
        "\tif city2.population >= min_population and city2.elevation > return_city.elevation:\n",
        "\t\treturn_city = city2\n",
        "\n",
        "\tif city3.population >= min_population and city3.elevation > return_city.elevation:\n",
        "\t\treturn_city = city3\n",
        "\n",
        "\tif return_city.name:\n",
        "\t\treturn \"{ }, { }\".format(return_city.name, return_city.country)\n",
        "\telse:\n",
        "\t\treturn \"\"\n",
        "\n",
        "print(max_elevation_city(100000))\n",
        "print(max_elevation_city(1000000)) \n",
        "print(max_elevation_city(10000000)) \n"
      ],
      "metadata": {
        "colab": {
          "base_uri": "https://localhost:8080/"
        },
        "id": "RxKNrwlYXPws",
        "outputId": "35869a86-f149-443b-94f4-81569b8e047f"
      },
      "execution_count": null,
      "outputs": [
        {
          "output_type": "stream",
          "name": "stdout",
          "text": [
            "Cusco, Peru\n",
            "Sofia, Bulgaria\n",
            "\n"
          ]
        }
      ]
    },
    {
      "cell_type": "code",
      "source": [
        "class Furniture:\n",
        "\tcolor = \"\"\n",
        "\tmaterial = \"\"\n",
        "\n",
        "\tdef describe_furniture(piece):\n",
        "\t\tprint(\"Этот предмет мебели изготовлен из {} {}\".format(piece.color, piece.material))\n",
        "\n",
        "table = Furniture()\n",
        "coach = Furniture()\n",
        "\n",
        "table.color = 'коричневый'\n",
        "table.material = 'деревянный'\n",
        "\n",
        "coach.color = 'красный'\n",
        "coach.material = 'кожаный'\n",
        "\n",
        "table.describe_furniture()\n",
        "coach.describe_furniture() \n"
      ],
      "metadata": {
        "colab": {
          "base_uri": "https://localhost:8080/"
        },
        "id": "SZjiN-Teadsw",
        "outputId": "5f1c2d04-e46d-4bc9-bce2-a408d29bea9e"
      },
      "execution_count": 5,
      "outputs": [
        {
          "output_type": "stream",
          "name": "stdout",
          "text": [
            "Этот предмет мебели изготовлен из коричневый деревянный\n",
            "Этот предмет мебели изготовлен из красный кожаный\n"
          ]
        }
      ]
    }
  ]
}