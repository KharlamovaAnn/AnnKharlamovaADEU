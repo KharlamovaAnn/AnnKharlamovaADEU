{
  "nbformat": 4,
  "nbformat_minor": 0,
  "metadata": {
    "colab": {
      "provenance": [],
      "authorship_tag": "ABX9TyMGcX0COdSdxx8wrmcDgPow",
      "include_colab_link": true
    },
    "kernelspec": {
      "name": "python3",
      "display_name": "Python 3"
    },
    "language_info": {
      "name": "python"
    }
  },
  "cells": [
    {
      "cell_type": "markdown",
      "metadata": {
        "id": "view-in-github",
        "colab_type": "text"
      },
      "source": [
        "<a href=\"https://colab.research.google.com/github/KharlamovaAnn/AnnKharlamovaADEU/blob/main/Lab9.ipynb\" target=\"_parent\"><img src=\"https://colab.research.google.com/assets/colab-badge.svg\" alt=\"Open In Colab\"/></a>"
      ]
    },
    {
      "cell_type": "markdown",
      "source": [
        "# Программирование на языке высокого уровня (Python).\n",
        "# https://www.yuripetrov.ru/edu/python\n",
        "\n",
        "# Выполнил: Харламова Анна\n",
        "# Группа: АДЭУ-221\n",
        "# E-mail: Supricon@yandex.ru"
      ],
      "metadata": {
        "id": "PfSokpj6qk26"
      }
    },
    {
      "cell_type": "markdown",
      "source": [
        "№ 9.2.2\n",
        "Установите пакет pyscreenshot, предназначенный для создания скриншотов, используя следующую команду:\n",
        "\n",
        "pip install Pillow pyscreenshot Используя функции grab() и save(), создайте и сохраните скриншот рабочего стола."
      ],
      "metadata": {
        "id": "rRBs1ihY3sYz"
      }
    },
    {
      "cell_type": "code",
      "source": [
        "pip install Pillow pyscreenshot"
      ],
      "metadata": {
        "colab": {
          "base_uri": "https://localhost:8080/"
        },
        "id": "IgYPSXiZ2v_-",
        "outputId": "8e295ccd-487e-467f-b15c-934bc4b6b02c"
      },
      "execution_count": null,
      "outputs": [
        {
          "output_type": "stream",
          "name": "stdout",
          "text": [
            "Looking in indexes: https://pypi.org/simple, https://us-python.pkg.dev/colab-wheels/public/simple/\n",
            "Requirement already satisfied: Pillow in /usr/local/lib/python3.8/dist-packages (7.1.2)\n",
            "Collecting pyscreenshot\n",
            "  Downloading pyscreenshot-3.0-py3-none-any.whl (27 kB)\n",
            "Collecting entrypoint2\n",
            "  Downloading entrypoint2-1.1-py2.py3-none-any.whl (9.9 kB)\n",
            "Collecting mss\n",
            "  Downloading mss-7.0.1-py3-none-any.whl (76 kB)\n",
            "\u001b[K     |████████████████████████████████| 76 kB 4.1 MB/s \n",
            "\u001b[?25hCollecting EasyProcess\n",
            "  Downloading EasyProcess-1.1-py3-none-any.whl (8.7 kB)\n",
            "Collecting jeepney\n",
            "  Downloading jeepney-0.8.0-py3-none-any.whl (48 kB)\n",
            "\u001b[K     |████████████████████████████████| 48 kB 4.9 MB/s \n",
            "\u001b[?25hInstalling collected packages: mss, jeepney, entrypoint2, EasyProcess, pyscreenshot\n",
            "Successfully installed EasyProcess-1.1 entrypoint2-1.1 jeepney-0.8.0 mss-7.0.1 pyscreenshot-3.0\n"
          ]
        }
      ]
    },
    {
      "cell_type": "code",
      "source": [
        "import pyscreenshot as ImageGrab\n",
        "import time\n",
        "from datetime import datetime\n",
        "\n",
        "def take_screenshot():\n",
        "    print(\"Taking screenshot..\")\n",
        "    image = f\"screenshot-{str(datetime.now())}\"\n",
        "    screenshot = ImageGrab.grab()\n",
        "    \n",
        "    filepath = f\"./screenshots/{image}.png\"\n",
        "\n",
        "    print(\"Screenshot taken...\")\n",
        "    \n",
        "    screenshot.save(filepath)\n",
        "\n",
        "    return filepath\n",
        "if __name__ == '__main__' :\n",
        "    print(\"работает\")"
      ],
      "metadata": {
        "colab": {
          "base_uri": "https://localhost:8080/"
        },
        "id": "KFsSRx1x2xRf",
        "outputId": "0700a32f-3d70-4f53-d230-2fd2ac673724"
      },
      "execution_count": null,
      "outputs": [
        {
          "output_type": "stream",
          "name": "stdout",
          "text": [
            "работает\n"
          ]
        }
      ]
    },
    {
      "cell_type": "markdown",
      "source": [],
      "metadata": {
        "id": "izMF9ysH3x6M"
      }
    }
  ]
}