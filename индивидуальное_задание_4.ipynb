{
  "nbformat": 4,
  "nbformat_minor": 0,
  "metadata": {
    "colab": {
      "provenance": [],
      "authorship_tag": "ABX9TyMInESeXB7P8ALLDp4OYf2t",
      "include_colab_link": true
    },
    "kernelspec": {
      "name": "python3",
      "display_name": "Python 3"
    },
    "language_info": {
      "name": "python"
    }
  },
  "cells": [
    {
      "cell_type": "markdown",
      "metadata": {
        "id": "view-in-github",
        "colab_type": "text"
      },
      "source": [
        "<a href=\"https://colab.research.google.com/github/KharlamovaAnn/AnnKharlamovaADEU/blob/main/%D0%B8%D0%BD%D0%B4%D0%B8%D0%B2%D0%B8%D0%B4%D1%83%D0%B0%D0%BB%D1%8C%D0%BD%D0%BE%D0%B5_%D0%B7%D0%B0%D0%B4%D0%B0%D0%BD%D0%B8%D0%B5_4.ipynb\" target=\"_parent\"><img src=\"https://colab.research.google.com/assets/colab-badge.svg\" alt=\"Open In Colab\"/></a>"
      ]
    },
    {
      "cell_type": "markdown",
      "source": [
        "№2"
      ],
      "metadata": {
        "id": "x4XwMgNQ8oll"
      }
    },
    {
      "cell_type": "code",
      "source": [
        "import time\n",
        "import sys"
      ],
      "metadata": {
        "id": "tqTloZln_T8N"
      },
      "execution_count": null,
      "outputs": []
    },
    {
      "cell_type": "code",
      "source": [
        "if __name__ == \"__main__\":\n",
        "  print(\"start\")\n",
        "  start = time.time()\n",
        "  \n",
        "  def answer(func):\n",
        "    def wrapper(*args, **kwargs):\n",
        "      result = func(*args, **kwargs)\n",
        "      return f\"Результат функции: {result}\"\n",
        "    return wrapper\n",
        "\n",
        "@answer\n",
        "def a_plus_b(a, b):\n",
        "    return a + b\n",
        "\n",
        "print(a_plus_b(3, 5))\n",
        "print(a_plus_b(7, 9))\n",
        "\n",
        "@answer\n",
        "def get_letters(text: str) -> str:\n",
        "  return ''.join(sorted(set(filter(str.isalpha, text.lower()))))\n",
        "print(get_letters('Hello, world!'))\n",
        "print(get_letters('Декораторы это круто =)'))\n",
        "\n",
        "end = time.time()\n",
        "\n",
        "memory_usage = sys.getsizeof(a_plus_b)+sys.getsizeof(get_letters) +sys.getsizeof(start)+sys.getsizeof(end)+sys.getsizeof(answer)\n",
        "print(\"Время работы:\", end - start, \"секунд\")\n",
        "print(\"Используемая память:\", memory_usage , \"Байт\")\n",
        "     "
      ],
      "metadata": {
        "colab": {
          "base_uri": "https://localhost:8080/"
        },
        "id": "OpLOaBef8Rg1",
        "outputId": "bdf1c29b-a878-4acf-f2be-8b53b8c52ad2"
      },
      "execution_count": null,
      "outputs": [
        {
          "output_type": "stream",
          "name": "stdout",
          "text": [
            "start\n",
            "Результат функции: 8\n",
            "Результат функции: 16\n",
            "Результат функции: dehlorw\n",
            "Результат функции: адекортуыэ\n",
            "Время работы: 0.002784252166748047 секунд\n",
            "Используемая память: 480 Байт\n"
          ]
        }
      ]
    },
    {
      "cell_type": "markdown",
      "source": [
        "№3"
      ],
      "metadata": {
        "id": "qpDM3Eyl8-AB"
      }
    },
    {
      "cell_type": "code",
      "source": [
        "import time\n",
        "import sys"
      ],
      "metadata": {
        "id": "qZo4XNiM_yd2"
      },
      "execution_count": null,
      "outputs": []
    },
    {
      "cell_type": "code",
      "execution_count": null,
      "metadata": {
        "colab": {
          "base_uri": "https://localhost:8080/"
        },
        "id": "j51IJWoJ7-9T",
        "outputId": "53323ade-56d8-40b5-f924-bcfc7478c91d"
      },
      "outputs": [
        {
          "output_type": "stream",
          "name": "stdout",
          "text": [
            "start command\n",
            "Hello\n",
            "I just simple python func\n",
            "Goodbye!\n",
            "Hello\n",
            "15\n",
            "Goodbye!\n",
            "Время работы: 0.0003535747528076172 секунд\n",
            "Используемая память: 480 Байт\n"
          ]
        }
      ],
      "source": [
        "if __name__ == \"__main__\":\n",
        "  print(\"start command\")\n",
        "  start = time.time()\n",
        "  \n",
        "  def text_decor(func):\n",
        "    def wrapper(*args, **kwargs):\n",
        "        print(\"Hello\")\n",
        "        result = func(*args, **kwargs)\n",
        "        print(\"Goodbye!\")\n",
        "        return result\n",
        "    return wrapper\n",
        "\n",
        "@text_decor\n",
        "def simple_func():\n",
        "  print('I just simple python func')\n",
        "simple_func()\n",
        "\n",
        "@text_decor\n",
        "def multiply(num1, num2):\n",
        "  print(num1 * num2)\n",
        "multiply(3, 5)\n",
        "\n",
        "end=time.time()\n",
        "\n",
        "memory_usage = sys.getsizeof(simple_func)+sys.getsizeof(multiply)+sys.getsizeof(text_decor)+sys.getsizeof(start)+sys.getsizeof(end)\n",
        "\n",
        "print(\"Время работы:\", end - start, \"секунд\")\n",
        "print(\"Используемая память:\", memory_usage , \"Байт\")"
      ]
    },
    {
      "cell_type": "markdown",
      "source": [
        "№4"
      ],
      "metadata": {
        "id": "HnE1S28A9B2m"
      }
    },
    {
      "cell_type": "code",
      "source": [
        "import time\n",
        "import sys"
      ],
      "metadata": {
        "id": "n_4aoY5RAXTq"
      },
      "execution_count": null,
      "outputs": []
    },
    {
      "cell_type": "code",
      "source": [
        "if __name__ == \"__main__\":\n",
        "  print(\"start command\")\n",
        "  start = time.time()\n",
        "  \n",
        "def repeater(func):\n",
        "    def wrapper(*args, **kwargs):\n",
        "        result = func(*args, **kwargs)\n",
        "        func(*args, **kwargs)\n",
        "        return result\n",
        "    return wrapper\n",
        "\n",
        "@repeater\n",
        "def multiply(num1, num2):\n",
        "  print(num1 * num2)\n",
        "multiply(2, 7) \n",
        "multiply(5, 3) \n",
        "end=time.time()\n",
        "memory_usage = sys.getsizeof(multiply)+sys.getsizeof(repeater)+sys.getsizeof(start)+sys.getsizeof(end)\n",
        "\n",
        "print(\"Время работы:\", end - start, \"секунд\")\n",
        "print(\"Используемая память:\", memory_usage , \"Байт\")"
      ],
      "metadata": {
        "colab": {
          "base_uri": "https://localhost:8080/"
        },
        "id": "uUOCpnWY9G3d",
        "outputId": "aef506be-717e-4745-c9eb-6648dd6b0d61"
      },
      "execution_count": null,
      "outputs": [
        {
          "output_type": "stream",
          "name": "stdout",
          "text": [
            "start command\n",
            "14\n",
            "14\n",
            "15\n",
            "15\n",
            "Время работы: 0.00037479400634765625 секунд\n",
            "Используемая память: 336 Байт\n"
          ]
        }
      ]
    },
    {
      "cell_type": "markdown",
      "source": [
        "№5"
      ],
      "metadata": {
        "id": "2A1bSepz9DJy"
      }
    },
    {
      "cell_type": "code",
      "source": [
        "import time\n",
        "import sys"
      ],
      "metadata": {
        "id": "OR0cC-5AAkp-"
      },
      "execution_count": 17,
      "outputs": []
    },
    {
      "cell_type": "code",
      "source": [
        "if __name__ == \"__main__\":\n",
        "  print(\"start command\")\n",
        "  start = time.time()\n",
        "\n",
        "def double_it(func):\n",
        "    def wrapper(*args, **kwargs):\n",
        "        result = func(*args, **kwargs) \n",
        "        return result * 2\n",
        "    return wrapper\n",
        "\n",
        "@double_it\n",
        "def multiply(num1, num2):\n",
        "  return num1 * num2\n",
        "res1 = multiply(9, 4) \n",
        "print(res1)\n",
        "@double_it\n",
        "def get_sum(*args):\n",
        "  return sum(args)\n",
        "res2 = get_sum(1, 2, 3, 4, 5)\n",
        "print(res2) \n",
        "\n",
        "end=time.time()\n",
        "memory_usage = sys.getsizeof(multiply)+sys.getsizeof(get_sum)+sys.getsizeof(start)+sys.getsizeof(end)+sys.getsizeof(double_it)+sys.getsizeof(res1)+sys.getsizeof(res2)\n",
        "\n",
        "print(\"Время работы:\", end - start, \"секунд\")\n",
        "print(\"Используемая память:\", memory_usage, \"Байт\")"
      ],
      "metadata": {
        "colab": {
          "base_uri": "https://localhost:8080/"
        },
        "id": "DPA7bkXX9MNA",
        "outputId": "abce5143-f447-48cd-e04d-ca0663f5e06b"
      },
      "execution_count": 18,
      "outputs": [
        {
          "output_type": "stream",
          "name": "stdout",
          "text": [
            "start command\n",
            "72\n",
            "30\n",
            "Время работы: 0.004479169845581055 секунд\n",
            "Используемая память: 536 Байт\n"
          ]
        }
      ]
    },
    {
      "cell_type": "markdown",
      "source": [
        "№6"
      ],
      "metadata": {
        "id": "J-Tkkb-m9Mcz"
      }
    },
    {
      "cell_type": "code",
      "source": [
        "import functools\n",
        "import time\n",
        "import sys"
      ],
      "metadata": {
        "id": "xnL1GjK0Azxf"
      },
      "execution_count": 19,
      "outputs": []
    },
    {
      "cell_type": "code",
      "source": [
        "if __name__ == \"main\":\n",
        "  print(\"start command\")\n",
        "  start = time.time( )\n",
        "\n",
        "def add_args(begin, end):\n",
        "    def decorator(func):\n",
        "      @functools.wraps(func)\n",
        "      def wrapper(*args, **kwargs):\n",
        "        new_args=(begin,) +args +(end,)\n",
        "        return func('begin', *args, 'end', **kwargs)\n",
        "      return wrapper\n",
        "    return decorator\n",
        "\n",
        "\n",
        "@add_args(\"begin\", \"end\")\n",
        "def my_function(*args):\n",
        "    \"\"\"Hello it`s document\"\"\"\n",
        "    print(args)\n",
        "\n",
        "my_function(\"hello\", \"world\")\n",
        "memory_usage = sys.getsizeof(my_function)+sys.getsizeof(add_args)+sys.getsizeof(start)+sys.getsizeof(end)+sys.getsizeof(help)\n",
        "help(my_function)\n",
        "end=time.time( )\n",
        "print(f\"Время выполнения: {end-start} секунд \")\n",
        "print(\"Используемая память:\", memory_usage, \"Байт\")"
      ],
      "metadata": {
        "colab": {
          "base_uri": "https://localhost:8080/"
        },
        "id": "P-YV95-U9M65",
        "outputId": "c040815d-fb5a-49d2-a53c-d7eed0908f2b"
      },
      "execution_count": 21,
      "outputs": [
        {
          "output_type": "stream",
          "name": "stdout",
          "text": [
            "('begin', 'hello', 'world', 'end')\n",
            "Help on function my_function in module __main__:\n",
            "\n",
            "my_function(*args)\n",
            "    Hello it`s document\n",
            "\n",
            "Время выполнения: 398.8306517601013 секунд \n",
            "Используемая память: 384 Байт\n"
          ]
        }
      ]
    }
  ]
}