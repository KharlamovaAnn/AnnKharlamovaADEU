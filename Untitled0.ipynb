{
  "nbformat": 4,
  "nbformat_minor": 0,
  "metadata": {
    "colab": {
      "provenance": [],
      "authorship_tag": "ABX9TyNn0H9zHruPFLnXy7B/WyJA",
      "include_colab_link": true
    },
    "kernelspec": {
      "name": "python3",
      "display_name": "Python 3"
    },
    "language_info": {
      "name": "python"
    }
  },
  "cells": [
    {
      "cell_type": "markdown",
      "metadata": {
        "id": "view-in-github",
        "colab_type": "text"
      },
      "source": [
        "<a href=\"https://colab.research.google.com/github/KharlamovaAnn/AnnKharlamovaADEU/blob/main/Untitled0.ipynb\" target=\"_parent\"><img src=\"https://colab.research.google.com/assets/colab-badge.svg\" alt=\"Open In Colab\"/></a>"
      ]
    },
    {
      "cell_type": "code",
      "execution_count": 5,
      "metadata": {
        "id": "fVE3fwnpTy8K"
      },
      "outputs": [],
      "source": [
        "# Date time\n",
        "\n",
        "from datetime import datetime\n",
        "\n",
        "now=datetime.now( )\n",
        "\n",
        "def print_date(date):\n",
        "      print(date.year)\n",
        "      print(date.month)\n",
        "      print(date.day)\n",
        "      print(date.hour)\n",
        "      print(date.minute)\n",
        "      print(date.second)\n",
        "      print(date.timestamp( ))"
      ]
    },
    {
      "cell_type": "code",
      "source": [
        "print_date(now)"
      ],
      "metadata": {
        "colab": {
          "base_uri": "https://localhost:8080/"
        },
        "id": "HEAU2GYDUiui",
        "outputId": "25c2e634-a40f-47f4-d354-e1852cfd5994"
      },
      "execution_count": 6,
      "outputs": [
        {
          "output_type": "stream",
          "name": "stdout",
          "text": [
            "2022\n",
            "11\n",
            "11\n",
            "6\n",
            "17\n",
            "28\n",
            "1668147448.293455\n"
          ]
        }
      ]
    },
    {
      "cell_type": "code",
      "source": [
        "year_2023=datetime(2023, 1, 1)\n",
        "\n",
        "print_date(year_2023)"
      ],
      "metadata": {
        "colab": {
          "base_uri": "https://localhost:8080/"
        },
        "id": "PkNHUS4nVHMS",
        "outputId": "5fd8e79f-94a3-4eac-d039-0f2ad64f72d9"
      },
      "execution_count": 7,
      "outputs": [
        {
          "output_type": "stream",
          "name": "stdout",
          "text": [
            "2023\n",
            "1\n",
            "1\n",
            "0\n",
            "0\n",
            "0\n",
            "1672531200.0\n"
          ]
        }
      ]
    },
    {
      "cell_type": "code",
      "source": [
        "# Operations with dates\n",
        "\n",
        "diff=year_2023-now\n",
        "print(diff)\n",
        "diff=year_2023.date( )-current_date\n",
        "print(diff)\n"
      ],
      "metadata": {
        "id": "yK4JZW_jVlYA"
      },
      "execution_count": null,
      "outputs": []
    },
    {
      "cell_type": "code",
      "source": [
        "# Date\n",
        "\n",
        "from datetime import date\n",
        "current_date=date.today( )\n",
        "\n",
        "print(current_date.year)\n",
        "print(current_date.month)\n",
        "print(current_date.day)\n",
        "\n",
        "current_date=date(2022, 11, 11)\n",
        "\n",
        "print(current_date.year)\n",
        "print(current_date.month)\n",
        "print(current_date.day)\n"
      ],
      "metadata": {
        "id": "MO9B53R1WY3N"
      },
      "execution_count": null,
      "outputs": []
    },
    {
      "cell_type": "code",
      "source": [
        "# Time\n",
        "\n",
        "from datetime import time\n",
        "\n",
        "current_time=time(21, 6, 0)\n",
        "\n",
        "print(current_time.hour)\n",
        "print(current_time.minute)\n",
        "print(current_time.second)"
      ],
      "metadata": {
        "id": "UWhmR9TeXMIl"
      },
      "execution_count": null,
      "outputs": []
    },
    {
      "cell_type": "code",
      "source": [
        "# Timedelta\n",
        "\n",
        "from datetime import timedelta\n",
        "\n",
        "start_timedelta=timedelta(200, 100, 100, weeks=10)\n",
        "end_timedelta=timedelta(300, 100, 100, weeks=13)\n",
        "\n",
        "print(end_timedelta-start_timedelta)\n",
        "print(end_timedelta+start_timedelta)\n"
      ],
      "metadata": {
        "id": "_LtGspYkX4-9"
      },
      "execution_count": null,
      "outputs": []
    },
    {
      "cell_type": "markdown",
      "source": [
        "List Comprehension"
      ],
      "metadata": {
        "id": "TzgxiXpLZDE5"
      }
    },
    {
      "cell_type": "code",
      "source": [
        "my_original_list=[0, 1, 2, 3, 4, 5, 6, 7]\n",
        "print(my_original_list)\n",
        "\n",
        "my_range=range(8)\n",
        "print(list(my_range))\n"
      ],
      "metadata": {
        "colab": {
          "base_uri": "https://localhost:8080/"
        },
        "id": "oe4MrtNZY8qq",
        "outputId": "20f057a8-2fe9-47ee-9ebf-6d481d0f78dd"
      },
      "execution_count": 9,
      "outputs": [
        {
          "output_type": "stream",
          "name": "stdout",
          "text": [
            "[0, 1, 2, 3, 4, 5, 6, 7]\n",
            "[0, 1, 2, 3, 4, 5, 6, 7]\n"
          ]
        }
      ]
    },
    {
      "cell_type": "code",
      "source": [
        "# Definition\n",
        "\n",
        "my_list=[i+1 for i in range(8)]\n",
        "print(my_list)\n",
        "\n",
        "my_list=[i*2 for i in range(8)]\n",
        "print(my_list)\n",
        "\n",
        "my_list=[i*1 for i in range(8)]\n",
        "print(my_list)\n",
        "\n",
        "def sum_five(number):\n",
        "          return number+5\n",
        "\n",
        "my_list=[sum_five(i) for i in range(8)]\n",
        "print(my_list)\n"
      ],
      "metadata": {
        "colab": {
          "base_uri": "https://localhost:8080/"
        },
        "id": "doMSNlC0Z8JO",
        "outputId": "783c1488-6be7-4955-8fef-aa69ee23275c"
      },
      "execution_count": 8,
      "outputs": [
        {
          "output_type": "stream",
          "name": "stdout",
          "text": [
            "[1, 2, 3, 4, 5, 6, 7, 8]\n",
            "[0, 2, 4, 6, 8, 10, 12, 14]\n",
            "[0, 1, 2, 3, 4, 5, 6, 7]\n",
            "[5, 6, 7, 8, 9, 10, 11, 12]\n"
          ]
        }
      ]
    },
    {
      "cell_type": "markdown",
      "source": [
        "##Задачи:"
      ],
      "metadata": {
        "id": "FHxIeRVqbVsc"
      }
    },
    {
      "cell_type": "markdown",
      "source": [
        "### 1. Известный \"шум\"\n",
        "Напишите программу, выводящую на консоль (с печатью) числа от 1 до 100, подставив следующее:\n",
        "\n",
        "\n",
        "*   если число кратно 3, слово \"Нет\"\n",
        "*   если число кратно 5, то слово \"Да\"\n",
        "*   если число кратно и 3, и 5, слово \"НетДа\"\n"
      ],
      "metadata": {
        "id": "U035UTZmbc3B"
      }
    },
    {
      "cell_type": "code",
      "source": [
        "def NoYes():\n",
        "      for index in range(1, 101):\n",
        "            if index % 3 == 0 and index % 5 == 0\n",
        "                print(\"НетДа\")\n",
        "            elif index % 3 == 0\n",
        "                print(\"Нет\")\n",
        "            elif index % 5 == 0 \n",
        "                print(\"Да\")\n",
        "            else:\n",
        "                print(index)\n",
        "                "
      ],
      "metadata": {
        "id": "P440TOgWcS7c"
      },
      "execution_count": null,
      "outputs": []
    },
    {
      "cell_type": "markdown",
      "source": [
        "### 2. Это анаграмма? \n",
        "кеамипртьолдб"
      ],
      "metadata": {
        "id": "PhpSzi5Idk59"
      }
    },
    {
      "cell_type": "code",
      "source": [
        "def is_anagram(word_one, word_two):\n",
        "    if word_one.lower( ) == word_two.lower( ):\n",
        "        return False\n",
        "    return sorted(word_one.lower( )) == sorted(word_two.lower( ))\n",
        "\n",
        "print(is_anagram(\"Amor\", \"Roma\"))\n",
        "print(is_anagram(\"Атлас\", \"Салат\"))\n",
        "print(is_anagram(\"adobe\", \"abode\"))\n",
        "print(is_anagram(\"Воз\", \"Зов\"))\n",
        "\n",
        "#Подобрать 20 анаграмм"
      ],
      "metadata": {
        "colab": {
          "base_uri": "https://localhost:8080/"
        },
        "id": "0EH0OiJddzPa",
        "outputId": "591dc507-8200-482a-b260-bd654a5ba766"
      },
      "execution_count": 11,
      "outputs": [
        {
          "output_type": "stream",
          "name": "stdout",
          "text": [
            "True\n",
            "True\n",
            "True\n",
            "True\n"
          ]
        }
      ]
    },
    {
      "cell_type": "code",
      "source": [
        "def is_anagram(word_one, word_two):\n",
        "    if word_one.lower( ) == word_two.lower( ):\n",
        "        return False\n",
        "    return sorted(word_one.lower( )) == sorted(word_two.lower( ))\n",
        "\n",
        "print(is_anagram(\"Карета\", \"Ракета\"))\n",
        "print(is_anagram(\"Колба\", \"Бокал\"))\n",
        "print(is_anagram(\"Кот\", \"Ток\"))\n",
        "print(is_anagram(\"Клоун\", \"Кулон\"))\n",
        "print(is_anagram(\"Сокол\", \"Колос\"))\n",
        "print(is_anagram(\"Волос\", \"Слово\"))\n",
        "print(is_anagram(\"Автор\", \"Товар\"))\n",
        "print(is_anagram(\"Марш\", \"Шрам\"))\n",
        "print(is_anagram(\"Вдох\", \"Вход\"))\n",
        "print(is_anagram(\"Так\", \"Акт\"))\n",
        "print(is_anagram(\"Среда\", \"Адрес\"))\n",
        "print(is_anagram(\"Кино\", \"Кони\"))\n",
        "print(is_anagram(\"Торс\", \"Рост\"))\n",
        "print(is_anagram(\"Трос\", \"Сорт\"))\n",
        "print(is_anagram(\"Карат\", \"Карта\"))\n",
        "print(is_anagram(\"Накат\", \"Канат\"))\n",
        "print(is_anagram(\"Носик\", \"Носки\"))\n",
        "print(is_anagram(\"Ночка\", \"Кочан\"))\n",
        "print(is_anagram(\"Накал\", \"Канал\"))\n",
        "print(is_anagram(\"Никель\", \"Ельник\"))\n"
      ],
      "metadata": {
        "colab": {
          "base_uri": "https://localhost:8080/"
        },
        "id": "BbweShiKiivl",
        "outputId": "e49a5722-c407-4045-9939-096ec4ae8c56"
      },
      "execution_count": 12,
      "outputs": [
        {
          "output_type": "stream",
          "name": "stdout",
          "text": [
            "True\n",
            "True\n",
            "True\n",
            "True\n",
            "True\n",
            "True\n",
            "True\n",
            "True\n",
            "True\n",
            "True\n",
            "True\n",
            "True\n",
            "True\n",
            "True\n",
            "True\n",
            "True\n",
            "True\n",
            "True\n",
            "True\n",
            "True\n"
          ]
        }
      ]
    },
    {
      "cell_type": "markdown",
      "source": [
        "### 3. Это простое число?\n",
        "Напишите программу, которая проверяет является ли число"
      ],
      "metadata": {
        "id": "aKIgglsRh6VQ"
      }
    },
    {
      "cell_type": "code",
      "source": [
        "#Это простое число?\n",
        "\n",
        "def is_prime(): \n",
        " \n",
        " for number in range(1, 101): \n",
        " \n",
        " if number >=2: \n",
        " \n",
        " is_divisible = False \n",
        " \n",
        " for index in range(2, number): \n",
        " if number % index ==0: \n",
        " is_divisible = True \n",
        " break \n",
        " \n",
        " if not is_divisible: \n",
        " print(number) \n",
        " \n",
        "is_prime()"
      ],
      "metadata": {
        "colab": {
          "base_uri": "https://localhost:8080/",
          "height": 139
        },
        "id": "1ZkrrDuegLiQ",
        "outputId": "0303576a-cffb-49d9-c404-14fb47273c23"
      },
      "execution_count": 14,
      "outputs": [
        {
          "output_type": "error",
          "ename": "IndentationError",
          "evalue": "ignored",
          "traceback": [
            "\u001b[0;36m  File \u001b[0;32m\"<ipython-input-14-56ec9a1a5710>\"\u001b[0;36m, line \u001b[0;32m7\u001b[0m\n\u001b[0;31m    if number >=2:\u001b[0m\n\u001b[0m     ^\u001b[0m\n\u001b[0;31mIndentationError\u001b[0m\u001b[0;31m:\u001b[0m expected an indented block\n"
          ]
        }
      ]
    },
    {
      "cell_type": "markdown",
      "source": [
        "### 4. Инвертирующие цепи\n",
        "Создайте программу, которая меняет порядок текстовой строки на обратный без использования языковых функций, которые делают это автоматически. Если бы мы передали \"Hello world\", он бы вернул \"dlrow olleH\"."
      ],
      "metadata": {
        "id": "dYjJmiGpgqwl"
      }
    },
    {
      "cell_type": "code",
      "source": [
        "\"\"\" \n",
        "создайте программу, которая меняет порядок текстовой строки на обратный, без использования языковых функций, которые \n",
        "делают это автоматически \n",
        "-если бы мы передали \"Hello world\", он бы вернул бы 'dlrow olleH' \n",
        "\"\"\" \n",
        " \n",
        "def reverse(text): \n",
        " text_len=len(text) \n",
        " reversed_text='' \n",
        " for index in range (0, text_len): \n",
        " reversed_text += text[text_len - index -1] \n",
        " return reversed_text \n",
        "print(reverse('Hello world'))\n"
      ],
      "metadata": {
        "colab": {
          "base_uri": "https://localhost:8080/",
          "height": 139
        },
        "id": "5RCZAY_nhcBp",
        "outputId": "7d3784de-c19c-470d-eab2-0de91790bb59"
      },
      "execution_count": 13,
      "outputs": [
        {
          "output_type": "error",
          "ename": "IndentationError",
          "evalue": "ignored",
          "traceback": [
            "\u001b[0;36m  File \u001b[0;32m\"<ipython-input-13-77d7815284c2>\"\u001b[0;36m, line \u001b[0;32m11\u001b[0m\n\u001b[0;31m    reversed_text += text[text_len - index -1]\u001b[0m\n\u001b[0m                ^\u001b[0m\n\u001b[0;31mIndentationError\u001b[0m\u001b[0;31m:\u001b[0m expected an indented block\n"
          ]
        }
      ]
    }
  ]
}