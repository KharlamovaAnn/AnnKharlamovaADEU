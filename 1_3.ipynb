{
  "nbformat": 4,
  "nbformat_minor": 0,
  "metadata": {
    "colab": {
      "provenance": [],
      "authorship_tag": "ABX9TyMAdYUnKZ05aCykncwhs+8R",
      "include_colab_link": true
    },
    "kernelspec": {
      "name": "python3",
      "display_name": "Python 3"
    },
    "language_info": {
      "name": "python"
    }
  },
  "cells": [
    {
      "cell_type": "markdown",
      "metadata": {
        "id": "view-in-github",
        "colab_type": "text"
      },
      "source": [
        "<a href=\"https://colab.research.google.com/github/KharlamovaAnn/AnnKharlamovaADEU/blob/main/1_3.ipynb\" target=\"_parent\"><img src=\"https://colab.research.google.com/assets/colab-badge.svg\" alt=\"Open In Colab\"/></a>"
      ]
    },
    {
      "cell_type": "markdown",
      "source": [
        "1.3.1 Создайте для класса «студент» функцию, которая считает средний \n",
        "балл по трем дисциплинам, оценки по которым вводятся пользователям. \n",
        "Реализуйте программу двумя способами: без использования \n",
        "конструктора __init__ и с ним. "
      ],
      "metadata": {
        "id": "9CQZ62qI-uIU"
      }
    },
    {
      "cell_type": "code",
      "execution_count": 10,
      "metadata": {
        "id": "Q2iV6Tcvyt2S",
        "colab": {
          "base_uri": "https://localhost:8080/"
        },
        "outputId": "73e44d8e-5399-4d04-b351-5fe4357ebb8b"
      },
      "outputs": [
        {
          "name": "stdout",
          "output_type": "stream",
          "text": [
            "Введите первую оценку 2\n",
            "Введите вторую оценку 4\n",
            "Введите третью оценку 5\n"
          ]
        },
        {
          "output_type": "execute_result",
          "data": {
            "text/plain": [
              "3.6666666666666665"
            ]
          },
          "metadata": {},
          "execution_count": 10
        }
      ],
      "source": [
        "class Student:\n",
        "    def __init__(self, disc1, disc2, disc3):\n",
        "        self.disc1 = disc1\n",
        "        self.disc2 = disc2\n",
        "        self.disc3 = disc3\n",
        "    \n",
        "    def val(self):\n",
        "        return ((self.disc1 + self.disc2 + self.disc3) / 3)\n",
        "\n",
        "first = int(input(\"Введите первую оценку \"))\n",
        "second = int(input(\"Введите вторую оценку \"))\n",
        "third = int(input(\"Введите третью оценку \")) \n",
        "a = Student(first, second, third)\n",
        "a.val()\n"
      ]
    },
    {
      "cell_type": "code",
      "source": [
        "class Student:\n",
        "    disc1 = 0\n",
        "    disc2 = 0\n",
        "    disc3 = 0\n",
        "\n",
        "    def val(self):\n",
        "        return ((self.disc1 + self.disc2 + self.disc3) / 3)\n",
        "\n",
        "first = int(input(\"Введите первую оценку \"))\n",
        "second = int(input(\"Введите вторую оценку \"))\n",
        "third = int(input(\"Введите третью оценку \")) \n",
        "\n",
        "b = Student()\n",
        "b.disc1 = first\n",
        "b.disc2 = second\n",
        "b.disc3 = third\n",
        "\n",
        "b.val()"
      ],
      "metadata": {
        "colab": {
          "base_uri": "https://localhost:8080/"
        },
        "id": "KoHJJ2Ay005I",
        "outputId": "005d2d8e-d8d6-4e7d-b4ba-425b10ba934a"
      },
      "execution_count": 12,
      "outputs": [
        {
          "name": "stdout",
          "output_type": "stream",
          "text": [
            "Введите первую оценку 2\n",
            "Введите вторую оценку 4\n",
            "Введите третью оценку 5\n"
          ]
        },
        {
          "output_type": "execute_result",
          "data": {
            "text/plain": [
              "3.6666666666666665"
            ]
          },
          "metadata": {},
          "execution_count": 12
        }
      ]
    },
    {
      "cell_type": "markdown",
      "source": [
        "1.3.2 Создайте функцию, которая считает и выводит в файл заработную \n",
        "плату сотрудника склада в зависимости от количества отработанных дней в \n",
        "месяце. Оклад является защищаемым атрибутом класса «сотрудник»."
      ],
      "metadata": {
        "id": "b2f8QLTV_Qo8"
      }
    },
    {
      "cell_type": "code",
      "source": [
        "class Worker:\n",
        "  "
      ],
      "metadata": {
        "id": "53sa5vX5_XdE"
      },
      "execution_count": null,
      "outputs": []
    },
    {
      "cell_type": "code",
      "source": [],
      "metadata": {
        "id": "JYPp2gKC_Xgg"
      },
      "execution_count": null,
      "outputs": []
    }
  ]
}