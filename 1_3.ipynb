{
  "nbformat": 4,
  "nbformat_minor": 0,
  "metadata": {
    "colab": {
      "provenance": [],
      "authorship_tag": "ABX9TyNAfMQPSZ922kWbQGMly8oy",
      "include_colab_link": true
    },
    "kernelspec": {
      "name": "python3",
      "display_name": "Python 3"
    },
    "language_info": {
      "name": "python"
    }
  },
  "cells": [
    {
      "cell_type": "markdown",
      "metadata": {
        "id": "view-in-github",
        "colab_type": "text"
      },
      "source": [
        "<a href=\"https://colab.research.google.com/github/KharlamovaAnn/AnnKharlamovaADEU/blob/main/1_3.ipynb\" target=\"_parent\"><img src=\"https://colab.research.google.com/assets/colab-badge.svg\" alt=\"Open In Colab\"/></a>"
      ]
    },
    {
      "cell_type": "markdown",
      "source": [
        "1.3.1 Создайте для класса «студент» функцию, которая считает средний \n",
        "балл по трем дисциплинам, оценки по которым вводятся пользователям. \n",
        "Реализуйте программу двумя способами: без использования \n",
        "конструктора __init__ и с ним. "
      ],
      "metadata": {
        "id": "9CQZ62qI-uIU"
      }
    },
    {
      "cell_type": "code",
      "execution_count": 15,
      "metadata": {
        "id": "Q2iV6Tcvyt2S",
        "colab": {
          "base_uri": "https://localhost:8080/"
        },
        "outputId": "21390961-c290-4057-b398-2eac3343255e"
      },
      "outputs": [
        {
          "output_type": "stream",
          "name": "stdout",
          "text": [
            "введите первую оценку: 4\n",
            "введите вторую оценку: 4\n",
            "введите третью оценку: 4\n",
            "Средний балл: 4.0\n",
            "Процесс удален\n"
          ]
        }
      ],
      "source": [
        "a=int(input(\"введите первую оценку: \"))\n",
        "b=int(input(\"введите вторую оценку: \"))\n",
        "c=int(input(\"введите третью оценку: \"))\n",
        "\n",
        "class Student:\n",
        "  _a = int( )\n",
        "  _b = int( )\n",
        "  _c = int( )\n",
        "\n",
        "  def __init__(self, _a, _b, _c):\n",
        "    self.a = _a\n",
        "    self.b = _b\n",
        "    self.c = _c\n",
        "\n",
        "  def sred(self):\n",
        "    s =((self.a+self.b+self.c)/3)\n",
        "    return s\n",
        "\n",
        "  def __del__(self):\n",
        "    print('Процесс удален')\n",
        "m = Student(a, b, c)\n",
        "\n",
        "print(f'Средний балл: {m.sred()}')\n"
      ]
    },
    {
      "cell_type": "code",
      "source": [
        "a = int(input(\"первая оценка: \"))\n",
        "b = int(input(\"вторая оценка: \"))\n",
        "c = int(input(\"третья оценка: \"))\n",
        "\n",
        "class Student:\n",
        "    fm=a\n",
        "    sm=b\n",
        "    tm=c\n",
        "\n",
        "def sred(a, b , c):\n",
        "  s =(a + b + c)/3\n",
        "  return s\n",
        "\n",
        "print(\"Средний балл: \", sred(a, b, c))"
      ],
      "metadata": {
        "colab": {
          "base_uri": "https://localhost:8080/"
        },
        "id": "KoHJJ2Ay005I",
        "outputId": "d30d69b1-0073-43e3-e8c0-56fbf204c26b"
      },
      "execution_count": 9,
      "outputs": [
        {
          "output_type": "stream",
          "name": "stdout",
          "text": [
            "первая оценка: 4\n",
            "вторая оценка: 4\n",
            "третья оценка: 4\n",
            "Средний балл:  4.0\n"
          ]
        }
      ]
    },
    {
      "cell_type": "markdown",
      "source": [
        "1.3.2 Создайте функцию, которая считает и выводит в файл заработную \n",
        "плату сотрудника склада в зависимости от количества отработанных дней в \n",
        "месяце. Оклад является защищаемым атрибутом класса «сотрудник»."
      ],
      "metadata": {
        "id": "b2f8QLTV_Qo8"
      }
    },
    {
      "cell_type": "code",
      "source": [
        "class Employee:\n",
        "    okl = float(input('Введите заработную плату: '))\n",
        "    wd = int(input('Введите количество рабочих дней в месяце: '))\n",
        "    fwd = int(input('Введите количество отработанных дней в месяце: '))\n",
        "    res = 0\n",
        "    def act_salary(self):\n",
        "        self.res = self.okl / self.wd * self.fwd\n",
        "        a = open('salary'', 'w') \n",
        "        a.write('Salary = ' + str(self.res) + '\\n')\n",
        "        a.close()\n",
        "        print('Файл сохранен.')\n",
        "        return self.res\n",
        "  "
      ],
      "metadata": {
        "id": "53sa5vX5_XdE",
        "colab": {
          "base_uri": "https://localhost:8080/",
          "height": 139
        },
        "outputId": "ae82683e-7321-46e0-b3ed-acf37a244eae"
      },
      "execution_count": 18,
      "outputs": [
        {
          "output_type": "error",
          "ename": "SyntaxError",
          "evalue": "ignored",
          "traceback": [
            "\u001b[0;36m  File \u001b[0;32m\"<ipython-input-18-01450e4d4af7>\"\u001b[0;36m, line \u001b[0;32m8\u001b[0m\n\u001b[0;31m    a = open('salary'', 'w')\u001b[0m\n\u001b[0m                         ^\u001b[0m\n\u001b[0;31mSyntaxError\u001b[0m\u001b[0;31m:\u001b[0m invalid syntax\n"
          ]
        }
      ]
    },
    {
      "cell_type": "code",
      "source": [],
      "metadata": {
        "id": "JYPp2gKC_Xgg"
      },
      "execution_count": null,
      "outputs": []
    }
  ]
}