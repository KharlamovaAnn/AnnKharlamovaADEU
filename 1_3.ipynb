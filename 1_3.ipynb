{
  "nbformat": 4,
  "nbformat_minor": 0,
  "metadata": {
    "colab": {
      "provenance": [],
      "authorship_tag": "ABX9TyMhBi/gFEvMqB7rqZHwxj55",
      "include_colab_link": true
    },
    "kernelspec": {
      "name": "python3",
      "display_name": "Python 3"
    },
    "language_info": {
      "name": "python"
    }
  },
  "cells": [
    {
      "cell_type": "markdown",
      "metadata": {
        "id": "view-in-github",
        "colab_type": "text"
      },
      "source": [
        "<a href=\"https://colab.research.google.com/github/KharlamovaAnn/AnnKharlamovaADEU/blob/main/1_3.ipynb\" target=\"_parent\"><img src=\"https://colab.research.google.com/assets/colab-badge.svg\" alt=\"Open In Colab\"/></a>"
      ]
    },
    {
      "cell_type": "markdown",
      "source": [
        "1.3.1 Создайте для класса «студент» функцию, которая считает средний \n",
        "балл по трем дисциплинам, оценки по которым вводятся пользователям. \n",
        "Реализуйте программу двумя способами: без использования \n",
        "конструктора __init__ и с ним. "
      ],
      "metadata": {
        "id": "9CQZ62qI-uIU"
      }
    },
    {
      "cell_type": "code",
      "execution_count": 2,
      "metadata": {
        "id": "Q2iV6Tcvyt2S",
        "colab": {
          "base_uri": "https://localhost:8080/"
        },
        "outputId": "4db1472e-6251-4c58-de54-8a69f9147b41"
      },
      "outputs": [
        {
          "output_type": "stream",
          "name": "stdout",
          "text": [
            "введите первую оценку: 4\n",
            "введите вторую оценку: 4\n",
            "введите третью оценку: 4\n",
            "Средний балл: 4.0\n",
            "Процесс завершен\n"
          ]
        }
      ],
      "source": [
        "a=int(input(\"введите первую оценку: \"))\n",
        "b=int(input(\"введите вторую оценку: \"))\n",
        "c=int(input(\"введите третью оценку: \"))\n",
        "\n",
        "class Student:\n",
        "  _a = int( )\n",
        "  _b = int( )\n",
        "  _c = int( )\n",
        "\n",
        "  def __init__(self, _a, _b, _c):\n",
        "    self.a = _a\n",
        "    self.b = _b\n",
        "    self.c = _c\n",
        "\n",
        "  def sred(self):\n",
        "    s =((self.a+self.b+self.c)/3)\n",
        "    return s\n",
        "\n",
        "  def __del__(self):\n",
        "    print('Процесс завершен')\n",
        "m = Student(a, b, c)\n",
        "\n",
        "print(f'Средний балл: {m.sred()}')\n"
      ]
    },
    {
      "cell_type": "code",
      "source": [
        "a = int(input(\"первая оценка: \"))\n",
        "b = int(input(\"вторая оценка: \"))\n",
        "c = int(input(\"третья оценка: \"))\n",
        "\n",
        "class Student:\n",
        "    d1= a\n",
        "    d2= b\n",
        "    d3= c \n",
        "\n",
        "def sred(a, b , c):\n",
        "  s =(a + b + c)/3\n",
        "  return s\n",
        "\n",
        "print(\"Средний балл: \", sred(a, b, c))"
      ],
      "metadata": {
        "colab": {
          "base_uri": "https://localhost:8080/"
        },
        "id": "KoHJJ2Ay005I",
        "outputId": "c9d9277f-4c67-4bc5-edd7-fd5647b98e62"
      },
      "execution_count": 3,
      "outputs": [
        {
          "output_type": "stream",
          "name": "stdout",
          "text": [
            "первая оценка: 4\n",
            "вторая оценка: 4\n",
            "третья оценка: 4\n",
            "Средний балл:  4.0\n"
          ]
        }
      ]
    },
    {
      "cell_type": "markdown",
      "source": [
        "1.3.2 Создайте функцию, которая считает и выводит в файл заработную \n",
        "плату сотрудника склада в зависимости от количества отработанных дней в \n",
        "месяце. Оклад является защищаемым атрибутом класса «сотрудник».\n",
        "\n",
        "1.3.3 Используя результат предыдущего задания, создайте функцию начисления премии сотруднику, вычисляемую как 1% от уровня заработной платы."
      ],
      "metadata": {
        "id": "b2f8QLTV_Qo8"
      }
    },
    {
      "cell_type": "code",
      "source": [
        "class Employee:\n",
        "    okl = float(input('Введите заработную плату: '))\n",
        "    wd = int(input('Введите количество рабочих дней в месяце: '))\n",
        "    fwd = int(input('Введите количество отработанных дней в месяце: '))\n",
        "    res = 0\n",
        "    res1 = 0\n",
        "\n",
        "    def act_salary(self):\n",
        "        self.res = self.okl / self.wd * self.fwd\n",
        "        file = open('salary', 'w+', encoding='utf-8') \n",
        "        file.write('Salary = ' + str(self.res) + '\\n')\n",
        "        file.close( )\n",
        "        print(self.res)\n",
        "        return self.res\n",
        "          \n",
        "    def award(self):\n",
        "        i = self.act_salary( )\n",
        "        self.res1 += (self.res * 1.01)\n",
        "        file = open('salary', 'w+', encoding='utf-8')\n",
        "        file.write('Salary + award = ' + str(self.res) + '\\n')\n",
        "        file.close( )\n",
        "        print(self.res1)\n",
        "    \n",
        "    def __del__(self):\n",
        "        print('Процесс завершен')\n",
        "\n",
        "if __name__ == \"__main__\":\n",
        "  \n",
        "    c = Employee( )\n",
        "    c.award( )\n",
        "    "
      ],
      "metadata": {
        "id": "53sa5vX5_XdE",
        "colab": {
          "base_uri": "https://localhost:8080/"
        },
        "outputId": "d9a1a2e8-1e9e-42d2-d920-c6ca5b56fd2c"
      },
      "execution_count": 22,
      "outputs": [
        {
          "output_type": "stream",
          "name": "stdout",
          "text": [
            "Введите заработную плату: 20000\n",
            "Введите количество рабочих дней в месяце: 20\n",
            "Введите количество отработанных дней в месяце: 15\n",
            "15000.0\n",
            "15150.0\n"
          ]
        }
      ]
    },
    {
      "cell_type": "markdown",
      "source": [
        "1.3.4 Модифицируйте предыдущую программу, позволяющую вычислять заработную плату, премию для сотрудников и определять величину общего фонда заработной платы как сумму заработной платы и премий, деленную на коэффициент 0,7.\n",
        "\n",
        "Данные о сотрудниках вводятся через цикл while и записываются в соответствующий файл .txt или .xlsx."
      ],
      "metadata": {
        "id": "DflBxdhejE3c"
      }
    },
    {
      "cell_type": "code",
      "source": [
        "class Employee:\n",
        "    res = 0\n",
        "    res1 = 0\n",
        "\n",
        "    def __init__(self):\n",
        "        self.okl = float(input('Введите заработную плату: '))\n",
        "        self.wd = int(input('Введите количество рабочих дней в месяце: '))\n",
        "        self.fwd = int(input('Введите количество отработанных дней в месяце: '))\n",
        "        \n",
        "    def act_salary(self):\n",
        "        self.res = self.okl / self.wd * self.fwd\n",
        "        file = open('salary', 'w+', encoding='utf-8') \n",
        "        file.write('Salary = ' + str(self.res) + '\\n')\n",
        "        file.close( )\n",
        "        print(self.res)\n",
        "        return self.res\n",
        "\n",
        "    def award(self):\n",
        "        i = self.act_salary( )\n",
        "        self.res1 += (self.res * 1.01)\n",
        "        file = open('salary', 'w+', encoding='utf-8')\n",
        "        file.write('Salary + award = ' + str(self.res) + '\\n')\n",
        "        file.close( )\n",
        "        print(self.res1)\n",
        "        return self.res1\n",
        "\n",
        "    def __del__(self):\n",
        "        print('Процесс завершен.')\n",
        "\n",
        "quantiti = int(input('Введите количество сотрудников: '))\n",
        "x = 0\n",
        "open('salary_funds', 'w+', encoding='utf-8')\n",
        "while x < quantiti:\n",
        "    x += 1\n",
        "    f = Employee( )\n",
        "    res = f.award( )\n",
        "    listing = open('salary_funds', 'a')\n",
        "    listing.write(str(res) + '\\n')\n",
        "    listing.close()\n",
        "    del f\n",
        "\n",
        "def salary_f(filename):\n",
        "    resource = open(filename, 'r')\n",
        "    a = resource.read()\n",
        "    open(filename).read().split('\\n')\n",
        "\n",
        "    result = [ ]\n",
        "    with open(filename) as f:\n",
        "        for line in f:\n",
        "            result.append([float(x) for x in line.split()])\n",
        "\n",
        "    res1 = [ ]\n",
        "    for x in result:\n",
        "        for y in x:\n",
        "            res1.append(y)\n",
        "    sum_salary = sum(res1)\n",
        "\n",
        "    listing = open('salary_funds', 'a')\n",
        "    listing.write('sum_salary = ' + str(sum_salary) + '\\n')\n",
        "    listing.close()\n",
        "    return sum_salary\n",
        "\n",
        "o = salary_f('salary_funds')\n",
        "\n",
        "print('sum_salary = ', o)"
      ],
      "metadata": {
        "id": "Zcz4KnkhoTwO",
        "outputId": "e9721ce6-7bab-42cd-8906-1ffc90ba9d96",
        "colab": {
          "base_uri": "https://localhost:8080/"
        }
      },
      "execution_count": 28,
      "outputs": [
        {
          "output_type": "stream",
          "name": "stdout",
          "text": [
            "Введите количество сотрудников: 3\n",
            "Введите заработную плату: 25000\n",
            "Введите количество рабочих дней в месяце: 25\n",
            "Введите количество отработанных дней в месяце: 20\n",
            "20000.0\n",
            "20200.0\n",
            "Процесс завершен.\n",
            "Введите заработную плату: 20000\n",
            "Введите количество рабочих дней в месяце: 25\n",
            "Введите количество отработанных дней в месяце: 20\n",
            "16000.0\n",
            "16160.0\n",
            "Процесс завершен.\n",
            "Введите заработную плату: 22500\n",
            "Введите количество рабочих дней в месяце: 25\n",
            "Введите количество отработанных дней в месяце: 20\n",
            "18000.0\n",
            "18180.0\n",
            "Процесс завершен.\n",
            "sum_salary =  54540.0\n"
          ]
        }
      ]
    },
    {
      "cell_type": "markdown",
      "source": [
        "1.3.5 Используя технологию перегрузки операторов, измените truediv(деление) так, чтобы числителем был знаменатель и наоборот. Аналогичные процедуры осуществите для операторов floordiv(целочисленное деление), mod(остаток от деления). Числа вводят пользователи. Предусмотрите отработку исключений."
      ],
      "metadata": {
        "id": "Wzi6qgvts4wR"
      }
    },
    {
      "cell_type": "code",
      "source": [
        "class Worker():\n",
        "    def __init__(self, a):\n",
        "        self.q = float(a)\n",
        "    def __truediv__(self, y):\n",
        "        return y / self.q\n",
        "    def __floordiv__(self, c):\n",
        "        return int(c // self.q)\n",
        "    def __mod__(self, z):\n",
        "        return int(z % self.q)\n",
        "    \n",
        "try:\n",
        "  x = Worker(int(input()))\n",
        "  b = int(input())\n",
        "  print(x / b) \n",
        "  print(x // b) \n",
        "  print(x % b) \n",
        "\n",
        "except ZeroDivisionError and ValueError:\n",
        "  print(\"Проверьте введенные данные\")\n"
      ],
      "metadata": {
        "id": "sdP7On_ks8gZ",
        "outputId": "a4df4867-8600-47cf-a73e-d3c5b07b809c",
        "colab": {
          "base_uri": "https://localhost:8080/"
        }
      },
      "execution_count": 29,
      "outputs": [
        {
          "output_type": "stream",
          "name": "stdout",
          "text": [
            "5\n",
            "10\n",
            "2.0\n",
            "2\n",
            "0\n"
          ]
        }
      ]
    }
  ]
}