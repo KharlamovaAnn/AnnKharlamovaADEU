{
  "nbformat": 4,
  "nbformat_minor": 0,
  "metadata": {
    "colab": {
      "provenance": [],
      "authorship_tag": "ABX9TyMB4moXbvltiQhZca97ugO+",
      "include_colab_link": true
    },
    "kernelspec": {
      "name": "python3",
      "display_name": "Python 3"
    },
    "language_info": {
      "name": "python"
    }
  },
  "cells": [
    {
      "cell_type": "markdown",
      "metadata": {
        "id": "view-in-github",
        "colab_type": "text"
      },
      "source": [
        "<a href=\"https://colab.research.google.com/github/KharlamovaAnn/AnnKharlamovaADEU/blob/main/%D0%9B%D0%B5%D0%BA%D1%86%D0%B8%D1%8F_21_04.ipynb\" target=\"_parent\"><img src=\"https://colab.research.google.com/assets/colab-badge.svg\" alt=\"Open In Colab\"/></a>"
      ]
    },
    {
      "cell_type": "markdown",
      "source": [
        "###Декоратор"
      ],
      "metadata": {
        "id": "MXkUHcynuvVC"
      }
    },
    {
      "cell_type": "markdown",
      "source": [
        "Все функции являются объектами, могут быть связаны с переменными и в них можно создавать вложенные функции(то есть функция может быть определена внутри другой функции), функция может врнуть другую функцию, можно и передавать другую функцию"
      ],
      "metadata": {
        "id": "VMcbFZrovRD8"
      }
    },
    {
      "cell_type": "code",
      "execution_count": null,
      "metadata": {
        "id": "HH-PauAIun_A"
      },
      "outputs": [],
      "source": [
        "def another_stand_alone_function( ):\n",
        "  print(\"Оставь меня в покое\")\n",
        "\n",
        "another_stand_alone_function( )\n",
        "\n",
        "another_stand_alone_function = my_shiny_new_decorator(another_stand_alone_function)"
      ]
    },
    {
      "cell_type": "code",
      "source": [
        "def bread(func):\n",
        "  def wrapper( ):\n",
        "    print(\"bread1\")\n",
        "    func( )\n",
        "    print(\"bread2\")\n",
        "  return wrapper\n",
        "\n",
        "def ingredients(func):\n",
        "  def wrapper( ):\n",
        "    print(\"tomatoes\")\n",
        "    func( )\n",
        "    print(\"salad\")\n",
        "  return wrapper\n",
        "\n",
        "def sandwich(food=\"ham\"):\n",
        "  print(food)"
      ],
      "metadata": {
        "id": "C-ytrwiQybgu"
      },
      "execution_count": null,
      "outputs": []
    },
    {
      "cell_type": "code",
      "source": [
        "@bread\n",
        "@ingredients\n",
        "def sandwich(food=\"ham\")\n",
        "  print(food)\n",
        "\n",
        "sandwich( )"
      ],
      "metadata": {
        "id": "WPpTJagW3leS"
      },
      "execution_count": null,
      "outputs": []
    },
    {
      "cell_type": "code",
      "source": [
        "def method_friendly_decorator(method_to_decorate):\n",
        "  def wrapper(self, lie):\n",
        "    lie = lie - 3\n",
        "    return method_to_decorate(self, lie)\n",
        "  return wrapper\n",
        "  class Lucy(object):\n",
        "    def __init__(self):\n",
        "      seelf.age = 32\n",
        "    @method_friendly_decorator\n",
        "    def say_your_age(self, lie):\n",
        "      print(\"Мне %s, а ты бы сколько дал?\" % (self.age + lie))\n",
        "\n",
        "l = Lucy ()\n",
        "l.say_your_age (-3)\n",
        "# выведет: Мне 26, а ты бы сколько дал?      \n"
      ],
      "metadata": {
        "id": "u9zuMmtQzmDn"
      },
      "execution_count": null,
      "outputs": []
    },
    {
      "cell_type": "markdown",
      "source": [
        "##Декораторы классов"
      ],
      "metadata": {
        "id": "T03dcBjs2MfB"
      }
    },
    {
      "cell_type": "markdown",
      "source": [
        "\n",
        "*  методы экземпляров\n",
        "*  методы класса\n",
        "*  статические методы\n",
        "\n"
      ],
      "metadata": {
        "id": "2LQQbfhQ4BwG"
      }
    },
    {
      "cell_type": "code",
      "source": [
        "class ToyClass:\n",
        "  def instancemethod(self):\n",
        "    return \"instance method called\", self\n",
        "\n",
        "  @classmethod \n",
        "  def classmethod(cls):\n",
        "    return \"class  method called\" , cls \n",
        "  \n",
        "  @staticmethod\n",
        "  def staticmethod():\n",
        "    return \"static method called \""
      ],
      "metadata": {
        "id": "Kywsu8mG8MHH"
      },
      "execution_count": null,
      "outputs": []
    },
    {
      "cell_type": "code",
      "source": [
        "from datetime import date\n",
        "\n",
        "\n",
        "class Person:\n",
        "  def __init__(self, name, age):\n",
        "    self.name = name\n",
        "    self.age = age\n",
        "\n",
        "  @classmethod\n",
        "  def from_birth_year(cls, name, year):\n",
        "    return cls(name, date.today( ).year - year)\n",
        "\n",
        "  @staticmethod\n",
        "  def is_adult(age):\n",
        "    return age > 18"
      ],
      "metadata": {
        "id": "MTGBRc2Q18xF"
      },
      "execution_count": null,
      "outputs": []
    },
    {
      "cell_type": "code",
      "source": [
        "person1 = Person(\"Mike\", 25)\n",
        "person2 = Person.from_birth_year(\"Roark\",1994)"
      ],
      "metadata": {
        "id": "GJSdPEQO8RdW"
      },
      "execution_count": null,
      "outputs": []
    },
    {
      "cell_type": "code",
      "source": [
        "person1.name, person1.age"
      ],
      "metadata": {
        "id": "IlZ_adao8Sgz"
      },
      "execution_count": null,
      "outputs": []
    },
    {
      "cell_type": "code",
      "source": [
        "person2.name, person2.age"
      ],
      "metadata": {
        "id": "G0Ff1V2N8VLV"
      },
      "execution_count": null,
      "outputs": []
    },
    {
      "cell_type": "code",
      "source": [
        "Person.is_adult(25)"
      ],
      "metadata": {
        "id": "pKrm7Gak8aAp"
      },
      "execution_count": null,
      "outputs": []
    },
    {
      "cell_type": "code",
      "source": [
        "from math import pi\n",
        "class Cylinder:\n",
        "  @staticmethod\n",
        "  def make_area(d, h):\n",
        "    circle = pi * d ** 2 / 4\n",
        "    side = pi * d * h\n",
        "    return round(circle*2 + side, 2)\n",
        "  def __init__(self, diameter, high):\n",
        "    self.dia = diameter\n",
        "    self.h = high\n",
        "    self.area = self.make_area(diameter, high)\n",
        "\n",
        "a = Cylinder(1, 2)\n",
        "print(a.area)\n",
        "print(a.make_area(2, 2))"
      ],
      "metadata": {
        "id": "iMkoEV2Y4cfU"
      },
      "execution_count": null,
      "outputs": []
    },
    {
      "cell_type": "code",
      "source": [
        "from math import pi\n",
        "\n",
        "class Cylinder:\n",
        "  @staticmethod \n",
        "  def make_area(d,h):\n",
        "    circle = pi* d ** 2 / 4 \n",
        "    side = pi * d * h\n",
        "    return round(circle*2 +side,2)\n",
        "\n",
        "  def __init__(self,diameter,high):\n",
        "    self.__dict__[\"dia\"] = diameter\n",
        "    self.__dict__[\"h\"] = high\n",
        "    self.__area__[\"area\"]=self.make_area(diameter,high)\n",
        "  \n",
        "  def __setattr__(self,key,value):\n",
        "    if key == 'dia':\n",
        "      self.__dict__[\"dia\"] = value\n",
        "      self.__area__[\"area\"]=self.make_area(self.__dict__['dia'],self.__dict__)"
      ],
      "metadata": {
        "id": "D8QsrcrU77X1"
      },
      "execution_count": null,
      "outputs": []
    },
    {
      "cell_type": "code",
      "source": [
        "from abc import ABC, abstractmethod \n",
        "class Hero:\n",
        "      def __init__(self):\n",
        "        self.positive_effects = []\n",
        "        self.negative_effects = []\n",
        "        self.stats = {\n",
        "            \"HP\": 128,\n",
        "            \"MP\": 42,\n",
        "            \"SP\": 100,\n",
        "            \"Strength\": 15,\n",
        "            \"Perception\": 4,\n",
        "            \"Endurance\": 8,\n",
        "            \"Charisma\": 2,\n",
        "            \"Intelligence\": 3,\n",
        "            \"Agility\": 8,\n",
        "            \"Luck\": 1\n",
        "        }\n",
        " \n",
        "      def get_positive_effects(self):\n",
        "        return self.positive_effects.copy()\n",
        "  \n",
        "      def get_negative_effects(self):\n",
        "        return self.negative_effects.copy()\n",
        " \n",
        "      def get_stats(self):\n",
        "        return self.stats.copy()"
      ],
      "metadata": {
        "id": "AFA9_OUy8fAh"
      },
      "execution_count": null,
      "outputs": []
    },
    {
      "cell_type": "code",
      "source": [
        "class Abstracteffect(Hero, ABC):\n",
        "  def __init__(self, base):\n",
        "    self.base = base\n",
        "\n",
        "  @abstractmethod\n",
        "  def get_positive_effects(self):\n",
        "        return self.positive_effects\n",
        "\n",
        "  @abstractmethod\n",
        "  def get_negative_effects(self):\n",
        "        return self.negative_effects\n",
        "\n",
        "  @abstractmethod\n",
        "  def get_stats(self):\n",
        "        pass\n",
        "\n",
        "\n",
        "class AbstractPositive(AbstractEffect):\n",
        "    def get_negative_effects(self):\n",
        "        return self.base.get_negative_effects()\n",
        "\n",
        "\n",
        "class AbstractNegative(AbstractEffect):    \n",
        "    def get_positive_effects(self):\n",
        "        return self.base.get_positive_effects()\n",
        "\n",
        "\n",
        "class Berserk(AbstractPositive):    \n",
        "    def get_stats(self):\n",
        "        stats = self.base.get_stats()\n",
        "        stats[\"HP\"] += 50\n",
        "        stats[\"Strength\"] += 7\n",
        "        stats[\"Endurance\"] += 7\n",
        "        stats[\"Agility\"] += 7\n",
        "        stats[\"Luck\"] += 7\n",
        "        stats[\"Perception\"] -= 3\n",
        "        stats[\"Charisma\"] -= 3\n",
        "        stats[\"Intelligence\"] -= 3\n",
        "        return stats\n",
        "\n",
        "    def get_positive_effects(self):\n",
        "        return self.base.get_positive_effects() + [\"Berserk\"]\n",
        "\n",
        "\n",
        "class Blessing(AbstractPositive):    \n",
        "    def get_stats(self):\n",
        "        stats = self.base.get_stats()\n",
        "        stats[\"Strength\"] += 2\n",
        "        stats[\"Endurance\"] += 2\n",
        "        stats[\"Agility\"] += 2\n",
        "        stats[\"Luck\"] += 2\n",
        "        stats[\"Perception\"] += 2\n",
        "        stats[\"Charisma\"] += 2\n",
        "        stats[\"Intelligence\"] += 2\n",
        "        return stats\n",
        "\n",
        "    def get_positive_effects(self):\n",
        "        return self.base.get_positive_effects() + [\"Blessing\"]\n",
        "\n",
        "\n",
        "class Weakness(AbstractNegative):    \n",
        "    def get_stats(self):\n",
        "        stats = self.base.get_stats()\n",
        "        stats[\"Strength\"] -= 4\n",
        "        stats[\"Endurance\"] -= 4\n",
        "        stats[\"Agility\"] -= 4\n",
        "        return stats\n",
        "\n",
        "    def get_negative_effects(self):\n",
        "        return self.base.get_negative_effects() + [\"Weakness\"]\n",
        "\n",
        "\n",
        "class Curse(AbstractNegative):\n",
        "    def get_stats(self):\n",
        "        stats = self.base.get_stats()\n",
        "        stats[\"Strength\"] -= 2\n",
        "        stats[\"Endurance\"] -= 2\n",
        "        stats[\"Agility\"] -= 2\n",
        "        stats[\"Luck\"] -= 2\n",
        "        stats[\"Perception\"] -= 2\n",
        "        stats[\"Charisma\"] -= 2\n",
        "        stats[\"Intelligence\"] -= 2\n",
        "        return stats\n",
        "\n",
        "    def get_negative_effects(self):\n",
        "        return self.base.get_negative_effects() + [\"Curse\"]\n",
        "\n",
        "\n",
        "class EvilEye(AbstractNegative):\n",
        "    def get_stats(self):\n",
        "        stats = self.base.get_stats()\n",
        "        stats[\"Luck\"] -= 10\n",
        "        return stats\n",
        "\n",
        "    def get_negative_effects(self):\n",
        "        return self.base.get_negative_effects() + [\"EvilEye\"]"
      ],
      "metadata": {
        "id": "pp8pC5u-836T"
      },
      "execution_count": null,
      "outputs": []
    }
  ]
}