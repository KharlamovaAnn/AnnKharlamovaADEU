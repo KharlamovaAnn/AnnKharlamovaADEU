{
  "nbformat": 4,
  "nbformat_minor": 0,
  "metadata": {
    "colab": {
      "provenance": [],
      "collapsed_sections": [],
      "authorship_tag": "ABX9TyPy18Z0geXd8Q608gRmh2tF",
      "include_colab_link": true
    },
    "kernelspec": {
      "name": "python3",
      "display_name": "Python 3"
    },
    "language_info": {
      "name": "python"
    }
  },
  "cells": [
    {
      "cell_type": "markdown",
      "metadata": {
        "id": "view-in-github",
        "colab_type": "text"
      },
      "source": [
        "<a href=\"https://colab.research.google.com/github/KharlamovaAnn/AnnKharlamovaADEU/blob/main/untitled0.ipynb\" target=\"_parent\"><img src=\"https://colab.research.google.com/assets/colab-badge.svg\" alt=\"Open In Colab\"/></a>"
      ]
    },
    {
      "cell_type": "markdown",
      "source": [
        "#3.2.1. Числа \n",
        "\n",
        "№ 3.2.1\n",
        "\n",
        "Составьте программу, которая запрашивает у пользователя 2 целых числа и выполняет операции:\n",
        "\n",
        "арифметические: +, -, * , / , // , %, **;\n",
        "\n",
        "сравнение: <, <=, >, >=, !=, ==,\n",
        "\n",
        "выводя на экран результат каждого действия. В случае получение вещественного результата, округлите его до 2-х знаков после запятой (используя функцию round()).\n"
      ],
      "metadata": {
        "id": "1QuIMKno92pz"
      }
    },
    {
      "cell_type": "code",
      "source": [
        "\n",
        "\n",
        "\n",
        "a = int(input(\"a=\"))\n",
        "b = int(input(\"b=\"))\n",
        "\n",
        "print(a + b)\n",
        "print(a - b)\n",
        "print(a * b)\n",
        "print(a / b) \n",
        "print(a // b)\n",
        "print(a % b)\n",
        "print(a **b)\n",
        "\n",
        "print(a < b)\n",
        "print(a <= b)\n",
        "print(a > b)\n",
        "print(a >= b)\n",
        "print(a != b)\n",
        "print(a == b)\n",
        "\n",
        "# --------------\n",
        "# Пример вывода:\n",
        "#\n",
        "# a=2\n",
        "# b=3\n",
        "# 5\n",
        "# -1\n",
        "# 6\n",
        "# 0.67\n",
        "# 0\n",
        "# 2\n",
        "# 8\n",
        "# True\n",
        "# True\n",
        "# False\n",
        "# False\n",
        "# True\n",
        "# False\n",
        "\n"
      ],
      "metadata": {
        "colab": {
          "base_uri": "https://localhost:8080/"
        },
        "id": "KwZaRghGCTGq",
        "outputId": "b4c286ad-8b20-43ea-f5ef-7093cb9155d3"
      },
      "execution_count": null,
      "outputs": [
        {
          "output_type": "stream",
          "name": "stdout",
          "text": [
            "a=2\n",
            "b=3\n",
            "5\n",
            "-1\n",
            "6\n",
            "0.6666666666666666\n",
            "0\n",
            "2\n",
            "8\n",
            "True\n",
            "True\n",
            "False\n",
            "False\n",
            "True\n",
            "False\n"
          ]
        }
      ]
    },
    {
      "cell_type": "markdown",
      "source": [
        "№ 3.2.2\n",
        "\n",
        "Вычислите значение следующего выражения (аргументы - целые числа и вводятся с клавиатуры):\n",
        "\n",
        "Округлите результат до 3-х знаков после запятой, используя функцию round().\n",
        "\n",
        "![image.png](data:image/png;base64,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)![image.png](data:)\n",
        "\n"
      ],
      "metadata": {
        "id": "RXLSXuHsEYvY"
      }
    },
    {
      "cell_type": "code",
      "source": [
        "# Программирование на языке высокого уровня (Python).\n",
        "# https://www.yuripetrov.ru/edu/python\n",
        "# Задание task_03_02_02.\n",
        "#\n",
        "# Выполнил: Харалмова А. О.\n",
        "# Группа: АДЭУ-221\n",
        "# E-mail: Supricon@yandex.ru\n",
        "\n",
        "\n",
        "x = int(input(\"x=\"))\n",
        "y =  int(input(\"y=\"))\n",
        "z = int(input(\"z=\"))\n",
        "\n",
        "t1=x**5+7\n",
        "t2=abs(-6)*y\n",
        "t3=7-(z%y)\n",
        "\n",
        "res1 = ((x**5+7)/(abs(-6)*y))**(1/3)\n",
        "res2 = 7 - (z % y)\n",
        "res3 = res1/res2\n",
        "print(round(res3,2) )\n",
        "\n",
        "\n",
        "# --------------\n",
        "# Пример вывода:\n",
        "#\n",
        "# x=0\n",
        "# y=1\n",
        "# z=2\n",
        "# 0.15\n"
      ],
      "metadata": {
        "id": "Pomxpvx1GQAz",
        "colab": {
          "base_uri": "https://localhost:8080/"
        },
        "outputId": "6c6a8f54-7783-43ce-996a-48738e1c2fe4"
      },
      "execution_count": null,
      "outputs": [
        {
          "output_type": "stream",
          "name": "stdout",
          "text": [
            "x=0\n",
            "y=1\n",
            "z=2\n",
            "0.15\n"
          ]
        }
      ]
    },
    {
      "cell_type": "markdown",
      "source": [
        "№ 3.2.3\n",
        "\n",
        "Дана электрическая цепь, состоящая из 2-х последовательно соединенных проводников (сопротивление каждого известно). Найти общее сопротивление цепи (округление результата необходимо выполнить до 1-го знака после запятой).\n",
        "\n",
        "Решение (начало и общий ход мыслей):\n",
        "\n",
        "Аналитическое решение.\n",
        "\n",
        "Проводники соединены последовательно, поэтому общее сопротивление цепи будет равно сумме их сопротивлений. Сопротивление может быть вещественным числом, поэтому для его хранения необходимо выбрать тип float.\n",
        "\n",
        "Алгоритм.\n",
        "\n",
        "- ввести 2 вещественных значения - сопротивления проводников;\n",
        "- вычислить их сумму;\n",
        "- вывести ответ на экран.\n"
      ],
      "metadata": {
        "id": "KV0RQDPpKIFr"
      }
    },
    {
      "cell_type": "code",
      "source": [
        "# Программирование на языке высокого уровня (Python).\n",
        "# https://www.yuripetrov.ru/edu/python\n",
        "# Задание task_03_02_03.\n",
        "#\n",
        "# Выполнил: Харалмова А. О.\n",
        "# Группа: АДЭУ-221\n",
        "# E-mail: Supricon@yandex.ru\n",
        "\n",
        "\n",
        "# Сопротивление первого проводника\n",
        "r1 = float(input(\"r1=\"))\n",
        "# Сопротивление второго проводника\n",
        "r2 = float(input(\"r2\"))\n",
        "\n",
        "# Общее сопротивление\n",
        "r = round(r1 + r2,1)\n",
        "\n",
        "print(r)\n",
        "\n",
        "\n",
        "# --------------\n",
        "# Пример вывода:\n",
        "#\n",
        "# r1=12.2\n",
        "# r2=16.1\n",
        "# 28.3\n"
      ],
      "metadata": {
        "colab": {
          "base_uri": "https://localhost:8080/"
        },
        "id": "mBefxQZFKb8A",
        "outputId": "cfb3171b-9d26-4ecb-ffa7-7ea56b08f544"
      },
      "execution_count": null,
      "outputs": [
        {
          "output_type": "stream",
          "name": "stdout",
          "text": [
            "r216.1\n",
            "28.3\n"
          ]
        }
      ]
    },
    {
      "cell_type": "markdown",
      "source": [
        "№ 3.2.4\n",
        "\n",
        "Дано двузначное и трехзначное число. Для каждого выведите на экран сумму и произведение цифр."
      ],
      "metadata": {
        "id": "HPP75L1RL67I"
      }
    },
    {
      "cell_type": "code",
      "source": [
        "# Программирование на языке высокого уровня (Python).\n",
        "# https://www.yuripetrov.ru/edu/python\n",
        "# Задание task_03_02_04.\n",
        "#\n",
        "# Выполнил: Харламова А. О.\n",
        "# Группа: АДЭУ-221\n",
        "# E-mail: Supricon@yandex.ru\n",
        "\n",
        "\n",
        "# Двузначное число\n",
        "num2 = 45\n",
        "num3 = 456\n",
        "\n",
        "# 1-я цифра числа 'num2'\n",
        "num2_1 = 4\n",
        "# 2-я цифра числа 'num2'\n",
        "num2_2 = 5\n",
        "\n",
        "# Сумма цифр числа 'num2'\n",
        "num2_s = 9\n",
        "num2_p = 20\n",
        "\n",
        "# 1-я цифра числа 'num3'\n",
        "num3_1 = 4\n",
        "# 2-я цифра числа 'num3'\n",
        "num3_2 = 5\n",
        "# 3-я цифра числа 'num3'\n",
        "num3_3 = 6\n",
        "\n",
        "# Сумма цифр числа 'num3'\n",
        "num3_s =15\n",
        "# Произведение цифр числа 'num3'\n",
        "num3_p = 120\n",
        "\n",
        "# Вывод результата\n",
        "\n",
        "\n",
        "\n",
        "# --------------\n",
        "# Пример вывода:\n",
        "#\n",
        "# Двузначное число: 45\n",
        "# Трехзначное число: 456\n",
        "# Сумма и произведение цифр двузначного числа: 9 20\n",
        "# Сумма и произведение цифр трехзначного числа: 15 120"
      ],
      "metadata": {
        "id": "GnekWeQ5MORd"
      },
      "execution_count": null,
      "outputs": []
    },
    {
      "cell_type": "markdown",
      "source": [
        "№ 3.2.6\n",
        "\n",
        "Дано уравнение ax + b = 0 и отрезок [m;n]. Ответьте на вопрос, попадает ли решение уравнения в указанный отрезок."
      ],
      "metadata": {
        "id": "V_Xmh9fgfhJT"
      }
    },
    {
      "cell_type": "code",
      "source": [
        "# Программирование на языке высокого уровня (Python).\n",
        "# https://www.yuripetrov.ru/edu/python\n",
        "# Задание task_03_02_06.\n",
        "#\n",
        "# Выполнил: Харламова А. О.\n",
        "# Группа: АДЭУ-221\n",
        "# E-mail: Supricon@yandex.ru\n",
        "\n",
        "a = int(input(\"a=\"))\n",
        "b = int(input(\"b=\"))\n",
        "m = int(input(\"m=\"))\n",
        "n = int(input(\"n=\"))\n",
        "\n",
        "x = (0-b)/a\n",
        "\n",
        "is_ok = bool((x>m) and (x<=n))\n",
        "print(\"Попадает:\", True)\n",
        "\n",
        "\n",
        "# --------------\n",
        "# Пример вывода:\n",
        "#\n",
        "# Введите a = 1\n",
        "# Введите b = 2\n",
        "# Введите m = -5\n",
        "# Введите n = 5\n",
        "# Попадает: True"
      ],
      "metadata": {
        "id": "7i8qRHKcgkGS"
      },
      "execution_count": null,
      "outputs": []
    },
    {
      "cell_type": "markdown",
      "source": [
        "№ 3.2.7\n",
        "\n",
        "Составьте программу, которая запрашивает название футбольной команды и повторяет его на экране со словами\n",
        "\n",
        "... - чемпион!\n",
        "После этого выполните:\n",
        "\n",
        "используя операцию дублирования, нарисуйте черту (набор \"-\"), длиной, равной размеру названия команды;\n",
        "\n",
        "преобразуйте строку в нижний регистр и выведите на экран:\n",
        "\n",
        "длину наименования команды;\n",
        "\n",
        "есть ли в наименовании команды буква \"п\" (True/False)?\n",
        "\n",
        "сколько раз повторяется буква \"а\"?"
      ],
      "metadata": {
        "id": "5lIBuFo_iY5E"
      }
    },
    {
      "cell_type": "code",
      "source": [
        "# Программирование на языке высокого уровня (Python).\n",
        "# https://www.yuripetrov.ru/edu/python\n",
        "# Задание task_03_02_07.\n",
        "#\n",
        "# Выполнил: Харламова А. О.\n",
        "# Группа: АДЭУ-221\n",
        "# E-mail: Supricon@yandex.ru\n",
        "\n",
        "team = input(\"Введите название команды: \")\n",
        "\n",
        "print((team)+\"champion!\")\n",
        "\n",
        "print(\"-\"*len(team))\n",
        "\n",
        "# Название команды в нижнем регистре\n",
        "team_lowercase = print(team.lower())\n",
        "print(\"Символов в названии команды:\",len(team))\n",
        "print(\"Буква \"\"п\"\" есть:\", bool(\"п\" in \"Спартак\"))\n",
        "print(\"Количество букв а:\", team.find(\"а\"))\n",
        "\n",
        "\n",
        "# --------------\n",
        "# Пример вывода:\n",
        "#\n",
        "# Введите название команды: Спартак\n",
        "# Спартак - чемпион!\n",
        "# -------\n",
        "# Символов в названии команды: 7\n",
        "# Буква \"п\" есть: True\n",
        "# Количество букв \"а\": 2"
      ],
      "metadata": {
        "id": "8wNmdcGgiZM9"
      },
      "execution_count": null,
      "outputs": []
    },
    {
      "cell_type": "markdown",
      "source": [
        "№ 3.2.8\n",
        "\n",
        "Составьте программу, которая запрашивает название государства и его столицы, а затем выводит сообщение:\n",
        "\n",
        "Государство - ..., столица - ...\n",
        "\n",
        "На месте многоточий должны быть выведены соответствующие значения"
      ],
      "metadata": {
        "id": "8_5tNoqfjxEQ"
      }
    },
    {
      "cell_type": "code",
      "source": [
        "# Программирование на языке высокого уровня (Python).\n",
        "# https://www.yuripetrov.ru/edu/python\n",
        "# Задание task_03_02_08.\n",
        "#\n",
        "# Выполнил: Харламова А. О.\n",
        "# Группа: АДЭУ-221\n",
        "# E-mail: Supricon@yandex.ru\n",
        "\n",
        "country =input()\n",
        "capital = input()\n",
        "s3='Государство -'\n",
        "s4=\"столица -\"\n",
        "s5=\"{} {}, {} {}\".format(s3,country,s4,capital)\n",
        "print(s5)\n",
        "# --------------\n",
        "# Пример вывода:\n",
        "#\n",
        "# Введите название государства: Россия\n",
        "# Введите название столицы: Москва\n",
        "# Государство - Россия, столица - Москва"
      ],
      "metadata": {
        "id": "ZJbuPxDfkJgg"
      },
      "execution_count": null,
      "outputs": []
    }
  ]
}