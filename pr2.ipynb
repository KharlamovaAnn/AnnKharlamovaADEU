{
  "nbformat": 4,
  "nbformat_minor": 0,
  "metadata": {
    "colab": {
      "provenance": [],
      "authorship_tag": "ABX9TyPBTkuNf57dl4nWJtkvAu1W",
      "include_colab_link": true
    },
    "kernelspec": {
      "name": "python3",
      "display_name": "Python 3"
    },
    "language_info": {
      "name": "python"
    }
  },
  "cells": [
    {
      "cell_type": "markdown",
      "metadata": {
        "id": "view-in-github",
        "colab_type": "text"
      },
      "source": [
        "<a href=\"https://colab.research.google.com/github/KharlamovaAnn/AnnKharlamovaADEU/blob/main/pr2.ipynb\" target=\"_parent\"><img src=\"https://colab.research.google.com/assets/colab-badge.svg\" alt=\"Open In Colab\"/></a>"
      ]
    },
    {
      "cell_type": "markdown",
      "source": [
        "№2.1 В рамках приложения разработать класс В – наследник класса А (задание 2) с полем d и свойством с2. Свойство с2 – результат вычисления выражения над полями a, b, d. В теле свойства использовать управляющий оператор (см. вариант в таблице 2.2). У класса А создать конструктор, инициализирующий его поля. Для класса В определить 2 конструктора: один – наследуется от конструктора класса А, второй – собственный. В теле программы создать объекты классов А и В, продемонстрировав работу всех конструкторов. Вывести значения свойства на экран."
      ],
      "metadata": {
        "id": "W6NTOFTGwFaE"
      }
    },
    {
      "cell_type": "code",
      "source": [
        "class A( ):\n",
        "      a = float ( ) \n",
        "      b = float ( )\n",
        "      def __init__(self, a, b):\n",
        "         self.a = a\n",
        "         self.b = b\n",
        "\n",
        "class B(A):\n",
        "  l = int( )\n",
        "  def __init__(self, a, b, l):\n",
        "    super().__init__(a, b)\n",
        "    self.l = 8\n",
        "\n",
        "\n",
        "  def cd(self):\n",
        "    if self.a > self.b:\n",
        "      print(self.l)\n",
        "  def __del__(self):\n",
        "      print('Process deleted.')\n",
        "\n",
        "sr = B(6, 7, 9)\n",
        "sr.cd( )"
      ],
      "metadata": {
        "colab": {
          "base_uri": "https://localhost:8080/"
        },
        "id": "z33lq5pL_5PL",
        "outputId": "c9b1560d-aba6-4a1e-b1a2-a4978932d30f"
      },
      "execution_count": 43,
      "outputs": [
        {
          "output_type": "stream",
          "name": "stdout",
          "text": [
            "Process deleted.\n"
          ]
        }
      ]
    },
    {
      "cell_type": "markdown",
      "source": [
        "1. Создайте класс «зарплата», который вычисляет сумму зарплаты в зависимости \n",
        "от тарифной ставки и числа отработанных дней. Расширьте метод начислением \n",
        "процентов в зависимости от объема продаж. \n"
      ],
      "metadata": {
        "id": "MAcmoWup0vEf"
      }
    },
    {
      "cell_type": "code",
      "execution_count": 3,
      "metadata": {
        "id": "zaY3_GyNwB5w",
        "colab": {
          "base_uri": "https://localhost:8080/"
        },
        "outputId": "8b06699d-a1f2-4ebe-ebd8-d1dee4661208"
      },
      "outputs": [
        {
          "output_type": "stream",
          "name": "stdout",
          "text": [
            "Salary with sales: 29180.0\n"
          ]
        }
      ],
      "source": [
        "try:\n",
        "  class Salary:\n",
        "    def __init__(self, rate, days):\n",
        "      self.days = days\n",
        "      self.rate = rate\n",
        "    \n",
        "    def calculate(self, sales):\n",
        "      salary = self.rate * self.days\n",
        "      salary = salary + (sales * 0.1)\n",
        "      return salary\n",
        "      \n",
        "  m = Salary(1250, 23)\n",
        "  print(\"Salary with sales:\", m.calculate(4300))\n",
        "except Exception:\n",
        "  print('Любая ошибка!')\n",
        "  "
      ]
    },
    {
      "cell_type": "markdown",
      "source": [
        "2. Переопределите метод начисления зарплаты: в случае, если объем продаж в \n",
        "месяц превысил 1 000 000, проценты добавляются к зарплате, в противном \n",
        "случае – вычитаются."
      ],
      "metadata": {
        "id": "3J8BdUvIC5js"
      }
    },
    {
      "cell_type": "code",
      "source": [
        "try:\n",
        "  class Salary:\n",
        "    def __init__(self, rate, days, sales):\n",
        "      self.rate = rate\n",
        "      self.days = days\n",
        "      self.sales = sales\n",
        "\n",
        "    def calculate_salary(self):\n",
        "      standart_salary = self.rate * self.days\n",
        "      add = self.sales * 0.1\n",
        "      if self.sales > 1000000:\n",
        "        final_salary = standart_salary + add\n",
        "      else:\n",
        "        final_salary = standart_salary - add\n",
        "      return final_salary\n",
        "\n",
        "  m = Salary(1250, 23,  1000005)\n",
        "  print(m.calculate_salary())\n",
        "\n",
        "except Exception:\n",
        "   print('Любая ошибка!') \n",
        "     "
      ],
      "metadata": {
        "colab": {
          "base_uri": "https://localhost:8080/"
        },
        "id": "L0cG3YlTDCE-",
        "outputId": "264bbe39-2f3f-43ff-b458-2a34d2d25abe"
      },
      "execution_count": 4,
      "outputs": [
        {
          "output_type": "stream",
          "name": "stdout",
          "text": [
            "128750.5\n"
          ]
        }
      ]
    },
    {
      "cell_type": "markdown",
      "source": [
        "3. Создайте для класса «сотрудники» абстрактный метод начисления зарплаты. \n",
        "Создайте два класса-наследника: сотрудник отдела продаж и сотрудник склада. \n",
        "Для первого класса начисление происходит аналогично заданию 1, а для второго \n",
        "–в зависимости от количества отработанных дней. \n"
      ],
      "metadata": {
        "id": "zWThF53DDCUd"
      }
    },
    {
      "cell_type": "code",
      "source": [
        "from abc import ABC, abstractmethod"
      ],
      "metadata": {
        "id": "rktQFT1nLa8u"
      },
      "execution_count": 5,
      "outputs": []
    },
    {
      "cell_type": "code",
      "source": [
        "class Employee(ABC):\n",
        "  def __init__(self, name, rate):\n",
        "    self.name = name\n",
        "    self.rate = rate\n",
        "\n",
        "  @abstractmethod\n",
        "  def calculate_salary(self):\n",
        "    pass\n",
        "\n",
        "class Salesman(Employee):\n",
        "  def __init__(self, name, rate, sales_volume):\n",
        "    super().__init__(name, rate)\n",
        "    self.sales_volume = sales_volume\n",
        "\n",
        "  def calculate_salary(self, days_worked):\n",
        "    salary = self.rate * days_worked\n",
        "    if self.sales_volume > 1000000:\n",
        "      salary += salary * 0.1\n",
        "    else:\n",
        "      salary -= salary * 0.1\n",
        "    return salary\n",
        "\n",
        "class Storageman(Employee):\n",
        "  def __init__(self, name, rate, days_worked):\n",
        "    super().__init__(name, rate)\n",
        "    self.days_worked = days_worked\n",
        "\n",
        "  def calculate_salary(self):\n",
        "    return self.rate * self.days_worked\n",
        "m = Salesman(\"John\", 1250, 23)\n",
        "print(m.calculate_salary(13))\n",
        "n =Storageman(\"Mike\", 750, 20)\n",
        "print(n.calculate_salary()) \n"
      ],
      "metadata": {
        "colab": {
          "base_uri": "https://localhost:8080/"
        },
        "id": "-Wgmnvu4UZlV",
        "outputId": "49c121ad-2d00-402c-8afa-efa7cfecb0c3"
      },
      "execution_count": 26,
      "outputs": [
        {
          "output_type": "stream",
          "name": "stdout",
          "text": [
            "14625.0\n",
            "15000\n"
          ]
        }
      ]
    },
    {
      "cell_type": "markdown",
      "source": [
        "5. Имеется класс «мебель». Создайте класс «корпусная мебель», «мягкая мебель» \n",
        "и «кухонная мебель». Определите атрибуты и методы родительского класса и \n",
        "классов-наследников. "
      ],
      "metadata": {
        "id": "TSeDzIlQDYVh"
      }
    },
    {
      "cell_type": "code",
      "source": [
        "from abc import ABC, abstractmethod"
      ],
      "metadata": {
        "id": "S-s-VL8TW45j"
      },
      "execution_count": 31,
      "outputs": []
    },
    {
      "cell_type": "code",
      "source": [
        "class Furniture(ABC):\n",
        "  @abstractmethod\n",
        "  def set_type(self):\n",
        "    pass\n",
        "\n",
        "  @abstractmethod\n",
        "  def set_material(self):\n",
        "    pass\n",
        "\n",
        "\n",
        "class CabinetFurniture(Furniture):\n",
        "  def __init__(self, material, color):\n",
        "    self.material = material\n",
        "    self.color = color\n",
        "\n",
        "  def set_type(self):\n",
        "    return \"Корпусная мебель\"\n",
        "\n",
        "  def set_material(self):\n",
        "    return f\"{self.material} ({self.color})\"\n",
        "\n",
        "class SoftFurniture(Furniture):\n",
        "  def __init__(self, material, color, pillow_type):\n",
        "    self.material = material\n",
        "    self.color = color\n",
        "    self.pillow_type = pillow_type\n",
        "\n",
        "  def set_type(self):\n",
        "    return \"Мягкая мебель\"\n",
        "\n",
        "  def set_material(self):\n",
        "    return f\"{self.material} ({self.color}), тип подушек: {self.pillow_type}\"\n",
        "\n",
        "class KitchenFurniture(Furniture):\n",
        "  def __init__(self, material, color, style):\n",
        "    self.material = material\n",
        "    self.color = color\n",
        "    self.style = style\n",
        "\n",
        "  def set_type(self):\n",
        "    return \"Кухонная мебель\"\n",
        "\n",
        "  def set_material(self):\n",
        "    return f\"{self.material} ({self.color}), стиль: {self.style}\"\n",
        "\n",
        "m = CabinetFurniture(\"Дерево\", \"Коричневый\")\n",
        "print(m.set_type())\n",
        "print(m.set_material())\n",
        "\n",
        "n = SoftFurniture(\"Хлопок\", \"Зеленый\", \"Синтепон\")\n",
        "print(n.set_type())\n",
        "print(n.set_material())\n",
        "\n",
        "l = KitchenFurniture(\"Металл\", \"Черный\", \"Готика\")\n",
        "print(l.set_type())\n",
        "print(l.set_material())\n"
      ],
      "metadata": {
        "colab": {
          "base_uri": "https://localhost:8080/"
        },
        "id": "6NWnmN_SDYH5",
        "outputId": "67a61cdb-6d8d-4e4b-fc2e-dc20d627d71d"
      },
      "execution_count": 39,
      "outputs": [
        {
          "output_type": "stream",
          "name": "stdout",
          "text": [
            "Корпусная мебель\n",
            "Дерево (Коричневый)\n",
            "Мягкая мебель\n",
            "Хлопок (Зеленый), тип подушек: Синтепон\n",
            "Кухонная мебель\n",
            "Металл (Черный), стиль: Готика\n"
          ]
        }
      ]
    },
    {
      "cell_type": "markdown",
      "source": [
        "6. Создайте приложение, в котором необходимо разработать базовый класс man. \n",
        "Объекты этого класса содержат справочную информацию о конкретном \n",
        "человеке (фамилию, инициалы, телефон, адрес, возраст). Создайте два \n",
        "производных от него класса: manager и secretary. Объекты класса manager \n",
        "дополнительно включают номер отдела и количество подчиненных. Объекты \n",
        "класса manager дополнительно включают номер отдела и количество \n",
        "подчиненных. Объекты класса secretary дополнительно включают фамилию \n",
        "начальника. Данные о менеджерах и секретарях введите с клавиатуры и выведите \n",
        "на экран дисплея."
      ],
      "metadata": {
        "id": "j8pK0ZpKDbXL"
      }
    },
    {
      "cell_type": "code",
      "source": [
        "class Man:\n",
        "  def __init__(self, surname, initials, phone, address, age):\n",
        "    self.surname = surname\n",
        "    self.initials = initials\n",
        "    self.phone = phone\n",
        "    self.address = address\n",
        "    self.age = age\n",
        "\n",
        "class Manager(Man):\n",
        "  def __init__(self, surname, initials, phone, address, age, department_number, subordinates_number):\n",
        "    super().__init__(surname, initials, phone, address, age)\n",
        "    self.department_number = department_number\n",
        "    self.subordinates_number = subordinates_number\n",
        "\n",
        "class Secretary(Man):\n",
        "  def __init__(self, surname, initials, phone, address, age, boss_surname):\n",
        "    super().__init__(surname, initials, phone, address, age)\n",
        "    self.boss_surname = boss_surname\n",
        "\n",
        "surname = input(\"Введите фамилию: \")\n",
        "initials = input(\"Введите инициалы: \")\n",
        "phone = input(\"Введите телефон: \")\n",
        "address = input(\"Введите адрес: \")\n",
        "age = input(\"Введите возраст: \")\n",
        "\n",
        "department_number = input(\"Введите номер отдела(только для менеджера): \")\n",
        "subordinates_number = input(\"Введите количество подчиненных(только для менеджера): \")\n",
        "boss_surname = input(\"Введите фамилию начальника(только для секретаря): \")\n",
        "\n",
        "\n",
        "if department_number and subordinates_number:\n",
        "    man = Manager(surname, initials, phone, address, age, department_number, subordinates_number)\n",
        "elif boss_surname:\n",
        "    man = Secretary(surname, initials, phone, address, age, boss_surname)\n",
        "else:\n",
        "    man = Man(surname, initials, phone, address, age)\n",
        "\n",
        "\n",
        "print(\"Фамилия:\", man.surname)\n",
        "print(\"Инициалы:\", man.initials)\n",
        "print(\"Телефон:\", man.phone)\n",
        "print(\"Адрес:\", man.address)\n",
        "print(\"Возраст:\", man.age)\n",
        "\n",
        "if isinstance(man, Manager):\n",
        "    print(\"Номер отдела:\", man.department_number)\n",
        "    print(\"Количество подчиненных:\", man.subordinates_number)\n",
        "elif isinstance(man, Secretary):\n",
        "    print(\"Фамилия начальника:\", man.boss_surname)\n",
        "     "
      ],
      "metadata": {
        "colab": {
          "base_uri": "https://localhost:8080/"
        },
        "id": "gag9axnrDjCk",
        "outputId": "ebd7e703-8421-4d93-adcc-346ec5d154ef"
      },
      "execution_count": 46,
      "outputs": [
        {
          "output_type": "stream",
          "name": "stdout",
          "text": [
            "Введите фамилию: Кочетков\n",
            "Введите инициалы: И. А.\n",
            "Введите телефон: +74998563207\n",
            "Введите адрес: ул. Ромашек, д. 4, кв 28\n",
            "Введите возраст: 45\n",
            "Введите номер отдела(только для менеджера): 3\n",
            "Введите количество подчиненных(только для менеджера): 13\n",
            "Введите фамилию начальника(только для секретаря): Петроченко\n",
            "Фамилия: Кочетков\n",
            "Инициалы: И. А.\n",
            "Телефон: +74998563207\n",
            "Адрес: ул. Ромашек, д. 4, кв 28\n",
            "Возраст: 45\n",
            "Номер отдела: 3\n",
            "Количество подчиненных: 13\n"
          ]
        }
      ]
    },
    {
      "cell_type": "markdown",
      "source": [
        "8. В программе рассчитываются площади треугольника и прямоугольника. С \n",
        "этой целью создается абстрактный класс area, в котором сохраняются две \n",
        "размерности фигуры. В производных классах задайте вид конкретных фигур и \n",
        "возвратите их площади"
      ],
      "metadata": {
        "id": "RW-b25_gDjRa"
      }
    },
    {
      "cell_type": "code",
      "source": [
        "from abc import ABC, abstractmethod"
      ],
      "metadata": {
        "id": "iwYMML1EgfFW"
      },
      "execution_count": 47,
      "outputs": []
    },
    {
      "cell_type": "code",
      "source": [
        "class Area(ABC):\n",
        "    def __init__(self, length, width):\n",
        "        self.length = length\n",
        "        self.width = width\n",
        "    \n",
        "    @abstractmethod\n",
        "    def set_area(self):\n",
        "        pass\n",
        "\n",
        "class Triangle(Area):\n",
        "    def set_area(self):\n",
        "        return 0.5 * self.length * self.width\n",
        "\n",
        "class Rectangle(Area):\n",
        "    def set_area(self):\n",
        "        return self.length * self.width\n",
        "\n",
        "t = Triangle(10, 5)\n",
        "print(\"Площадь треугольника: \", t.set_area())\n",
        "\n",
        "r = Rectangle(8, 6)\n",
        "print(\"Площадь прямоугольника: \", r.set_area())\n"
      ],
      "metadata": {
        "colab": {
          "base_uri": "https://localhost:8080/"
        },
        "id": "69Relm0dD1vV",
        "outputId": "1e24ed2c-641a-4b17-979a-7bbf68aaddcc"
      },
      "execution_count": 48,
      "outputs": [
        {
          "output_type": "stream",
          "name": "stdout",
          "text": [
            "Площадь треугольника:  25.0\n",
            "Площадь прямоугольника:  48\n"
          ]
        }
      ]
    }
  ]
}