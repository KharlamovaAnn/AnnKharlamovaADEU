{
  "nbformat": 4,
  "nbformat_minor": 0,
  "metadata": {
    "colab": {
      "provenance": [],
      "authorship_tag": "ABX9TyMCv2kS4n9BQb0wu15tC9qm",
      "include_colab_link": true
    },
    "kernelspec": {
      "name": "python3",
      "display_name": "Python 3"
    },
    "language_info": {
      "name": "python"
    }
  },
  "cells": [
    {
      "cell_type": "markdown",
      "metadata": {
        "id": "view-in-github",
        "colab_type": "text"
      },
      "source": [
        "<a href=\"https://colab.research.google.com/github/KharlamovaAnn/AnnKharlamovaADEU/blob/main/Lab6.ipynb\" target=\"_parent\"><img src=\"https://colab.research.google.com/assets/colab-badge.svg\" alt=\"Open In Colab\"/></a>"
      ]
    },
    {
      "cell_type": "markdown",
      "source": [
        "№6.2.1\n",
        "Что выполняет приведенная функция?\n",
        "\n",
        "Какова вычислительная сложность алгоритма (наихудшая оценка, O-нотацию)?"
      ],
      "metadata": {
        "id": "EGIpPQ5eV5gy"
      }
    },
    {
      "cell_type": "code",
      "execution_count": null,
      "metadata": {
        "colab": {
          "base_uri": "https://localhost:8080/"
        },
        "id": "yu_5w0p9TiH2",
        "outputId": "5121763b-9c35-4d7a-e80b-376a6bffa499"
      },
      "outputs": [
        {
          "output_type": "execute_result",
          "data": {
            "text/plain": [
              "[-2, -2, -2, 1, 1, 2, 2, 2, 2, 2, 3, 3, 3, 4, 4, 5, 65]"
            ]
          },
          "metadata": {},
          "execution_count": 2
        }
      ],
      "source": [
        "def foo(a):\n",
        "  \"\"\"\n",
        "  Вводная переменная - список.\n",
        "  Функция сортирует список от меньшего значения к большему.\n",
        "\n",
        "  Общая сложность: O(N^2)\n",
        "  \"\"\"\n",
        "  for i in range(len(a), 0, -1): # O(N) + O(1) = O(N)\n",
        "    for j in range(1, i): # O(N)\n",
        "      if a[j-1] > a[j]: # O(1) + O(1) = 2*O(1) = O(1)\n",
        "        a[j-1], a[j] = a[j], a[j-1] # O(1) + O(1) = 2*O(1) = O(1)\n",
        "  return a # O(1)\n",
        "\n",
        "# O(N) * O(N) + O(1) + O(1) + O(1) = O(N^2) + 3*O(1) = O(N^2)\n",
        "\n",
        "a = [1, 2, 3, 4, 2, 1, 3, 4, 3, 5, -2, -2, 2, -2, 65, 2, 2]\n",
        "foo(a)"
      ]
    },
    {
      "cell_type": "markdown",
      "source": [
        "№6.2.2\n",
        "Что выполняет приведенная функция?\n",
        "\n",
        "Какова вычислительная сложность алгоритма (наихудшая оценка, O-нотацию)?"
      ],
      "metadata": {
        "id": "SPpE7UYym7zA"
      }
    },
    {
      "cell_type": "code",
      "source": [
        "def foo(i):\n",
        "  \"\"\"\n",
        "  Вводная переменная - целое число.\n",
        "  Функция преобразует integer (целое число) в string (строка).\n",
        "\n",
        "  N = 1\n",
        "  Общая сложность: O(N)\n",
        "  \"\"\"\n",
        "  digits = \"0123456789\" # O(1)\n",
        "  if i == 0: # 2*O(1)\n",
        "    return \"0\" # O(1)\n",
        "  result = \"\" # O(1)\n",
        "  while i > 0: # O(N) + O(1) = O(N)\n",
        "    result = digits[i%10] + result # O(1) + O(1) + O(1) = O(1)\n",
        "    i = i // 10 # O(1) + O(1) = O(1)\n",
        "  return result # O(1)\n",
        "\n",
        "# O(1) + O(1) + O(N) * O(1) = 2*O(1) + O(N) = O(1) + O(N) = O(N)\n",
        "print(foo(123))\n",
        "     "
      ],
      "metadata": {
        "colab": {
          "base_uri": "https://localhost:8080/"
        },
        "id": "-BkRsXx7nAeq",
        "outputId": "128db529-16fc-4fe6-c057-80b5da87604d"
      },
      "execution_count": null,
      "outputs": [
        {
          "output_type": "stream",
          "name": "stdout",
          "text": [
            "123\n"
          ]
        }
      ]
    },
    {
      "cell_type": "markdown",
      "source": [
        "№6.2.3\n",
        "Что выполняет приведенная функция?\n",
        "\n",
        "Какова вычислительная сложность алгоритма (наихудшая оценка, O-нотацию)?"
      ],
      "metadata": {
        "id": "QJvbbHYJm_XH"
      }
    },
    {
      "cell_type": "code",
      "source": [
        "def foo(s):\n",
        "  \"\"\"\n",
        "  Вводная переменная - строка.\n",
        "  Функция вытаскивает все цифры из строки и преобразует их в целое число\n",
        "\n",
        "  N = len(s)\n",
        "  Общая сложность: O(N^2)\n",
        "  \"\"\"\n",
        "  val = 0 # O(1)\n",
        "  for c in s: # O(N)\n",
        "    if c.isdigit(): # O(N)\n",
        "      val += int(c) # O(1) + O(1) = O(1)\n",
        "  return val # O(1)\n",
        "\n",
        "# O(1) + O(N) * O(N) * O(1) = O(N^2)\n",
        "print(foo(\"12345\"))\n",
        "     "
      ],
      "metadata": {
        "id": "CvWAa2EnnGuh",
        "colab": {
          "base_uri": "https://localhost:8080/"
        },
        "outputId": "7d93d660-09e5-4898-d362-277f3828e7b0"
      },
      "execution_count": 3,
      "outputs": [
        {
          "output_type": "stream",
          "name": "stdout",
          "text": [
            "15\n"
          ]
        }
      ]
    },
    {
      "cell_type": "markdown",
      "source": [
        "№6.2.4\n",
        "Что выполняет приведенная функция?\n",
        "\n",
        "Какова вычислительная сложность алгоритма (наихудшая оценка, O-нотацию)?Курсив"
      ],
      "metadata": {
        "id": "oe6QJ68mnoke"
      }
    },
    {
      "cell_type": "code",
      "source": [
        "def foo(n):\n",
        "  \"\"\"\n",
        "  Вводная переменная - целое число.\n",
        "  Функция находит все простые числа от 0 до указанного числа.\n",
        "\n",
        "  N = 1\n",
        "  Общая сложность: O(N^2)\n",
        "  \"\"\"\n",
        "  res = [] # O(1)\n",
        "  for i in range(1, n + 1): # O(N) + O(1) = O(N)\n",
        "    divisors = 0 # O(1)\n",
        "    j = 2 # O(1)\n",
        "    while j < i and divisors == 0: # O(N) + O(1) + O(1) = O(N) + 2*O(1) = O(N)\n",
        "      if i % j == 0: # O(1) + O(1) = 2*O(1) = O(1)\n",
        "          divisors += 1 # O(1)\n",
        "      j += 1 # O(1)\n",
        "    if divisors == 0: # O(1) + O(1) = 2*O(1) = O(1)\n",
        "      res.append(i) # O(1)\n",
        "\n",
        "  return res # O(1)\n",
        "\n",
        "# O(1) + O(N) * (2*O(1) + O(N) * 2*O(1) * O(1)) = O(N^2)\n",
        "print(foo(10))\n",
        "     "
      ],
      "metadata": {
        "id": "ayJbpTCjnsXj",
        "colab": {
          "base_uri": "https://localhost:8080/"
        },
        "outputId": "44e5fcb1-5d81-4ab0-e99f-95b7994aa83b"
      },
      "execution_count": 4,
      "outputs": [
        {
          "output_type": "stream",
          "name": "stdout",
          "text": [
            "[1, 2, 3, 5, 7]\n"
          ]
        }
      ]
    },
    {
      "cell_type": "markdown",
      "source": [
        "№6.2.5\n",
        "Что выполняет приведенная функция?\n",
        "\n",
        "Какова вычислительная сложность алгоритма (наихудшая оценка, O-нотацию)?"
      ],
      "metadata": {
        "id": "3Ck_7dW4nxEZ"
      }
    },
    {
      "cell_type": "code",
      "source": [
        "def foo(nums):\n",
        "  \"\"\"\n",
        "  Вводная переменная - список.\n",
        "  Проверяет список на наличие четных цифр внутри него.\n",
        "  \n",
        "  N = len(nums)\n",
        "  Общая сложность: O(N)\n",
        "  \"\"\"\n",
        "  for x in nums: # O(N)\n",
        "    if x % 2 == 0: # O(1) + O(1) = 2*O(1) = O(1)\n",
        "      return True # O(1)\n",
        "  else:\n",
        "    return False # O(1)\n",
        "\n",
        "# O(N) * O(1) * O(1) = O(N)\n",
        "print(foo([1,4,5,7,9,10]))\n",
        "     "
      ],
      "metadata": {
        "id": "icZy0NpKnz6L",
        "colab": {
          "base_uri": "https://localhost:8080/"
        },
        "outputId": "47095751-c37d-43aa-c409-75ce59ba1603"
      },
      "execution_count": 5,
      "outputs": [
        {
          "output_type": "stream",
          "name": "stdout",
          "text": [
            "True\n"
          ]
        }
      ]
    },
    {
      "cell_type": "markdown",
      "source": [
        "№6.2.6\n",
        "Что выполняет приведенная функция?\n",
        "\n",
        "Какова вычислительная сложность алгоритма (наихудшая оценка, O-нотацию)?"
      ],
      "metadata": {
        "id": "TjLdvgKNn2xp"
      }
    },
    {
      "cell_type": "code",
      "source": [
        "def foo(nums):\n",
        "  \"\"\"\n",
        "  Вводная переменная - список.\n",
        "  Выводит сумму первого элемента списка и последнего, возведенного в 2-ю степень.\n",
        "\n",
        "  N = len(nums)\n",
        "  Общая сложность: O(1)\n",
        "  \"\"\"\n",
        "  return (nums[0] + nums[-1] ** 2) # O(1) + O(1) = 2*O(1) = O(1)\n",
        "print(foo([20,3]))\n",
        "# O(1) + O(1) = 2*O(1) = O(1)\n",
        "     "
      ],
      "metadata": {
        "id": "ZGhxEA7Yn5xw",
        "colab": {
          "base_uri": "https://localhost:8080/"
        },
        "outputId": "fc1c6e6c-d405-43f8-cc67-d11be97bb465"
      },
      "execution_count": 6,
      "outputs": [
        {
          "output_type": "stream",
          "name": "stdout",
          "text": [
            "29\n"
          ]
        }
      ]
    },
    {
      "cell_type": "markdown",
      "source": [
        "№6.2.7\n",
        "Что выполняет приведенная функция?\n",
        "\n",
        "Какова вычислительная сложность алгоритма (наихудшая оценка, O-нотацию)?"
      ],
      "metadata": {
        "id": "sQ9EeDGpn-wL"
      }
    },
    {
      "cell_type": "code",
      "source": [
        "def foo(low, high):\n",
        "  \"\"\"\n",
        "  Вводные переменные - целые числа.\n",
        "  Угадывает загаданное число пользователя.\n",
        "\n",
        "  N = 2\n",
        "  Общая сложность: O(N)\n",
        "  \"\"\"\n",
        "  guessing = True # O(1)\n",
        "  while guessing: # O(N)\n",
        "    guess = (low + high) // 2 # O(1) + O(1) = 2*O(1) = O(1)\n",
        "    print(\"Загаданное число {0}?\".format(guess)) # O(1)\n",
        "    pointer = input(\n",
        "      \"Введите '+', если Ваше число меньше.\\n\"\n",
        "      \"Введите '-' если Ваше число больше.\\n\"\n",
        "      \"Введите '=', если я угадал.\\n\").lower() # O(1)\n",
        "    if pointer == \"+\": # O(len(pointer) + O(1) = O(1) + O(1) = 2*O(1) = O(1)\n",
        "      high = guess # O(1)\n",
        "    elif pointer == \"-\": # O(len(pointer) + O(1) = O(1) + O(1) = 2*O(1) = O(1)\n",
        "      low = guess # O(1)\n",
        "    elif pointer == \"=\": # O(len(pointer) + O(1) = O(1) + O(1) = 2*O(1) = O(1)\n",
        "      guessing = False # O(1)\n",
        "    else:\n",
        "      print(\"Введите '+', '-' или '='.\") # O(1)\n",
        "\n",
        "  return guess # O(1)\n",
        "\n",
        "# O(1) + O(N) * (O(1) + O(1) + O(1) + 3*O(1)*O(1)) = O(1) + O(N) * 6*O(1) = O(N)\n",
        "\n",
        "low, high = 0, 100\n",
        "print(\"Пожалуйста, загадайте число от {0} до {1}!\".format(low, high))\n",
        "guess = foo(low, high)\n",
        "print(\"Игра окончена, Вы загадали число: {0}.\".format(guess))\n",
        "     "
      ],
      "metadata": {
        "id": "vcB1wDLuoDjp",
        "colab": {
          "base_uri": "https://localhost:8080/"
        },
        "outputId": "f7cb07dd-8d0c-4cc4-d733-d74c08dbb90f"
      },
      "execution_count": 7,
      "outputs": [
        {
          "output_type": "stream",
          "name": "stdout",
          "text": [
            "Пожалуйста, загадайте число от 0 до 100!\n",
            "Загаданное число 50?\n",
            "Введите '+', если Ваше число меньше.\n",
            "Введите '-' если Ваше число больше.\n",
            "Введите '=', если я угадал.\n",
            "+\n",
            "Загаданное число 25?\n",
            "Введите '+', если Ваше число меньше.\n",
            "Введите '-' если Ваше число больше.\n",
            "Введите '=', если я угадал.\n",
            "+\n",
            "Загаданное число 12?\n",
            "Введите '+', если Ваше число меньше.\n",
            "Введите '-' если Ваше число больше.\n",
            "Введите '=', если я угадал.\n",
            "+\n",
            "Загаданное число 6?\n",
            "Введите '+', если Ваше число меньше.\n",
            "Введите '-' если Ваше число больше.\n",
            "Введите '=', если я угадал.\n",
            "+\n",
            "Загаданное число 3?\n",
            "Введите '+', если Ваше число меньше.\n",
            "Введите '-' если Ваше число больше.\n",
            "Введите '=', если я угадал.\n",
            "-\n",
            "Загаданное число 4?\n",
            "Введите '+', если Ваше число меньше.\n",
            "Введите '-' если Ваше число больше.\n",
            "Введите '=', если я угадал.\n",
            "=\n",
            "Игра окончена, Вы загадали число: 4.\n"
          ]
        }
      ]
    }
  ]
}