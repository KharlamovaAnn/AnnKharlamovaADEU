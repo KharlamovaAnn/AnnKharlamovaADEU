{
  "nbformat": 4,
  "nbformat_minor": 0,
  "metadata": {
    "colab": {
      "provenance": [],
      "include_colab_link": true
    },
    "kernelspec": {
      "name": "python3",
      "display_name": "Python 3"
    },
    "language_info": {
      "name": "python"
    }
  },
  "cells": [
    {
      "cell_type": "markdown",
      "metadata": {
        "id": "view-in-github",
        "colab_type": "text"
      },
      "source": [
        "<a href=\"https://colab.research.google.com/github/KharlamovaAnn/AnnKharlamovaADEU/blob/main/%D0%B8%D0%BD%D0%B41_ipynb%22.ipynb\" target=\"_parent\"><img src=\"https://colab.research.google.com/assets/colab-badge.svg\" alt=\"Open In Colab\"/></a>"
      ]
    },
    {
      "cell_type": "code",
      "execution_count": 1,
      "metadata": {
        "id": "hHsgMcFNCyK4",
        "colab": {
          "base_uri": "https://localhost:8080/"
        },
        "outputId": "9d4e4e25-4b62-4b73-fc0d-29fe504bce93"
      },
      "outputs": [
        {
          "output_type": "stream",
          "name": "stdout",
          "text": [
            "Grey is fed\n",
            "Grey laid an egg\n",
            "White is fed\n",
            "White laid an egg\n",
            "Manka is fed\n",
            "Manka is milked\n",
            "Barashek is fed\n",
            "Barashek is sheared\n",
            "Kudryavy is fed\n",
            "Kudryavy is sheared\n",
            "Ko-Ko is fed\n",
            "Ko-Ko laid an egg\n",
            "Kukareku is fed\n",
            "Kukareku laid an egg\n",
            "Roga is fed\n",
            "Roga is milked\n",
            "Kopyta is fed\n",
            "Kopyta is milked\n",
            "Kryakva is fed\n",
            "Kryakva laid an egg\n"
          ]
        }
      ],
      "source": [
        "class Goose:\n",
        "    def __init__(self, name, weight):\n",
        "        self.name = name\n",
        "        self.weight = weight\n",
        "        self.voice = 'honk'\n",
        "\n",
        "    def feed(self):\n",
        "        print(f'{self.name} is fed')\n",
        "\n",
        "    def collect_eggs(self):\n",
        "        print(f'{self.name} laid an egg')\n",
        "\n",
        "class Cow:\n",
        "    def __init__(self, name, weight):\n",
        "        self.name = name\n",
        "        self.weight = weight\n",
        "        self.voice = 'moo'\n",
        "\n",
        "    def feed(self):\n",
        "        print(f'{self.name} is fed')\n",
        "\n",
        "    def milk(self):\n",
        "        print(f'{self.name} is milked')\n",
        "\n",
        "class Sheep:\n",
        "    def __init__(self, name, weight):\n",
        "        self.name = name\n",
        "        self.weight = weight\n",
        "        self.voice = 'baa'\n",
        "\n",
        "    def feed(self):\n",
        "        print(f'{self.name} is fed')\n",
        "\n",
        "    def shear(self):\n",
        "        print(f'{self.name} is sheared')\n",
        "\n",
        "class Chicken:\n",
        "    def __init__(self, name, weight):\n",
        "        self.name = name\n",
        "        self.weight = weight\n",
        "        self.voice = 'cluck'\n",
        "\n",
        "    def feed(self):\n",
        "        print(f'{self.name} is fed')\n",
        "\n",
        "    def collect_eggs(self):\n",
        "        print(f'{self.name} laid an egg')\n",
        "\n",
        "class Goat:\n",
        "    def __init__(self, name, weight):\n",
        "        self.name = name\n",
        "        self.weight = weight\n",
        "        self.voice = 'bleat'\n",
        "\n",
        "    def feed(self):\n",
        "        print(f'{self.name} is fed')\n",
        "\n",
        "    def milk(self):\n",
        "        print(f'{self.name} is milked')\n",
        "\n",
        "class Duck:\n",
        "    def __init__(self, name, weight):\n",
        "        self.name = name\n",
        "        self.weight = weight\n",
        "        self.voice = 'quack'\n",
        "\n",
        "    def feed(self):\n",
        "        print(f'{self.name} is fed')\n",
        "\n",
        "    def collect_eggs(self):\n",
        "        print(f'{self.name} laid an egg')\n",
        "\n",
        "grey_goose = Goose('Grey', 5)\n",
        "white_goose = Goose('White', 6)\n",
        "cow = Cow('Manka', 300)\n",
        "sheep_1 = Sheep('Barashek', 70)\n",
        "sheep_2 = Sheep('Kudryavy', 80)\n",
        "chicken_1 = Chicken('Ko-Ko', 2)\n",
        "chicken_2 = Chicken('Kukareku', 3)\n",
        "goat_1 = Goat('Roga', 50)\n",
        "goat_2 = Goat('Kopyta', 55)\n",
        "duck = Duck('Kryakva', 4)\n",
        "\n",
        "grey_goose.feed( )\n",
        "grey_goose.collect_eggs( )\n",
        "\n",
        "white_goose.feed( )\n",
        "white_goose.collect_eggs( )\n",
        "\n",
        "cow.feed( )\n",
        "cow.milk( )\n",
        "\n",
        "sheep_1.feed( )\n",
        "sheep_1.shear( )\n",
        "\n",
        "sheep_2.feed( )\n",
        "sheep_2.shear( )\n",
        "\n",
        "chicken_1.feed( )\n",
        "chicken_1.collect_eggs( )\n",
        "\n",
        "chicken_2.feed( )\n",
        "chicken_2.collect_eggs( )\n",
        "\n",
        "goat_1.feed( )\n",
        "goat_1.milk( )\n",
        "\n",
        "goat_2.feed( )\n",
        "goat_2.milk( )\n",
        "\n",
        "duck.feed( )\n",
        "duck.collect_eggs( )\n"
      ]
    },
    {
      "cell_type": "code",
      "source": [
        "animals = [grey_goose, white_goose, cow, sheep_1, sheep_2, chicken_1, chicken_2, goat_1, goat_2, duck]\n",
        "\n",
        "total_weight = 0\n",
        "for animal in animals:\n",
        "    total_weight += animal.weight\n",
        "\n",
        "print(f'Total weight of all animals is {total_weight} kg')\n",
        "\n",
        "heaviest_animal = max(animals, key=lambda animal: animal.weight)\n",
        "print(f'The heaviest animal is {heaviest_animal.name} with weight {heaviest_animal.weight} kg')"
      ],
      "metadata": {
        "colab": {
          "base_uri": "https://localhost:8080/"
        },
        "id": "xUH9GGhmRu7B",
        "outputId": "6fc82da2-f319-432b-98a6-22cb81290110"
      },
      "execution_count": 2,
      "outputs": [
        {
          "output_type": "stream",
          "name": "stdout",
          "text": [
            "Total weight of all animals is 575 kg\n",
            "The heaviest animal is Manka with weight 300 kg\n"
          ]
        }
      ]
    }
  ]
}