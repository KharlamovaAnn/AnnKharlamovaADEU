{
  "nbformat": 4,
  "nbformat_minor": 0,
  "metadata": {
    "colab": {
      "provenance": [],
      "include_colab_link": true
    },
    "kernelspec": {
      "name": "python3",
      "display_name": "Python 3"
    },
    "language_info": {
      "name": "python"
    }
  },
  "cells": [
    {
      "cell_type": "markdown",
      "metadata": {
        "id": "view-in-github",
        "colab_type": "text"
      },
      "source": [
        "<a href=\"https://colab.research.google.com/github/KharlamovaAnn/AnnKharlamovaADEU/blob/main/%D0%9B%D0%B0%D0%B14_ipynb%22.ipynb\" target=\"_parent\"><img src=\"https://colab.research.google.com/assets/colab-badge.svg\" alt=\"Open In Colab\"/></a>"
      ]
    },
    {
      "cell_type": "code",
      "execution_count": null,
      "metadata": {
        "id": "hHsgMcFNCyK4"
      },
      "outputs": [],
      "source": [
        "class MobileOperator:\n",
        "    def init(self, name, cost_per_minute, coverage_area):\n",
        "        self.name = name\n",
        "        self.cost_per_minute = cost_per_minute\n",
        "        self.coverage_area = coverage_area\n",
        "\n",
        "    def quality(self):\n",
        "        return 100 * self.coverage_area / self.cost_per_minute\n",
        "\n",
        "    def info(self):\n",
        "        print(f\"Оператор: {self.name}\")\n",
        "        print(f\"Стоимость за минуту: {self.cost_per_minute}\")\n",
        "        print(f\"Площадь покрытия: {self.coverage_area}\")\n",
        "        print(f\"Качество: {self.quality()}\")\n",
        "\n",
        "\n",
        "\n",
        "class MobileOperatorWithFee(MobileOperator):\n",
        "    def init(self, name, cost_per_minute, coverage_area, has_fee):\n",
        "        super().init(name, cost_per_minute, coverage_area)\n",
        "        self.has_fee = has_fee\n",
        "\n",
        "    def quality(self):\n",
        "        q = super().quality()\n",
        "        if self.has_fee:\n",
        "            return 0.7 * q\n",
        "        else:\n",
        "            return 1.5 * q\n",
        "\n",
        "\n",
        "operator1 = MobileOperator(\"Operator1\", 0.1, 1000)\n",
        "operator1.info( )\n",
        "\n",
        "\n",
        "operator2 = MobileOperatorWithFee(\"Operator2\", 0.2, 2000, True)\n",
        "operator2.info( )"
      ]
    }
  ]
}