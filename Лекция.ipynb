{
  "nbformat": 4,
  "nbformat_minor": 0,
  "metadata": {
    "colab": {
      "provenance": [],
      "authorship_tag": "ABX9TyPsy5i0mdKexrACwFXdnQ2W",
      "include_colab_link": true
    },
    "kernelspec": {
      "name": "python3",
      "display_name": "Python 3"
    },
    "language_info": {
      "name": "python"
    }
  },
  "cells": [
    {
      "cell_type": "markdown",
      "metadata": {
        "id": "view-in-github",
        "colab_type": "text"
      },
      "source": [
        "<a href=\"https://colab.research.google.com/github/KharlamovaAnn/AnnKharlamovaADEU/blob/main/%D0%9B%D0%B5%D0%BA%D1%86%D0%B8%D1%8F.ipynb\" target=\"_parent\"><img src=\"https://colab.research.google.com/assets/colab-badge.svg\" alt=\"Open In Colab\"/></a>"
      ]
    },
    {
      "cell_type": "markdown",
      "source": [
        "###**Специальные методы**\n",
        "\n",
        "Объекты классов и специальные методы\n",
        "Объект-класс создается с помощью определения класса. Объекты-классы имеют следующие атрибуты:\n",
        "\n",
        "__name__ — имя класса;\n",
        "\n",
        "__module__ — имя модуля;\n",
        "\n",
        "__dict__ — словарь атрибутов класса, можно изменять этот словарь напрямую;\n",
        "\n",
        "__bases__ — кортеж базовых классов в порядке их следования;\n",
        "\n",
        "__dос__ — строка документации класса.\n"
      ],
      "metadata": {
        "id": "XrRrxJCf_Qf_"
      }
    },
    {
      "cell_type": "markdown",
      "source": [
        "###**Экземпляры классов и специальные методы**\n",
        "\n",
        "Экземпляр (инстанс) класса возвращается при вызове объекта-класса.\n",
        "Объект у класса, может быть один, экземпляров (или инстансов) — несколько.\n",
        "\n",
        "Экземпляры имеют следующие атрибуты:\n",
        "\n",
        "__dict__ — словарь атрибутов класса, можно изменять этот словарь напрямую;\n",
        "\n",
        "__class__ — объект-класс, экземпляром которого является данный инстанс;\n",
        "\n",
        "__init__ —  конструктор. Если в базовом классе есть конструктор, конструктор производного класса, должен вызвать его;\n",
        "\n",
        "__del__ — деструктор. Если в базовом классе есть деструкор, деструктор производного класса должен вызвать его;\n",
        "\n",
        "__cmp__ — вызывается для всех операций сравнения;\n",
        "\n",
        "__hash__ — возвращает хешнзначение объекта, равное 32-битному числу;\n",
        "\n",
        "__getattr__ — возвращает атрибут, недостунный обычным способом;\n",
        "\n",
        "__setattr__ — присваивает значение атрибуту;\n",
        "\n",
        "__delattr__ — удаляет атрибут;\n",
        "\n",
        "__call __ — срабатывает при вызове экземпляра, класса."
      ],
      "metadata": {
        "id": "HlsSwL9KCWtz"
      }
    },
    {
      "cell_type": "markdown",
      "source": [
        "###**Экземпляры классов в качестве последовательностей**\n",
        "\n",
        "Экземпляры классов можно использовать для эмуляции последовательностей. Для такой реализации есть встроенные методы:\n",
        "\n",
        "__len__ — возвращает длину последовательности;\n",
        "\n",
        "__getitem__ — получение элемента по индексу или ключу;\n",
        "\n",
        "__setitem__ — присваивание элемента, с данным ключом или индексом;\n",
        "\n",
        "__delitem__ — удаление элемента с данным ключом или индексом;\n",
        "\n",
        "__getslice__ — возвращает вложенную последовательность;\n",
        "\n",
        "__setslice__ — заменяет вложенную последовательность;\n",
        "\n",
        "__delslice__ — удаляет вложенную последовательность;\n",
        "\n",
        "__contains__ — реализует оператор in."
      ],
      "metadata": {
        "id": "8J0G834rCdcF"
      }
    },
    {
      "cell_type": "markdown",
      "source": [
        "\n",
        "###**Приведение объектов к базовым типам**\n",
        "\n",
        "Объекты классов можно привести к строковому или числовому типу.\n",
        "\n",
        "__repr__ — возвращает формальное строковое представление объекта;\n",
        "\n",
        "__str__ — возвращает строковое представление объекта;\n",
        "\n",
        "__oct__, __hex__,  __complex__, __int__, __long__, __float__ — возвращают стгроковое представление в соответствующей системе счисления."
      ],
      "metadata": {
        "id": "6YRcGslrDBxN"
      }
    },
    {
      "cell_type": "markdown",
      "source": [
        "##Задачи на применение ООП в языке Python\n",
        "Bound и Unbound методы\n",
        "Рассмотрим конкретный пример. Есть базовый класс Саt, и есть производный от него класс Ваrsik:"
      ],
      "metadata": {
        "id": "Cvl1kJaPDIq9"
      }
    },
    {
      "cell_type": "code",
      "execution_count": 5,
      "metadata": {
        "id": "dsvqZOhq_NgQ"
      },
      "outputs": [],
      "source": [
        "class Cat:\n",
        "  def __init__(self):\n",
        "    self.hungry = True\n",
        "  \n",
        "  def eat(self):\n",
        "    if self.hungry:\n",
        "      print('I am hungry...')\n",
        "      self.hungry = False\n",
        "    else:\n",
        "      print('No, thanks!')\n",
        "\n",
        "class Barsik(Cat):\n",
        "  def __init__(self):\n",
        "    super().__init__()\n",
        "    self.sound = 'Aaaammm!'\n",
        "    print(self.sound)\n",
        "\n",
        "class Barsik(Cat):\n",
        "    def __init__(self):\n",
        "        super().__init__()\n",
        "        self.sound = 'Aaaammm!'\n",
        "        print(self.sound)        # вывод звука\n",
        "\n",
        "barsik = Barsik()         \n",
        "barsik.eat()                    \n",
        "barsik.eat()           \n",
        "print(barsik.sound)  "
      ]
    },
    {
      "cell_type": "markdown",
      "source": [
        "**Метод super**\n",
        "\n",
        "Второй вариант: в начале программы нужно определить метакласс, который указывает на то, что класс реализован в так называемом новом стиле — new-style. Затем нужно вызвать стандартный метод super для базового конструктора:"
      ],
      "metadata": {
        "id": "u061u6uvF386"
      }
    },
    {
      "cell_type": "code",
      "source": [
        "__metaclass__ = type\n",
        "...\n",
        "\n",
        "class Barsik(Cat):\n",
        "  def __init__(self):\n",
        "    super (Barsik, self).__init__\n",
        "    self.sound = 'Ааааmmm!'\n",
        "    print self.sound\n",
        "\n",
        ">>> brs = Barsik()\n",
        ">>> brs.eat()\n",
        "Aaaammm!\n",
        "\n",
        "I am hungry..."
      ],
      "metadata": {
        "id": "qVyOBD6PGK9P"
      },
      "execution_count": null,
      "outputs": []
    },
    {
      "cell_type": "markdown",
      "source": [
        "\n",
        "**Статические методы**\n",
        "\n",
        "Статический метод — функция, определенная вне класса, и не имеющая атрибута self:"
      ],
      "metadata": {
        "id": "2uQG1sbYHRq5"
      }
    },
    {
      "cell_type": "code",
      "source": [
        "class Spam:\n",
        "  numInstances = 0\n",
        "  def init(self):\n",
        "    Spam.numInstances = Spam.numInstances + 1\n",
        "\n",
        "def printNumInstances( ):\n",
        "  print \"Number of instances created: \" Spam.numInstances\n",
        "  Spam. numInstances\n",
        "\n",
        ">>> a = Spam( )\n",
        ">>> b = Spam( )\n",
        ">>> printNumInstances( )\n",
        "\n",
        "Number of instances created: 2"
      ],
      "metadata": {
        "id": "wWNaYV58HWqg"
      },
      "execution_count": null,
      "outputs": []
    },
    {
      "cell_type": "markdown",
      "source": [
        "\n",
        "Статический метод может быть определен и внутри класса — для этого\n",
        "используется ключевое слово staticmethod, причем метод может быть вызван как статически, так и через инстанс:"
      ],
      "metadata": {
        "id": "uQ-A9EGQI-_a"
      }
    },
    {
      "cell_type": "code",
      "source": [
        "class Multi:\n",
        "  def imeth(self, x): \n",
        "    print self, x \n",
        "  def smeth (x):\n",
        "    print x\n",
        "  def cmeth (cls, x): \n",
        "    print cls, x \n",
        "    \n",
        "  smeth = staticmethod (smeth)\n",
        "  cmeth - classmethod (cmeth)\n",
        "\n",
        ">>> Multi.smeth(3)\n",
        "3\n",
        ">>> obj=Multi( )\n",
        ">>> obj.smeth(5)\n",
        "5"
      ],
      "metadata": {
        "id": "kPzHvGjRJjJT"
      },
      "execution_count": null,
      "outputs": []
    },
    {
      "cell_type": "markdown",
      "source": [
        "Методы класса определяются c помощью ключевого слова, classmethod — здесь автоматически питон передает в качестве первого параметра сам класс (cls) :"
      ],
      "metadata": {
        "id": "cyJ14GDHKB-K"
      }
    },
    {
      "cell_type": "code",
      "source": [
        ">>> Multi.cmeth(7)\n",
        "__main__.Multi 7\n",
        ">>> obj.cmeth(10)\n",
        "__main__.Multi 10"
      ],
      "metadata": {
        "id": "w1FhoTjVKd7A"
      },
      "execution_count": null,
      "outputs": []
    },
    {
      "cell_type": "markdown",
      "source": [
        "**Итератор**\n",
        "\n",
        "Итераторы хороши там, где списки не подходят в силу того, что занимают много памяти, а итератор возвращает его конкретное значение. В классе нужно определить два, стандартных метода — __iter__ и next. Метод __iter__ будет возвращать объект через метод next."
      ],
      "metadata": {
        "id": "JzghLFdwKeN7"
      }
    },
    {
      "cell_type": "code",
      "source": [
        "class Reverse:\n",
        "  def __init__ (self, data):\n",
        "    self.data = data\n",
        "    self.index = len(data)\n",
        "\n",
        "  def __iter__(self):\n",
        "    return self\n",
        "\n",
        "  def next(self):\n",
        "    if self.index == 0:\n",
        "      raise StopIteration\n",
        "    self.index = self.index — 1\n",
        "    return self.data[self.index]\n",
        "\n",
        ">>> for char in Reverse('12345'):\n",
        ">>> print char\n"
      ],
      "metadata": {
        "id": "-5k7Htg0K7s8"
      },
      "execution_count": null,
      "outputs": []
    },
    {
      "cell_type": "code",
      "source": [
        "*Итератор можно сконвертировать в список:*\n",
        "\n",
        ">>> rvr = list(Reverse('123457'))\n",
        ">>> rvr\n",
        "\n",
        "['5', '4', '3', '2', '1']"
      ],
      "metadata": {
        "id": "iWFV88HnK_dL"
      },
      "execution_count": null,
      "outputs": []
    },
    {
      "cell_type": "markdown",
      "source": [
        "**Property**\n",
        "\n",
        "Property — атрибут класса, возвращаемый через стандартную функцию property, которая в качестве аргументов принимает другие функции класса:"
      ],
      "metadata": {
        "id": "CSWGvi8NK778"
      }
    },
    {
      "cell_type": "code",
      "source": [
        "class DateOffset:\n",
        "  def __init__ (self):\n",
        "    self.start = 0\n",
        "\n",
        "  def _get_offset(self):\n",
        "    self.start += 5\n",
        "    return self.start\n",
        "\n",
        "offset = property(_get_offset)\n",
        "\n",
        ">>> d = DateOffset( )\n",
        ">>> d.offset\n",
        "5\n",
        ">>> d.offset\n",
        "10"
      ],
      "metadata": {
        "id": "J3IjB9e4Li6o"
      },
      "execution_count": null,
      "outputs": []
    },
    {
      "cell_type": "markdown",
      "source": [
        "Singleton\n",
        "\n",
        "Данный паттерн позволяет создать всего один инстанс для класса. Используется метод __new__:"
      ],
      "metadata": {
        "id": "cVTjjqfRLomN"
      }
    },
    {
      "cell_type": "code",
      "source": [
        "class Singleton(object):\n",
        "  def __new__(cls, *args, **kw):\n",
        "    if not hasattr(cls, '_instance'):\n",
        "      orig = super(Singleton, cls)\n",
        "      cls._instance = orig.__new__(cls, *args, **kw)\n",
        "    return cls._instance\n",
        "\n",
        ">>> one = Singleton( )\n",
        ">>> two = Singleton( )\n",
        ">>> id (one)\n",
        "3082687532\n",
        ">>> id (two)\n",
        "3082687532\n"
      ],
      "metadata": {
        "id": "rAGJmOEWLvPv"
      },
      "execution_count": null,
      "outputs": []
    },
    {
      "cell_type": "markdown",
      "source": [
        "\n",
        "Слоты\n",
        "\n",
        "Слоты — это список атрибутов, задаваемый в заголовке класса, с помощью __slots__. В инстансе необходимо назначить атрибут, прежде чем пользоваться им:\n"
      ],
      "metadata": {
        "id": "XpXk4YCOLvdX"
      }
    },
    {
      "cell_type": "code",
      "source": [
        "class limiter(object):\n",
        "  __slots__ = ['age', 'name', 'job'] \n",
        "\n",
        ">>> x = limiter( )\n",
        ">>> x.age = 20"
      ],
      "metadata": {
        "id": "7xlMm9y5MGd7"
      },
      "execution_count": null,
      "outputs": []
    },
    {
      "cell_type": "markdown",
      "source": [
        "**Функтор**\n",
        "\n",
        "Функтор — это класс, имеющий метод __call__— при этом объект можно вызвать как функцию.\n",
        "\n",
        "Пусть у нас имеется класс Person, имеется коллекция объектов этого класса - реорlе, нужно отсортировать эту коллекцию по фамилиям. Для этого можно использовать функтор Sortkеу:"
      ],
      "metadata": {
        "id": "yX0ukwpAMGqj"
      }
    },
    {
      "cell_type": "code",
      "source": [
        "class SortKey:\n",
        "  def __init__(self, *attribute_names):\n",
        "\n",
        "  def __call__(self, instance):\n",
        "    values = [ ]\n",
        "    for attribute_name in self.attribute_names:\n",
        "      values.append(getattr (instance, attribute_name))\n",
        "    return values\n",
        "\n",
        "class Person:\n",
        "  def __init__(self, forename, surname, email):\n",
        "    self. forename = forename\n",
        "    self. surname = surname\n",
        "    self.email = email\n",
        "\n",
        "\n",
        ">>> people = [ ]\n",
        ">>> p = Person('Petrov',' ',' ')\n",
        ">>> people.append(p)\n",
        ">>> p = Person('Sidorov', ' ',' ')\n",
        ">>> people.append(p)\n",
        ">>> p = Person(u' Ivanov',' ',' ')\n",
        ">>> people.append(p)\n",
        ">>> for p in people:\n",
        "...     print p. forename\n",
        "\n",
        "Petrov\n",
        "Sidorov\n",
        "Ivanov\n",
        "\n",
        ">>> people.sort(key=SortKey(\"forename\"))\n",
        ">>> for p in people:\n",
        "...     print p. forename\n",
        "Ivanov\n",
        "Petrov\n",
        "Sidorov"
      ],
      "metadata": {
        "id": "GRbUBzetMfs9"
      },
      "execution_count": null,
      "outputs": []
    },
    {
      "cell_type": "markdown",
      "source": [
        "**Дескриптор**\n",
        "\n",
        "Дескриптор — это класс, который хранит и контролирует атрибуты других классов. Вообще любой класс, который имплементирует один из специальных методов — __get__, __set__, __delete__ является дескриптором. Пример:"
      ],
      "metadata": {
        "id": "bjBCy3-FMf6c"
      }
    },
    {
      "cell_type": "code",
      "source": [
        "class ExternalStorage:\n",
        "  __slots__ = (\"attribute_name\",)\n",
        "  __storage = { }\n",
        "\n",
        "  def __init__(self, attribute_name):\n",
        "    self.attribute_name = attribute_name\n",
        "\n",
        "  def __set__(self, instance, value):\n",
        "    self. __storage[id(instance), self.attribute_name] = value\n",
        "\n",
        "  def __get__(self, instance, owner=None):\n",
        "    if instance is None:\n",
        "      return self\n",
        "    return self.__storage[id(instance), self.attribute_name]\n",
        "\n",
        "class Point:\n",
        "  __slots__ = ( )\n",
        "  x = ExternalStorage(\"x\")\n",
        "  y = ExternalStorage(\"y\")\n",
        "  def __init__(self, x=0, y=0):\n",
        "    self.x = x\n",
        "    self.y = y\n",
        "\n",
        ">>> p1 = Point (1, 2)\n",
        ">>> p2 = Point (3, 4)\n"
      ],
      "metadata": {
        "id": "B3Dv0ZMxM5L1"
      },
      "execution_count": null,
      "outputs": []
    },
    {
      "cell_type": "markdown",
      "source": [
        "В данном случае класс Point не имеет собственных атрибутов х, у, хотя вызывает их так, как будто они есть — на, самом деле они хранятся в дескрипторе ExternalStorage.\n",
        "\n",
        "**Sequence**\n",
        "Последовательность реализуется с помощью таких методов: __getitem__, __setitem__. В данном примере класс MySequence возвращает по индексу элемент последовательности неопределенной длины, представляющей собой\n",
        "арифметическую прогрессию вида: 1 3 5 7... Здесь нельзя применить стандартные методы __del__, __len__:"
      ],
      "metadata": {
        "id": "13nOdbOoM5ZX"
      }
    },
    {
      "cell_type": "code",
      "source": [
        "class MySequence:\n",
        "  def __init__(self, start=0, step=1):\n",
        "    self.start = start\n",
        "    self.step = step\n",
        "    self. changed = {}\n",
        "  def __getitem__ (self, key):\n",
        "    return self.start + keyxself.step\n",
        "  def __setitem__ (self, key, value):\n",
        "    self. changed[key] = value\n",
        "\n",
        ">>> s = MySequence(1, 2)\n",
        ">>> s[0]\n",
        "1\n",
        ">>> s[1]\n",
        "3\n",
        ">>> s[100]\n",
        "201\n"
      ],
      "metadata": {
        "id": "bQiH2kAONuMO"
      },
      "execution_count": null,
      "outputs": []
    },
    {
      "cell_type": "markdown",
      "source": [
        "##Практические задания:"
      ],
      "metadata": {
        "id": "DAkX61haWIe6"
      }
    },
    {
      "cell_type": "code",
      "source": [
        "*1*\n",
        "\n",
        "class Thing:\n",
        "    pass\n",
        "\n",
        "example = Thing()\n",
        "\n",
        "print(Thing)\n",
        "print(\"\")\n",
        "print(example)"
      ],
      "metadata": {
        "id": "mX4kNyR1WRcH"
      },
      "execution_count": null,
      "outputs": []
    },
    {
      "cell_type": "code",
      "source": [
        "*2*\n",
        "\n",
        "class Thing2:\n",
        "    letters = 'abc'\n",
        "\n",
        "print(Thing2.letters)"
      ],
      "metadata": {
        "id": "cYTUw9zgWrbQ"
      },
      "execution_count": null,
      "outputs": []
    },
    {
      "cell_type": "code",
      "source": [
        "*3*\n",
        "\n",
        "class Thing3:\n",
        "    letters = 'xyz'\n",
        "\n",
        "print(Thing3.letters)"
      ],
      "metadata": {
        "id": "21hlinH5WvDy"
      },
      "execution_count": null,
      "outputs": []
    },
    {
      "cell_type": "code",
      "source": [
        "*4*\n",
        "\n",
        "class Element:\n",
        "    def __init__(self, name, symbol, number):\n",
        "        self.name = name\n",
        "        self.symbol = symbol\n",
        "        self.number = number\n",
        "\n",
        "a = Element('Hydrogen', 'H', 1)"
      ],
      "metadata": {
        "id": "Gtw6Zd4bWyxG"
      },
      "execution_count": null,
      "outputs": []
    },
    {
      "cell_type": "code",
      "source": [
        "*5*\n",
        "\n",
        "slovar = {'name': 'Hydrogen', 'symbol': 'H', 'number': 1}\n",
        "\n",
        "hydrogen = Element(slovar['name'], slovar['symbol'], slovar['number'])\n",
        "\n",
        "print(hydrogen.name)\n",
        "print(hydrogen.symbol)\n",
        "print(hydrogen.number)"
      ],
      "metadata": {
        "id": "w7Kw4-E-W11-"
      },
      "execution_count": null,
      "outputs": []
    },
    {
      "cell_type": "code",
      "source": [
        "*6*\n",
        "\n",
        "class Element:\n",
        "    def __init__(self, name, symbol, number):\n",
        "        self.name = name\n",
        "        self.symbol = symbol\n",
        "        self.number = number\n",
        "\n",
        "    def dump(self):\n",
        "        print(f'Имя: {self.name}; \\nСимвол: {self.symbol};' \n",
        "              f'\\nНомер: {self.number}')\n",
        "        \n",
        "hydrogen = Element('Hydrogen', 'H', 1)\n",
        "hydrogen.dump()"
      ],
      "metadata": {
        "id": "iK5Bxk__W4o8"
      },
      "execution_count": null,
      "outputs": []
    }
  ]
}