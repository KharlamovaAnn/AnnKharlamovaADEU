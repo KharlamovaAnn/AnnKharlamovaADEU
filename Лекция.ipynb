{
  "nbformat": 4,
  "nbformat_minor": 0,
  "metadata": {
    "colab": {
      "provenance": [],
      "authorship_tag": "ABX9TyOPGLVELCrzaUo/WQ+7+JsB",
      "include_colab_link": true
    },
    "kernelspec": {
      "name": "python3",
      "display_name": "Python 3"
    },
    "language_info": {
      "name": "python"
    }
  },
  "cells": [
    {
      "cell_type": "markdown",
      "metadata": {
        "id": "view-in-github",
        "colab_type": "text"
      },
      "source": [
        "<a href=\"https://colab.research.google.com/github/KharlamovaAnn/AnnKharlamovaADEU/blob/main/%D0%9B%D0%B5%D0%BA%D1%86%D0%B8%D1%8F.ipynb\" target=\"_parent\"><img src=\"https://colab.research.google.com/assets/colab-badge.svg\" alt=\"Open In Colab\"/></a>"
      ]
    },
    {
      "cell_type": "markdown",
      "source": [
        "### План"
      ],
      "metadata": {
        "id": "nlJuq5_QlFAm"
      }
    },
    {
      "cell_type": "markdown",
      "source": [
        "PEP8\n",
        "\n",
        "Ошибки и исключения\n",
        "\n",
        "Контексные менеджеры\n",
        "\n",
        "Функции dir и help, документирование\n",
        "\n",
        "Работа с путями os.path\n",
        "\n",
        "Использование virtualenv, conda env, docker\n",
        "\n",
        "Использование системы контроля версий"
      ],
      "metadata": {
        "id": "Oz7SVFBXlHst"
      }
    },
    {
      "cell_type": "markdown",
      "source": [
        "PEP 8"
      ],
      "metadata": {
        "id": "Jua-TN9rlSnp"
      }
    },
    {
      "cell_type": "markdown",
      "source": [
        "Это правило, которое необходимо выполнять при выполнении кода"
      ],
      "metadata": {
        "id": "6Uil4TbOlUVy"
      }
    },
    {
      "cell_type": "code",
      "source": [
        "import this # - PEP20"
      ],
      "metadata": {
        "id": "pG9sQxBMlng2"
      },
      "execution_count": null,
      "outputs": []
    },
    {
      "cell_type": "markdown",
      "source": [
        "В строке максимум 79 (72) символа\n",
        "\n",
        "Отступы делаются 4-мя пробелами\n",
        "\n",
        "При отступе нельзя заходить за знак \"=\""
      ],
      "metadata": {
        "id": "0MNBg0UIlqmN"
      }
    },
    {
      "cell_type": "code",
      "source": [
        "# Right\n",
        "\n",
        "hello = [1, 2, 3,\n",
        "         4,5,6\n",
        "         7,8,9\n",
        "         ]"
      ],
      "metadata": {
        "id": "uVMOLXSEluea"
      },
      "execution_count": null,
      "outputs": []
    },
    {
      "cell_type": "code",
      "source": [
        "# Wrong\n",
        "\n",
        "hello = [1,2,3\n",
        "    4,5,6\n",
        "    ]"
      ],
      "metadata": {
        "id": "Fxf8iHrclvqh"
      },
      "execution_count": null,
      "outputs": []
    },
    {
      "cell_type": "markdown",
      "source": [
        "Арифметические действия"
      ],
      "metadata": {
        "id": "KCzGWCNwl8yj"
      }
    },
    {
      "cell_type": "code",
      "source": [
        "# Right\n",
        "\n",
        "income = (per1\n",
        "          + per2\n",
        "          - per3)"
      ],
      "metadata": {
        "id": "EfFKI7Efl_fS"
      },
      "execution_count": null,
      "outputs": []
    },
    {
      "cell_type": "code",
      "source": [
        "# Wrong\n",
        "\n",
        "income = (per1 +\n",
        "          per2 -\n",
        "          per3\n",
        "          )"
      ],
      "metadata": {
        "id": "7MA_-xUVmAXl"
      },
      "execution_count": null,
      "outputs": []
    },
    {
      "cell_type": "markdown",
      "source": [
        "Пробелы в выражениях и инструкциях"
      ],
      "metadata": {
        "id": "WItR3I9mmFW7"
      }
    },
    {
      "cell_type": "markdown",
      "source": [
        "Избегайте использование пробелов сразу или перед скобками"
      ],
      "metadata": {
        "id": "QbYHaiLCmN9n"
      }
    },
    {
      "cell_type": "code",
      "source": [
        "# Correct\n",
        "\n",
        "spam(ham[1], {eggs: 2})"
      ],
      "metadata": {
        "id": "tB5pyfgkmGMf"
      },
      "execution_count": null,
      "outputs": []
    },
    {
      "cell_type": "code",
      "source": [
        "# Wrong\n",
        "\n",
        "spam(ham[ 1], {eggs: 2 })"
      ],
      "metadata": {
        "id": "2vE470F_mSH6"
      },
      "execution_count": null,
      "outputs": []
    },
    {
      "cell_type": "markdown",
      "source": [
        "Избегайте использование пробелов перед скобкой"
      ],
      "metadata": {
        "id": "PY_uvzn2mXqd"
      }
    },
    {
      "cell_type": "markdown",
      "source": [],
      "metadata": {
        "id": "51qKY5gSmYqh"
      }
    },
    {
      "cell_type": "markdown",
      "source": [
        "Избегайте использование пробелов перед открывающейся скобкой, перед указанием индекса или среза"
      ],
      "metadata": {
        "id": "YKWbBLvYmYxE"
      }
    },
    {
      "cell_type": "code",
      "source": [
        "# Wrong\n",
        "a = [1,2,3,4,5]\n",
        "a [0] = 1\n",
        "\n",
        "a = [1, ]\n",
        "\n",
        "# Correct\n",
        "a = [1,2,3,4,5]\n",
        "a[0] = 1\n",
        "\n",
        "a = [1,]"
      ],
      "metadata": {
        "id": "HgBY2pt2meOg"
      },
      "execution_count": null,
      "outputs": []
    },
    {
      "cell_type": "markdown",
      "source": [
        "Избегайте использование более одного пробела после приравнивания"
      ],
      "metadata": {
        "id": "7fzBOInEmhXW"
      }
    },
    {
      "cell_type": "code",
      "source": [
        "# Wrong\n",
        "\n",
        "x         = 2\n",
        "y         = 3\n",
        "hello_wor = 1"
      ],
      "metadata": {
        "id": "8GYCbL6vmk0f"
      },
      "execution_count": null,
      "outputs": []
    },
    {
      "cell_type": "markdown",
      "source": [
        "Входные функции (def) нельзя отделять пробелом"
      ],
      "metadata": {
        "id": "d3ykv_8rmmEm"
      }
    },
    {
      "cell_type": "code",
      "source": [
        "# Correct\n",
        "def complex(real, imag=0.0):\n",
        "    return magic(r=real, i=imag)\n",
        "\n",
        "# Wrong\n",
        "def complex(real, imag = 0.0):\n",
        "    return magic(r = real, i = imag)"
      ],
      "metadata": {
        "id": "WtpmZ1-smrlT"
      },
      "execution_count": null,
      "outputs": []
    },
    {
      "cell_type": "markdown",
      "source": [
        "Условия следует выполнять через многоуровневость, а не через строку"
      ],
      "metadata": {
        "id": "Q0ttNzLImuvM"
      }
    },
    {
      "cell_type": "code",
      "source": [
        "# Wrong\n",
        "\n",
        "if a == b: print('yes')"
      ],
      "metadata": {
        "id": "vXyGszFCm2Pl"
      },
      "execution_count": null,
      "outputs": []
    },
    {
      "cell_type": "markdown",
      "source": [
        "При написании комментариев следует использовать английский язык"
      ],
      "metadata": {
        "id": "hqorjpdpm5gP"
      }
    },
    {
      "cell_type": "markdown",
      "source": [
        "При импорте определенных функций стоит импортировать не всю программу"
      ],
      "metadata": {
        "id": "N8VqI4STm8tB"
      }
    },
    {
      "cell_type": "code",
      "source": [
        "# Wrong\n",
        "import numpy *\n",
        "\n",
        "# Correct\n",
        "import numpy as np"
      ],
      "metadata": {
        "id": "kljC8dGZm2Vr"
      },
      "execution_count": null,
      "outputs": []
    },
    {
      "cell_type": "markdown",
      "source": [
        "Комментарии должны объяснять только сложные моменты"
      ],
      "metadata": {
        "id": "1SQ_AIQhnCoR"
      }
    },
    {
      "cell_type": "markdown",
      "source": [
        "Подчеркивания\n",
        "\n",
        "В названиях локальных переменных не используются нижние подчеркивания, однако:"
      ],
      "metadata": {
        "id": "zfJzIUQ2nGXV"
      }
    },
    {
      "cell_type": "code",
      "source": [
        "_var = внутреннее использование (не глобальная)\n",
        "var_ = избежание конфликта с ключевыми словами языка\n",
        "__var = сокрытие приватных переменных при наследовании\n",
        "_var_ = магические методы\n",
        "одиночное подчеркивание (_) = несущественная переменная"
      ],
      "metadata": {
        "id": "uRTGh6bVnJx0"
      },
      "execution_count": null,
      "outputs": []
    },
    {
      "cell_type": "code",
      "source": [
        "for _ in range(3):\n",
        "    print('hello')\n",
        "\n",
        "print(_)"
      ],
      "metadata": {
        "id": "jR6KlAbonNXl"
      },
      "execution_count": null,
      "outputs": []
    },
    {
      "cell_type": "code",
      "source": [
        "car = ('red', 'auto', 12, 3812.4)\n",
        "color, _, _, mileage = car\n",
        "print(_)\n",
        "\n",
        "type(car)"
      ],
      "metadata": {
        "id": "1-NboZ-lnRMx"
      },
      "execution_count": null,
      "outputs": []
    },
    {
      "cell_type": "markdown",
      "source": [
        "Ошибки и исключения"
      ],
      "metadata": {
        "id": "NXlZOn37nUJo"
      }
    },
    {
      "cell_type": "markdown",
      "source": [
        "Виды ошибок\n",
        "\n",
        "Синтаксические\n",
        "Критические (остановит работу)\n",
        "Рядовые (может продолжить работу)"
      ],
      "metadata": {
        "id": "aZYrM7dEnQPn"
      }
    },
    {
      "cell_type": "markdown",
      "source": [
        "Исключение - попытка обойти ошибку"
      ],
      "metadata": {
        "id": "0MIobGV1nhC0"
      }
    },
    {
      "cell_type": "markdown",
      "source": [
        "try...except"
      ],
      "metadata": {
        "id": "REqgzhpInp5M"
      }
    },
    {
      "cell_type": "code",
      "source": [
        "filename = '123'\n",
        "try:\n",
        "    df = open(filename, 'r')\n",
        "except FileNotFoundError:\n",
        "    print('Error: File %s does not exist' % filename)"
      ],
      "metadata": {
        "id": "aK_akUuXnrDu"
      },
      "execution_count": null,
      "outputs": []
    },
    {
      "cell_type": "code",
      "source": [
        "filename = '123'\n",
        "try:\n",
        "    df = open(filename, 'r')\n",
        "except FileNotFoundError:\n",
        "    print('Error: File %s does not exist' % filename)\n",
        "#except \"\"\"...\"\"\""
      ],
      "metadata": {
        "id": "nJfI-MyVntpl"
      },
      "execution_count": null,
      "outputs": []
    },
    {
      "cell_type": "code",
      "source": [
        "try:\n",
        "    x = 1\n",
        "    df = open(filename, 'r')\n",
        "except FileNotFoundError:\n",
        "    print('Error: File %s does not exist' % filename)\n",
        "else:\n",
        "    print('Everything is ok')\n",
        "finally:\n",
        "    print('Finally block')"
      ],
      "metadata": {
        "id": "zj34Jusdn6Xl"
      },
      "execution_count": null,
      "outputs": []
    },
    {
      "cell_type": "markdown",
      "source": [
        "Стратегии обработки ошибки"
      ],
      "metadata": {
        "id": "Mswsv775n_ji"
      }
    },
    {
      "cell_type": "code",
      "source": [
        "import os"
      ],
      "metadata": {
        "id": "lQiP6PGcn9Iu"
      },
      "execution_count": null,
      "outputs": []
    },
    {
      "cell_type": "markdown",
      "source": [
        "Замена try...except"
      ],
      "metadata": {
        "id": "acBKxM4zoGu9"
      }
    },
    {
      "cell_type": "code",
      "source": [
        "try:\n",
        "    raise RuntimeError('Crush')\n",
        "except:\n",
        "    print('er')"
      ],
      "metadata": {
        "id": "N4RWoRUUoJhP"
      },
      "execution_count": null,
      "outputs": []
    },
    {
      "cell_type": "markdown",
      "source": [
        "AssertionError При не выполнении условий программа сломается"
      ],
      "metadata": {
        "id": "31NDQlJWoL_T"
      }
    },
    {
      "cell_type": "code",
      "source": [
        "assert 3==1+2, 'No ERROR'"
      ],
      "metadata": {
        "id": "uzKd6DDIoPN_"
      },
      "execution_count": null,
      "outputs": []
    },
    {
      "cell_type": "code",
      "source": [
        "assert 4==1+2, 'ERROR here!'"
      ],
      "metadata": {
        "id": "svTNlyayoRtQ"
      },
      "execution_count": null,
      "outputs": []
    },
    {
      "cell_type": "code",
      "source": [
        "try:\n",
        "    import platform_specific_module\n",
        "except ImportError:\n",
        "    platform_specific_module = None"
      ],
      "metadata": {
        "id": "CBgkTkjxoWru"
      },
      "execution_count": null,
      "outputs": []
    },
    {
      "cell_type": "code",
      "source": [
        "# Wrong\n",
        "try:\n",
        "    i = 1\n",
        "except:\n",
        "    pass #Прервать (зачем?). Если есть ошибка - программа ее пропустит"
      ],
      "metadata": {
        "id": "O_POSV-FoZh5"
      },
      "execution_count": null,
      "outputs": []
    },
    {
      "cell_type": "markdown",
      "source": [
        "Контекстные менеджеры"
      ],
      "metadata": {
        "id": "N2vRVFf4obuT"
      }
    },
    {
      "cell_type": "code",
      "source": [
        "f = open('hello.txt', 'w')\n",
        "f.write('hello') #Может не успеть записаться\n",
        "f.close"
      ],
      "metadata": {
        "id": "dTXa84nZoevG"
      },
      "execution_count": null,
      "outputs": []
    },
    {
      "cell_type": "code",
      "source": [
        "!ls"
      ],
      "metadata": {
        "id": "W37Zr1e6ohvM"
      },
      "execution_count": null,
      "outputs": []
    },
    {
      "cell_type": "markdown",
      "source": [
        "Функции dir и help, докуменирование"
      ],
      "metadata": {
        "id": "-KnxjUKPjGdg"
      }
    },
    {
      "cell_type": "code",
      "source": [
        "import numpy as np\n",
        "dir(np.random)"
      ],
      "metadata": {
        "colab": {
          "base_uri": "https://localhost:8080/"
        },
        "id": "73s1609jjKQk",
        "outputId": "b75d69bd-7c11-4a62-fbdc-0eac36f51e48"
      },
      "execution_count": 1,
      "outputs": [
        {
          "output_type": "execute_result",
          "data": {
            "text/plain": [
              "['BitGenerator',\n",
              " 'Generator',\n",
              " 'MT19937',\n",
              " 'PCG64',\n",
              " 'PCG64DXSM',\n",
              " 'Philox',\n",
              " 'RandomState',\n",
              " 'SFC64',\n",
              " 'SeedSequence',\n",
              " '__RandomState_ctor',\n",
              " '__all__',\n",
              " '__builtins__',\n",
              " '__cached__',\n",
              " '__doc__',\n",
              " '__file__',\n",
              " '__loader__',\n",
              " '__name__',\n",
              " '__package__',\n",
              " '__path__',\n",
              " '__spec__',\n",
              " '_bounded_integers',\n",
              " '_common',\n",
              " '_generator',\n",
              " '_mt19937',\n",
              " '_pcg64',\n",
              " '_philox',\n",
              " '_pickle',\n",
              " '_sfc64',\n",
              " 'beta',\n",
              " 'binomial',\n",
              " 'bit_generator',\n",
              " 'bytes',\n",
              " 'chisquare',\n",
              " 'choice',\n",
              " 'default_rng',\n",
              " 'dirichlet',\n",
              " 'exponential',\n",
              " 'f',\n",
              " 'gamma',\n",
              " 'geometric',\n",
              " 'get_state',\n",
              " 'gumbel',\n",
              " 'hypergeometric',\n",
              " 'laplace',\n",
              " 'logistic',\n",
              " 'lognormal',\n",
              " 'logseries',\n",
              " 'mtrand',\n",
              " 'multinomial',\n",
              " 'multivariate_normal',\n",
              " 'negative_binomial',\n",
              " 'noncentral_chisquare',\n",
              " 'noncentral_f',\n",
              " 'normal',\n",
              " 'pareto',\n",
              " 'permutation',\n",
              " 'poisson',\n",
              " 'power',\n",
              " 'rand',\n",
              " 'randint',\n",
              " 'randn',\n",
              " 'random',\n",
              " 'random_integers',\n",
              " 'random_sample',\n",
              " 'ranf',\n",
              " 'rayleigh',\n",
              " 'sample',\n",
              " 'seed',\n",
              " 'set_state',\n",
              " 'shuffle',\n",
              " 'standard_cauchy',\n",
              " 'standard_exponential',\n",
              " 'standard_gamma',\n",
              " 'standard_normal',\n",
              " 'standard_t',\n",
              " 'test',\n",
              " 'triangular',\n",
              " 'uniform',\n",
              " 'vonmises',\n",
              " 'wald',\n",
              " 'weibull',\n",
              " 'zipf']"
            ]
          },
          "metadata": {},
          "execution_count": 1
        }
      ]
    },
    {
      "cell_type": "code",
      "source": [
        "help(np.random.randint)"
      ],
      "metadata": {
        "colab": {
          "base_uri": "https://localhost:8080/"
        },
        "id": "ISQ5aCKEjQmP",
        "outputId": "f6a7e4ef-739c-4577-b619-ef344c1b67eb"
      },
      "execution_count": 2,
      "outputs": [
        {
          "output_type": "stream",
          "name": "stdout",
          "text": [
            "Help on built-in function randint:\n",
            "\n",
            "randint(...) method of numpy.random.mtrand.RandomState instance\n",
            "    randint(low, high=None, size=None, dtype=int)\n",
            "    \n",
            "    Return random integers from `low` (inclusive) to `high` (exclusive).\n",
            "    \n",
            "    Return random integers from the \"discrete uniform\" distribution of\n",
            "    the specified dtype in the \"half-open\" interval [`low`, `high`). If\n",
            "    `high` is None (the default), then results are from [0, `low`).\n",
            "    \n",
            "    .. note::\n",
            "        New code should use the ``integers`` method of a ``default_rng()``\n",
            "        instance instead; please see the :ref:`random-quick-start`.\n",
            "    \n",
            "    Parameters\n",
            "    ----------\n",
            "    low : int or array-like of ints\n",
            "        Lowest (signed) integers to be drawn from the distribution (unless\n",
            "        ``high=None``, in which case this parameter is one above the\n",
            "        *highest* such integer).\n",
            "    high : int or array-like of ints, optional\n",
            "        If provided, one above the largest (signed) integer to be drawn\n",
            "        from the distribution (see above for behavior if ``high=None``).\n",
            "        If array-like, must contain integer values\n",
            "    size : int or tuple of ints, optional\n",
            "        Output shape.  If the given shape is, e.g., ``(m, n, k)``, then\n",
            "        ``m * n * k`` samples are drawn.  Default is None, in which case a\n",
            "        single value is returned.\n",
            "    dtype : dtype, optional\n",
            "        Desired dtype of the result. Byteorder must be native.\n",
            "        The default value is int.\n",
            "    \n",
            "        .. versionadded:: 1.11.0\n",
            "    \n",
            "    Returns\n",
            "    -------\n",
            "    out : int or ndarray of ints\n",
            "        `size`-shaped array of random integers from the appropriate\n",
            "        distribution, or a single such random int if `size` not provided.\n",
            "    \n",
            "    See Also\n",
            "    --------\n",
            "    random_integers : similar to `randint`, only for the closed\n",
            "        interval [`low`, `high`], and 1 is the lowest value if `high` is\n",
            "        omitted.\n",
            "    Generator.integers: which should be used for new code.\n",
            "    \n",
            "    Examples\n",
            "    --------\n",
            "    >>> np.random.randint(2, size=10)\n",
            "    array([1, 0, 0, 0, 1, 1, 0, 0, 1, 0]) # random\n",
            "    >>> np.random.randint(1, size=10)\n",
            "    array([0, 0, 0, 0, 0, 0, 0, 0, 0, 0])\n",
            "    \n",
            "    Generate a 2 x 4 array of ints between 0 and 4, inclusive:\n",
            "    \n",
            "    >>> np.random.randint(5, size=(2, 4))\n",
            "    array([[4, 0, 2, 1], # random\n",
            "           [3, 2, 2, 0]])\n",
            "    \n",
            "    Generate a 1 x 3 array with 3 different upper bounds\n",
            "    \n",
            "    >>> np.random.randint(1, [3, 5, 10])\n",
            "    array([2, 2, 9]) # random\n",
            "    \n",
            "    Generate a 1 by 3 array with 3 different lower bounds\n",
            "    \n",
            "    >>> np.random.randint([1, 5, 7], 10)\n",
            "    array([9, 8, 7]) # random\n",
            "    \n",
            "    Generate a 2 by 4 array using broadcasting with dtype of uint8\n",
            "    \n",
            "    >>> np.random.randint([1, 3, 5, 7], [[10], [20]], dtype=np.uint8)\n",
            "    array([[ 8,  6,  9,  7], # random\n",
            "           [ 1, 16,  9, 12]], dtype=uint8)\n",
            "\n"
          ]
        }
      ]
    },
    {
      "cell_type": "code",
      "source": [
        "def kos_root():\n",
        "  \"\"\"Return the pathname of the KOS root directory\"\"\"\n",
        "  global _kos_root\n",
        "  if _kos_root: return _kos_root\n",
        "\n",
        "def function(a,b):\n",
        "  \"\"\"function(a, b) - list\"\"\"\n",
        "\n",
        "def compl(real=0.0,imag=0.0):\n",
        "  \"\"\"Form a complex number.\n",
        "\n",
        "  Keyword arguments:\n",
        "  real -- the real part (default 0.0)\n",
        "  imag -- the imaginary part (default 0.0)\n",
        "\n",
        "  \"\"\"\n",
        "  \n",
        "  if imag ==0.0 and real == 0.0: return complex_zero\n",
        "  ..."
      ],
      "metadata": {
        "id": "CUPdgZEsjWLc"
      },
      "execution_count": 4,
      "outputs": []
    },
    {
      "cell_type": "code",
      "source": [
        "print(compl.__doc__)"
      ],
      "metadata": {
        "colab": {
          "base_uri": "https://localhost:8080/"
        },
        "id": "4SitVl8ejaUu",
        "outputId": "d103a734-c8f4-4aa5-9947-fb9163798a5e"
      },
      "execution_count": 5,
      "outputs": [
        {
          "output_type": "stream",
          "name": "stdout",
          "text": [
            "Form a complex number.\n",
            "\n",
            "  Keyword arguments:\n",
            "  real -- the real part (default 0.0)\n",
            "  imag -- the imaginary part (default 0.0)\n",
            "\n",
            "  \n"
          ]
        }
      ]
    },
    {
      "cell_type": "code",
      "source": [
        "help(compl)"
      ],
      "metadata": {
        "colab": {
          "base_uri": "https://localhost:8080/"
        },
        "id": "tiE1VTnSji-z",
        "outputId": "d1cd5389-0737-4b5e-e1b5-079ae538d06d"
      },
      "execution_count": 6,
      "outputs": [
        {
          "output_type": "stream",
          "name": "stdout",
          "text": [
            "Help on function compl in module __main__:\n",
            "\n",
            "compl(real=0.0, imag=0.0)\n",
            "    Form a complex number.\n",
            "    \n",
            "    Keyword arguments:\n",
            "    real -- the real part (default 0.0)\n",
            "    imag -- the imaginary part (default 0.0)\n",
            "\n"
          ]
        }
      ]
    },
    {
      "cell_type": "code",
      "source": [
        "class AClass:\n",
        "    c = 'class attribute'\n",
        "    \"\"\"This is AClass.c`docstring.\"\"\"\n",
        "\n",
        "    def __init__(self):\n",
        "        \"\"\"Method __init__`s docstring.\"\"\"\n",
        "        self.i = 'instance docstring'\n",
        "    \n",
        "    def f(x):\n",
        "        \"\"\"Function f`s docstring.\"\"\"\n",
        "        return x**2\n",
        "\n",
        "    f.a = 1\n",
        "    \"\"\"Function attribute f.a`s docstring.\"\"\""
      ],
      "metadata": {
        "id": "3-EbVGhJj7gh"
      },
      "execution_count": null,
      "outputs": []
    },
    {
      "cell_type": "code",
      "source": [
        "help(AClass)"
      ],
      "metadata": {
        "id": "nkPWXMP1o05e"
      },
      "execution_count": null,
      "outputs": []
    },
    {
      "cell_type": "markdown",
      "source": [
        "Работа с путями: os, path"
      ],
      "metadata": {
        "id": "UcYDXxDXkZLe"
      }
    },
    {
      "cell_type": "code",
      "source": [
        "import os"
      ],
      "metadata": {
        "id": "3mU5nftgkiCg"
      },
      "execution_count": null,
      "outputs": []
    },
    {
      "cell_type": "code",
      "source": [
        "path = os.path.join('first','secon')\n",
        "\n",
        "if not os.path.exists(path):\n",
        "  os.makedirs(path)"
      ],
      "metadata": {
        "id": "2SSs4Uueo7tf"
      },
      "execution_count": null,
      "outputs": []
    },
    {
      "cell_type": "code",
      "source": [
        "file_path= os.path.join(path, '1.txt')"
      ],
      "metadata": {
        "id": "5JBBmVX-qYX2"
      },
      "execution_count": null,
      "outputs": []
    },
    {
      "cell_type": "code",
      "source": [
        "os.path.dirname(file_path)"
      ],
      "metadata": {
        "id": "5Xw-UY1kqawQ"
      },
      "execution_count": null,
      "outputs": []
    },
    {
      "cell_type": "code",
      "source": [
        "dirname='.'"
      ],
      "metadata": {
        "id": "ykaSmvoOqa0L"
      },
      "execution_count": null,
      "outputs": []
    },
    {
      "cell_type": "code",
      "source": [
        "[f for f in os.listdir(dirname) if os.path.isfile(os.path.join(dirname,f))]"
      ],
      "metadata": {
        "id": "tmfiuMwLqa4R"
      },
      "execution_count": null,
      "outputs": []
    },
    {
      "cell_type": "code",
      "source": [
        "help(os.path)"
      ],
      "metadata": {
        "id": "ihQph1Qmqa8S"
      },
      "execution_count": null,
      "outputs": []
    },
    {
      "cell_type": "markdown",
      "source": [
        "###Итераторы, генераторы, декораторы"
      ],
      "metadata": {
        "id": "g5IwkbP7qwcE"
      }
    },
    {
      "cell_type": "code",
      "source": [
        "for var in range(5):\n",
        "  print(var)"
      ],
      "metadata": {
        "id": "9LJdEJXeqa__"
      },
      "execution_count": null,
      "outputs": []
    },
    {
      "cell_type": "code",
      "source": [
        "for letter in \"Hello world\":\n",
        "  print(letter)"
      ],
      "metadata": {
        "id": "Dkew-OHfqbD0"
      },
      "execution_count": null,
      "outputs": []
    },
    {
      "cell_type": "code",
      "source": [
        "for key in {'Name': 'John',\n",
        "            'Age': 15,\n",
        "            'Gender': 'Male',\n",
        "            }:\n",
        "    print(key)"
      ],
      "metadata": {
        "id": "s6CykPS5qbH-"
      },
      "execution_count": null,
      "outputs": []
    },
    {
      "cell_type": "code",
      "source": [
        "for element in [0,1,2,3,4,5]:\n",
        "  print(element)"
      ],
      "metadata": {
        "id": "6F5zxCQyq_TI"
      },
      "execution_count": null,
      "outputs": []
    },
    {
      "cell_type": "code",
      "source": [
        "my_list=[0,1,2,3,4,5,6,7,8,9]\n",
        "my_iter=iter(my_list)\n",
        "print(my_iter)"
      ],
      "metadata": {
        "id": "Qjn20XaDq_VQ"
      },
      "execution_count": null,
      "outputs": []
    },
    {
      "cell_type": "code",
      "source": [
        "print(my_iter.__next__())"
      ],
      "metadata": {
        "id": "1rWsSWzRq_Xq"
      },
      "execution_count": null,
      "outputs": []
    },
    {
      "cell_type": "code",
      "source": [
        "print(next(my_iter))"
      ],
      "metadata": {
        "id": "E7Yu3Sx7q_aA"
      },
      "execution_count": null,
      "outputs": []
    },
    {
      "cell_type": "code",
      "source": [
        "my_list=[0,1,2,3,4,5,6,7,8,9]\n",
        "my_iter=iter(my_list)\n",
        "print(next(my_iter))\n",
        "print(next(my_iter))"
      ],
      "metadata": {
        "id": "QtHil4P_q_cS"
      },
      "execution_count": null,
      "outputs": []
    },
    {
      "cell_type": "code",
      "source": [
        "my_list=[0,1,2,3,4,5]\n",
        "my_iter1=iter(my_list)\n",
        "my_iter2=iter(my_iter1)\n",
        "print(my_iter1)\n",
        "print(my_iter2)\n",
        "print(my_iter1 == my_iter2)"
      ],
      "metadata": {
        "id": "y-zVbs6Wq_es"
      },
      "execution_count": null,
      "outputs": []
    },
    {
      "cell_type": "markdown",
      "source": [
        "Таким образом, Iter - хранит весь объект целиком, а Next - хранит лишь последнее значение."
      ],
      "metadata": {
        "id": "Rrh_e8YhsYAh"
      }
    },
    {
      "cell_type": "code",
      "source": [
        "#Как проверить объект на итерируемость\n",
        "my_object=[1,2,3]\n",
        "#my_object = 2\n",
        "#my_object =\"HEllo\"\n",
        "try:\n",
        "  iter(my_object)\n",
        "except TypeError:\n",
        "  print('not iterable')\n",
        "else:\n",
        "  print('iterable')"
      ],
      "metadata": {
        "id": "Ni92n6Joq_g_"
      },
      "execution_count": null,
      "outputs": []
    },
    {
      "cell_type": "markdown",
      "source": [
        "**Метод getitem"
      ],
      "metadata": {
        "id": "uAotm7dssdYJ"
      }
    },
    {
      "cell_type": "code",
      "source": [
        "a = [12,13,14,15,16,17]\n",
        "b = a.__getitem__(3)\n",
        "print(b)"
      ],
      "metadata": {
        "id": "cszrf-lpq_jg"
      },
      "execution_count": null,
      "outputs": []
    },
    {
      "cell_type": "markdown",
      "source": [
        "Метод range"
      ],
      "metadata": {
        "id": "70i6pS-3sies"
      }
    },
    {
      "cell_type": "code",
      "source": [
        "print(range(5))\n",
        "print(type(range(5)))"
      ],
      "metadata": {
        "id": "AewjEzDwq_m2"
      },
      "execution_count": null,
      "outputs": []
    },
    {
      "cell_type": "code",
      "source": [
        "a = range(5)\n",
        "# Но range - не итератор, это итерируемый объект.\n",
        "next(a)"
      ],
      "metadata": {
        "id": "YBpbfm3dsnus"
      },
      "execution_count": null,
      "outputs": []
    },
    {
      "cell_type": "markdown",
      "source": [
        "Исчерпаемая итерация: Таблицы Excel, Docx и другие"
      ],
      "metadata": {
        "id": "U77YyI7qslaI"
      }
    },
    {
      "cell_type": "markdown",
      "source": [
        "Неисчерпаемая итерация: Только списки и словари"
      ],
      "metadata": {
        "id": "YfgRq9zHs4k9"
      }
    },
    {
      "cell_type": "code",
      "source": [
        "some_iter = iter(some_object)\n",
        "while True:\n",
        "    try:\n",
        "        some_value = next(some_iter)\n",
        "    except StopIteration:\n",
        "        break\n",
        "    do_smth(some_value)"
      ],
      "metadata": {
        "id": "NvJVj-vSs6xF"
      },
      "execution_count": null,
      "outputs": []
    },
    {
      "cell_type": "markdown",
      "source": [
        "Генератооры:"
      ],
      "metadata": {
        "id": "VCyvlAtMtu7f"
      }
    }
  ]
}