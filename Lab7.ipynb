{
  "nbformat": 4,
  "nbformat_minor": 0,
  "metadata": {
    "colab": {
      "provenance": [],
      "authorship_tag": "ABX9TyMYG0i/ITbgJrb8/ameEvOW",
      "include_colab_link": true
    },
    "kernelspec": {
      "name": "python3",
      "display_name": "Python 3"
    },
    "language_info": {
      "name": "python"
    }
  },
  "cells": [
    {
      "cell_type": "markdown",
      "metadata": {
        "id": "view-in-github",
        "colab_type": "text"
      },
      "source": [
        "<a href=\"https://colab.research.google.com/github/KharlamovaAnn/AnnKharlamovaADEU/blob/main/Lab7.ipynb\" target=\"_parent\"><img src=\"https://colab.research.google.com/assets/colab-badge.svg\" alt=\"Open In Colab\"/></a>"
      ]
    },
    {
      "cell_type": "markdown",
      "source": [
        "# Программирование на языке высокого уровня (Python).\n",
        "# https://www.yuripetrov.ru/edu/python\n",
        "# Задание task_04_02_08.\n",
        "#\n",
        "# Выполнил: Харламова Анна\n",
        "# Группа: АДЭУ-221\n",
        "# E-mail: Supricon@yandex.ru"
      ],
      "metadata": {
        "id": "69KwS0UMSWff"
      }
    },
    {
      "cell_type": "markdown",
      "source": [
        "7.2.1-7.2.5\n",
        "Для задач 7.2.1-7.2.5 приведено условие задачи и ее решение (ошибочное).\n",
        "\n",
        "Для каждой задачи:\n",
        "\n",
        "используя визуальный просмотр кода, простое журналирование, проверку PEP8 или отладчик в IDE:\n",
        "\n",
        "разберитесь в алгоритме решения;\n",
        "\n",
        "найдите номера строк, в которых есть ошибки, и укажите их в строке документации;\n",
        "\n",
        "исправьте ошибки, минимально изменив код (как правило, заменив строчку на строчку); ошибки исправляются по ходу программы, сверху вниз."
      ],
      "metadata": {
        "id": "21vbIStFSkOL"
      }
    },
    {
      "cell_type": "code",
      "execution_count": 1,
      "metadata": {
        "colab": {
          "base_uri": "https://localhost:8080/"
        },
        "id": "en6yLkKhSAa0",
        "outputId": "f4edceda-63dd-4122-bc49-7f48c9fb7015"
      },
      "outputs": [
        {
          "output_type": "execute_result",
          "data": {
            "text/plain": [
              "1"
            ]
          },
          "metadata": {},
          "execution_count": 1
        }
      ],
      "source": [
        "def sum_of_digits(n):\n",
        "    \"\"\"Вернуть сумму цифр меньших 5 для положительного целого числа `n`.\n",
        "    Если таких цифр нет, вернуть 0.\"\"\"\n",
        "    c = 0\n",
        "    while n > 0:\n",
        "        digit = n % 10 #не то действие деления\n",
        "        if digit < 5:\n",
        "            c = c + digit #прибавлялось не то число\n",
        "        n //= 10\n",
        "    return c #вовзвращалась не та переменная\n",
        "\n",
        "sum_of_digits(16)"
      ]
    },
    {
      "cell_type": "code",
      "source": [
        "sum_of_digits(14)"
      ],
      "metadata": {
        "colab": {
          "base_uri": "https://localhost:8080/"
        },
        "id": "S3eRzpacTri0",
        "outputId": "0bc51d84-0917-48df-bfab-81f2694e6d1d"
      },
      "execution_count": 2,
      "outputs": [
        {
          "output_type": "execute_result",
          "data": {
            "text/plain": [
              "5"
            ]
          },
          "metadata": {},
          "execution_count": 2
        }
      ]
    },
    {
      "cell_type": "code",
      "source": [
        "help(sum_of_digits)"
      ],
      "metadata": {
        "colab": {
          "base_uri": "https://localhost:8080/"
        },
        "id": "w__chQ5GVEjZ",
        "outputId": "fc67acb9-6d77-4a3f-baa0-2e5c98e3a95f"
      },
      "execution_count": 3,
      "outputs": [
        {
          "output_type": "stream",
          "name": "stdout",
          "text": [
            "Help on function sum_of_digits in module __main__:\n",
            "\n",
            "sum_of_digits(n)\n",
            "    Вернуть сумму цифр меньших 5 для положительного целого числа `n`.\n",
            "    Если таких цифр нет, вернуть 0.\n",
            "\n"
          ]
        }
      ]
    },
    {
      "cell_type": "markdown",
      "source": [
        "№ 7.2.2"
      ],
      "metadata": {
        "id": "VGXwNxPxWQtk"
      }
    },
    {
      "cell_type": "code",
      "source": [
        "def primes(a, b):\n",
        "    \"\"\"Вернуть список простых чисел на отрезке от 'a' до 'b'.\"\"\"\n",
        "    res = []\n",
        "    c = 0\n",
        "    for i in range(a, b+1): #прибавить к b единицу, чтобы b включалось\n",
        "        for j in range(i+1): #также прибавить 1\n",
        "            if i % (j + 1) == 0:\n",
        "                c += 1\n",
        "        if c == 2: #неверная табуляция\n",
        "                res.append(i)\n",
        "        else: #вернуть с\n",
        "          c = 0\n",
        "\n",
        "    return res"
      ],
      "metadata": {
        "id": "iQRW6h_CVWiu"
      },
      "execution_count": 6,
      "outputs": []
    },
    {
      "cell_type": "code",
      "source": [
        "primes(13,19)"
      ],
      "metadata": {
        "colab": {
          "base_uri": "https://localhost:8080/"
        },
        "id": "x8tAhzLxV4jA",
        "outputId": "f7127f8e-27cd-4a17-bb82-2b7c71b5e55e"
      },
      "execution_count": 8,
      "outputs": [
        {
          "output_type": "execute_result",
          "data": {
            "text/plain": [
              "[13, 17, 19]"
            ]
          },
          "metadata": {},
          "execution_count": 8
        }
      ]
    },
    {
      "cell_type": "code",
      "source": [
        "help(primes)"
      ],
      "metadata": {
        "colab": {
          "base_uri": "https://localhost:8080/"
        },
        "id": "2iOeVpe6WJkb",
        "outputId": "94a2eb23-60f6-4c57-c7f1-ba7ef2203051"
      },
      "execution_count": 7,
      "outputs": [
        {
          "output_type": "stream",
          "name": "stdout",
          "text": [
            "Help on function primes in module __main__:\n",
            "\n",
            "primes(a, b)\n",
            "    Вернуть список простых чисел на отрезке от 'a' до 'b'.\n",
            "\n"
          ]
        }
      ]
    },
    {
      "cell_type": "markdown",
      "source": [
        "№ 7.2.3"
      ],
      "metadata": {
        "id": "JLqLZD3qWUqM"
      }
    },
    {
      "cell_type": "code",
      "source": [
        "def first_vacant_row(seats):\n",
        "    \"\"\"Вернуть первый ряд, в котором имеется больше всего\n",
        "    свободных мест и их количество.\n",
        "\n",
        "    Возвращаемая нумерация рядов с 1. Если свободных мест нет, вернуть 0, 0.\n",
        "\n",
        "    Параметры:\n",
        "        - seats (list of list): информация о проданных билетах\n",
        "                                (1 - продано, 0 - нет).\n",
        "\n",
        "    Результат:\n",
        "        - tuple (ряд, количество мест).\n",
        "    \"\"\"\n",
        "    max_count = 0\n",
        "    max_row = 0\n",
        "    for row_index, row in enumerate(seats, start = 1): #было пропущено start=1\n",
        "      available_seats_count = row.count(0) # 0 - пусто\n",
        "      if available_seats_count > max_count: #был неправильный знак\n",
        "        max_row = row_index\n",
        "        max_count = available_seats_count\n",
        "\n",
        "    return max_row, max_count"
      ],
      "metadata": {
        "id": "H6iRV_FbWNaf"
      },
      "execution_count": 9,
      "outputs": []
    },
    {
      "cell_type": "code",
      "source": [
        "import random\n",
        "random.seed(50)\n",
        "\n",
        "ROWS_MAX = 10\n",
        "SEATS_MAX = 5\n",
        "seats = [[random.randint(0, 1) for seat in range(SEATS_MAX)]\n",
        "                               for row in range(ROWS_MAX)]\n",
        "for seat in seats:\n",
        "  print(seat)\n",
        "print(first_vacant_row(seats))"
      ],
      "metadata": {
        "colab": {
          "base_uri": "https://localhost:8080/"
        },
        "id": "nmcveU4OW9LZ",
        "outputId": "4200e83b-79f6-45a2-a40f-5d3a32a006ee"
      },
      "execution_count": 12,
      "outputs": [
        {
          "output_type": "stream",
          "name": "stdout",
          "text": [
            "[1, 1, 1, 0, 1]\n",
            "[1, 0, 1, 0, 0]\n",
            "[0, 1, 0, 1, 1]\n",
            "[0, 0, 0, 1, 1]\n",
            "[0, 0, 1, 1, 0]\n",
            "[0, 1, 1, 1, 0]\n",
            "[0, 1, 1, 1, 0]\n",
            "[1, 0, 0, 1, 0]\n",
            "[1, 1, 0, 1, 1]\n",
            "[0, 1, 0, 0, 1]\n",
            "(2, 3)\n"
          ]
        }
      ]
    },
    {
      "cell_type": "code",
      "source": [
        "help(first_vacant_row)"
      ],
      "metadata": {
        "colab": {
          "base_uri": "https://localhost:8080/"
        },
        "id": "QSPl9YGIXY4_",
        "outputId": "d804a877-daba-427c-f14d-06912ff0b405"
      },
      "execution_count": 13,
      "outputs": [
        {
          "output_type": "stream",
          "name": "stdout",
          "text": [
            "Help on function first_vacant_row in module __main__:\n",
            "\n",
            "first_vacant_row(seats)\n",
            "    Вернуть первый ряд, в котором имеется больше всего\n",
            "    свободных мест и их количество.\n",
            "    \n",
            "    Возвращаемая нумерация рядов с 1. Если свободных мест нет, вернуть 0, 0.\n",
            "    \n",
            "    Параметры:\n",
            "        - seats (list of list): информация о проданных билетах\n",
            "                                (1 - продано, 0 - нет).\n",
            "    \n",
            "    Результат:\n",
            "        - tuple (ряд, количество мест).\n",
            "\n"
          ]
        }
      ]
    },
    {
      "cell_type": "markdown",
      "source": [
        "№ 7.2.4"
      ],
      "metadata": {
        "id": "ZM9zfc5RXVg_"
      }
    },
    {
      "cell_type": "code",
      "source": [
        "def min_pair(nums):\n",
        "    \"\"\"Вернуть минимальную сумму соседних 2-х чисел в списке 'nums'.\"\"\"\n",
        "    min1 = nums[0] * nums[1] #неверно задано имя\n",
        "    for i in range(-1, len(nums)): #неправильно задан промежуток\n",
        "        min1 = min(nums[i-1] + nums[i], min1)\n",
        "\n",
        "    return min1 "
      ],
      "metadata": {
        "id": "FjelKtpEXgIP"
      },
      "execution_count": 14,
      "outputs": []
    },
    {
      "cell_type": "code",
      "source": [
        "import random\n",
        "\n",
        "random.seed(50)\n",
        "\n",
        "N_MAX = 10\n",
        "RANGE_MIN = 1\n",
        "RANGE_MAX = 100\n",
        "nums = random.sample(range(RANGE_MIN, RANGE_MAX), N_MAX)\n",
        "\n",
        "print(nums)\n",
        "\n",
        "print(min_pair(nums))"
      ],
      "metadata": {
        "colab": {
          "base_uri": "https://localhost:8080/"
        },
        "id": "8NhoYkMPYE-W",
        "outputId": "ac67cb61-a81f-4943-db9e-6786637504d9"
      },
      "execution_count": 15,
      "outputs": [
        {
          "output_type": "stream",
          "name": "stdout",
          "text": [
            "[64, 35, 47, 82, 32, 89, 61, 99, 43, 11]\n",
            "54\n"
          ]
        }
      ]
    },
    {
      "cell_type": "code",
      "source": [
        "help(min_pair) "
      ],
      "metadata": {
        "colab": {
          "base_uri": "https://localhost:8080/"
        },
        "id": "nA7dDFoOYNFT",
        "outputId": "4a582151-5383-47c2-e02c-68b56dbb6f95"
      },
      "execution_count": 16,
      "outputs": [
        {
          "output_type": "stream",
          "name": "stdout",
          "text": [
            "Help on function min_pair in module __main__:\n",
            "\n",
            "min_pair(nums)\n",
            "    Вернуть минимальную сумму соседних 2-х чисел в списке 'nums'.\n",
            "\n"
          ]
        }
      ]
    },
    {
      "cell_type": "markdown",
      "source": [
        "№ 7.2.5"
      ],
      "metadata": {
        "id": "CZzw7iqtYVSX"
      }
    },
    {
      "cell_type": "code",
      "source": [
        "def non_negatives(nums):\n",
        "    \"\"\"Удалить из списка чисел 'nums' отрицательные элементы и вернуть\n",
        "    измененный список.\"\"\"\n",
        "    i = 0\n",
        "    try:\n",
        "        while i < len(nums):\n",
        "            if nums[i] < 0:\n",
        "                del nums[i]\n",
        "            else:\n",
        "                i += 1\n",
        "        return nums\n",
        "    except ValueError:\n",
        "        return"
      ],
      "metadata": {
        "id": "hmZ9WbFdYX6f"
      },
      "execution_count": 27,
      "outputs": []
    },
    {
      "cell_type": "code",
      "source": [
        "import random\n",
        "\n",
        "n = 10\n",
        "nums = [round(random.uniform(-10, 10), 2) for i in range(n)]\n",
        "print(nums)\n",
        "\n",
        "non_negatives(nums)\n",
        "print(nums)"
      ],
      "metadata": {
        "colab": {
          "base_uri": "https://localhost:8080/"
        },
        "id": "kC7yqVzQZZYa",
        "outputId": "1aa46bf2-985e-45ae-9d84-1a10c32c76dc"
      },
      "execution_count": 28,
      "outputs": [
        {
          "output_type": "stream",
          "name": "stdout",
          "text": [
            "[9.76, 7.86, -1.42, -8.22, 8.55, -8.72, 2.08, -3.31, 3.81, 6.66]\n",
            "[9.76, 7.86, 8.55, 2.08, 3.81, 6.66]\n"
          ]
        }
      ]
    },
    {
      "cell_type": "code",
      "source": [
        "help(non_negatives)"
      ],
      "metadata": {
        "colab": {
          "base_uri": "https://localhost:8080/"
        },
        "id": "6ytoioysZe9Q",
        "outputId": "5c4a0bc8-a912-49fe-8762-c2d138475c61"
      },
      "execution_count": 29,
      "outputs": [
        {
          "output_type": "stream",
          "name": "stdout",
          "text": [
            "Help on function non_negatives in module __main__:\n",
            "\n",
            "non_negatives(nums)\n",
            "    Удалить из списка чисел 'nums' отрицательные элементы и вернуть\n",
            "    измененный список.\n",
            "\n"
          ]
        }
      ]
    },
    {
      "cell_type": "markdown",
      "source": [
        "7.2.2. Обработка исключений и утверждения\n",
        "Программы 7.2.6-7.2.11 написаны верно, однако содержат места потенциальных ошибок.\n",
        "\n",
        "Для каждой задачи:\n",
        "\n",
        "найдите потенциальные источники ошибок (укажите номера строк в строке документации);\n",
        "\n",
        "используя конструкцию try добавьте в код обработку соответствующих исключений"
      ],
      "metadata": {
        "id": "NnVa5ROkbzB9"
      }
    },
    {
      "cell_type": "code",
      "source": [
        "def unemployment_rate(unemployed, employed):\n",
        "    \"\"\"Вернуть уровень безработицы (УБ) в долях 1.\n",
        "\n",
        "       Расчет по формуле: УБ = Безработные / (Занятые + Безработные).\n",
        "    \"\"\"\n",
        "try:\n",
        "  unemployed = int(input(\"Введите кол-во безработных (чел.): \"))\n",
        "  employed = int(input(\"Введите кол-во занятых (чел.): \"))\n",
        "  rate = unemployment_rate(unemployed, employed)\n",
        "  print(\"Уровень безработицы = {:.1%}\".format(rate))\n",
        "except Exception as err:\n",
        "  print(\"Ошибка\",err)\n",
        "  print(\"Тип\",type(err))\n",
        "  print(\"Описание\",err)\n"
      ],
      "metadata": {
        "colab": {
          "base_uri": "https://localhost:8080/"
        },
        "id": "5gBTNiM1b7BS",
        "outputId": "e1a256c0-d15a-4c74-da58-91bb3906a916"
      },
      "execution_count": 30,
      "outputs": [
        {
          "output_type": "stream",
          "name": "stdout",
          "text": [
            "Введите кол-во безработных (чел.): -1\n",
            "Введите кол-во занятых (чел.): -4\n",
            "Ошибка unsupported format string passed to NoneType.__format__\n",
            "Тип <class 'TypeError'>\n",
            "Описание unsupported format string passed to NoneType.__format__\n"
          ]
        }
      ]
    },
    {
      "cell_type": "code",
      "source": [
        "help(unemployment_rate)"
      ],
      "metadata": {
        "colab": {
          "base_uri": "https://localhost:8080/"
        },
        "id": "rWyY2m5YdC8a",
        "outputId": "898aa91d-6744-4512-ac36-6b051c674c2a"
      },
      "execution_count": 31,
      "outputs": [
        {
          "output_type": "stream",
          "name": "stdout",
          "text": [
            "Help on function unemployment_rate in module __main__:\n",
            "\n",
            "unemployment_rate(unemployed, employed)\n",
            "    Вернуть уровень безработицы (УБ) в долях 1.\n",
            "    \n",
            "    Расчет по формуле: УБ = Безработные / (Занятые + Безработные).\n",
            "\n"
          ]
        }
      ]
    },
    {
      "cell_type": "markdown",
      "source": [
        "№ 7.2.7"
      ],
      "metadata": {
        "id": "xJdZh9X1dE4f"
      }
    },
    {
      "cell_type": "code",
      "source": [
        "def power(x, y=2):\n",
        "    \"\"\"Вернуть x^y.\"\"\"\n",
        "    if y == 0:\n",
        "        return 1\n",
        "    else:\n",
        "        return x * power(x, y - 1)\n",
        "\n",
        "try:\n",
        "  x = int(input(\"x=\"))\n",
        "  y = int(input(\"y=\"))\n",
        "  print(power(x, y))\n",
        "except ValueError as err:\n",
        "  print(\"Ошибка\",err,\"проверить вводимые числа\")"
      ],
      "metadata": {
        "colab": {
          "base_uri": "https://localhost:8080/"
        },
        "id": "RcFSntyMdNkY",
        "outputId": "2f157238-4afd-47c7-f892-7250f1e9f483"
      },
      "execution_count": 32,
      "outputs": [
        {
          "output_type": "stream",
          "name": "stdout",
          "text": [
            "x=9\n",
            "y=0\n",
            "1\n"
          ]
        }
      ]
    },
    {
      "cell_type": "markdown",
      "source": [
        "№ 7.2.8"
      ],
      "metadata": {
        "id": "V15OcHNPd0MN"
      }
    },
    {
      "cell_type": "code",
      "source": [
        "\"\"\" Дан список ФИО. Найти наиболее часто встречаемое отчество.\n",
        "Если отчества нет, человек не учитывается в подсчете.\"\"\"\n",
        "\n",
        "try:\n",
        "  n = int(input(\"Введите кол-во человек: \"))\n",
        "\n",
        "  middle_names = {}\n",
        "  for i in range(n):\n",
        "      fio = input(\"Введите ФИО через пробел: \").split()\n",
        "      if len(fio) == 3:\n",
        "        middle_name = fio[2]\n",
        "        middle_names[middle_name] = middle_names.get(middle_name, 0) + 1\n",
        "      else:\n",
        "        n -= 1\n",
        "except ValueError:\n",
        "  print(\"неправильный ввод данных\")"
      ],
      "metadata": {
        "colab": {
          "base_uri": "https://localhost:8080/"
        },
        "id": "CNisHBPdd38L",
        "outputId": "ba697af5-4298-4f01-fa99-fa951180a77e"
      },
      "execution_count": 36,
      "outputs": [
        {
          "name": "stdout",
          "output_type": "stream",
          "text": [
            "Введите кол-во человек: 3\n",
            "Введите ФИО через пробел: а б в\n",
            "Введите ФИО через пробел: к г в\n",
            "Введите ФИО через пробел: д к\n"
          ]
        }
      ]
    },
    {
      "cell_type": "code",
      "source": [
        "print(sorted(middle_names.items(), key=lambda item: item[1])[-1][0])\n",
        "print(\"В расчете участвовало человек:\", n)"
      ],
      "metadata": {
        "colab": {
          "base_uri": "https://localhost:8080/"
        },
        "id": "b-yRfYpFeyI2",
        "outputId": "169b2c30-f233-4e0c-8785-406bfaacfcca"
      },
      "execution_count": 37,
      "outputs": [
        {
          "output_type": "stream",
          "name": "stdout",
          "text": [
            "в\n",
            "В расчете участвовало человек: 2\n"
          ]
        }
      ]
    },
    {
      "cell_type": "markdown",
      "source": [
        "№ 7.2.9"
      ],
      "metadata": {
        "id": "7fua2l-rfRhE"
      }
    },
    {
      "cell_type": "code",
      "source": [
        "def f(x):\n",
        "    \"\"\"Вернуть значение функции.\n",
        "\n",
        "    Функция не обрабатывает исключения.\n",
        "    \"\"\"\n",
        "    return x**2 / (x + 2) - 3\n",
        "\n",
        "try:\n",
        "  k = int(input(\"Введите границу интервала [-k; k]: \"))\n",
        "  h = float(input(\"Введите шаг табуляции: \"))\n",
        "except Exception as err:\n",
        "    print(\"Ошибка:\", err)\n",
        "    print(\"Тип\", type(err))\n",
        "    print(\"Описание:\", err)\n",
        "\n",
        "x = -k\n",
        "print(\"{:>10} {:>10}\".format(\"x\", \"f(x)\"))\n",
        "while x <= k:\n",
        "\n",
        "    try:\n",
        "      print(\"{:10.2f} {:10.2f}\".format(x, f(x)))\n",
        "    except:\n",
        "      print(\"{:10.2f} {:>10s}\".format(x, \" - \"))\n",
        "    x += h"
      ],
      "metadata": {
        "colab": {
          "base_uri": "https://localhost:8080/"
        },
        "id": "mKOojKM7fT6D",
        "outputId": "cbb5ccf8-22ff-4077-b66a-e0a842337912"
      },
      "execution_count": 11,
      "outputs": [
        {
          "output_type": "stream",
          "name": "stdout",
          "text": [
            "Введите границу интервала [-k; k]: 5\n",
            "Введите шаг табуляции: 0,5\n",
            "Ошибка: could not convert string to float: '0,5'\n",
            "Тип <class 'ValueError'>\n",
            "Описание: could not convert string to float: '0,5'\n",
            "         x       f(x)\n",
            "     -5.00     -11.33\n",
            "     -4.00     -11.00\n",
            "     -3.00     -12.00\n",
            "     -2.00         - \n",
            "     -1.00      -2.00\n",
            "      0.00      -3.00\n",
            "      1.00      -2.67\n",
            "      2.00      -2.00\n",
            "      3.00      -1.20\n",
            "      4.00      -0.33\n",
            "      5.00       0.57\n"
          ]
        }
      ]
    },
    {
      "cell_type": "code",
      "source": [
        "help(f)"
      ],
      "metadata": {
        "colab": {
          "base_uri": "https://localhost:8080/"
        },
        "id": "fcBGENOLhd1E",
        "outputId": "02f2e668-2680-457b-8807-566d1213e407"
      },
      "execution_count": 3,
      "outputs": [
        {
          "output_type": "stream",
          "name": "stdout",
          "text": [
            "Help on function f in module __main__:\n",
            "\n",
            "f(x)\n",
            "    Вернуть значение функции.\n",
            "    \n",
            "    Функция не обрабатывает исключения.\n",
            "\n"
          ]
        }
      ]
    }
  ]
}