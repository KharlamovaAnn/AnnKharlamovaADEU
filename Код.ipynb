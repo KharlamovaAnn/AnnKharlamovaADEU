{
  "nbformat": 4,
  "nbformat_minor": 0,
  "metadata": {
    "colab": {
      "provenance": [],
      "authorship_tag": "ABX9TyOx4TzIqAiKwIanTvjN03KB",
      "include_colab_link": true
    },
    "kernelspec": {
      "name": "python3",
      "display_name": "Python 3"
    },
    "language_info": {
      "name": "python"
    }
  },
  "cells": [
    {
      "cell_type": "markdown",
      "metadata": {
        "id": "view-in-github",
        "colab_type": "text"
      },
      "source": [
        "<a href=\"https://colab.research.google.com/github/KharlamovaAnn/AnnKharlamovaADEU/blob/main/%D0%9A%D0%BE%D0%B4.ipynb\" target=\"_parent\"><img src=\"https://colab.research.google.com/assets/colab-badge.svg\" alt=\"Open In Colab\"/></a>"
      ]
    },
    {
      "cell_type": "code",
      "execution_count": 7,
      "metadata": {
        "colab": {
          "base_uri": "https://localhost:8080/"
        },
        "id": "dY50pixrdSBV",
        "outputId": "ebfabc35-2361-46b9-8bdc-46ed55f8113a"
      },
      "outputs": [
        {
          "name": "stdout",
          "output_type": "stream",
          "text": [
            "введите количество строк 1 матрицы2\n",
            "введите количество столбцов 1 матрицы2\n",
            "введите строку1 1\n",
            "введите строку1 1\n",
            "введите количество строк 2 матрицы2\n",
            "введите количество столбцов 2 матрицы2\n",
            "введите строку2 2\n",
            "введите строку2 2\n"
          ]
        }
      ],
      "source": [
        "n=int(input(\"введите количество строк 1 матрицы\"))\n",
        "m=int(input(\"введите количество столбцов 1 матрицы\"))\n",
        "name=[]\n",
        "for i in range(n):#создается матрица 1\n",
        "  name.append(list(map(int, input(\"введите строку\").split())))\n",
        "n2=int(input(\"введите количество строк 2 матрицы\"))\n",
        "m2=int(input(\"введите количество столбцов 2 матрицы\"))\n",
        "name2=[]\n",
        "for i in range(n2):#создаётся матрица 2\n",
        "  name2.append(list(map(int, input(\"введите строку\").split())))"
      ]
    },
    {
      "cell_type": "code",
      "source": [
        "if m==m2 and n==n2:\n",
        "  R=[]\n",
        "  t=[]\n",
        "  s=0\n",
        "  for i in range(0,n):\n",
        "    for j in range(0,m2):\n",
        "        s=s+name[i][j]+name2[i][j]\n",
        "        t.append(s)\n",
        "        s=0\n",
        "    R.append(t)\n",
        "    t=[]\n",
        "  for i in R:#выводит список в виде матрицы\n",
        "    print(i)\n",
        "    \n",
        "else:\n",
        "  print(\"невозможно сложить матрицы\")"
      ],
      "metadata": {
        "colab": {
          "base_uri": "https://localhost:8080/"
        },
        "id": "9caZAwDEdUlq",
        "outputId": "12de8805-8e2f-4ca3-a164-3aea636492a1"
      },
      "execution_count": 8,
      "outputs": [
        {
          "output_type": "stream",
          "name": "stdout",
          "text": [
            "[3, 3]\n",
            "[3, 3]\n"
          ]
        }
      ]
    }
  ]
}